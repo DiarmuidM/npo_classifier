{
 "cells": [
  {
   "cell_type": "code",
   "execution_count": 4,
   "metadata": {},
   "outputs": [],
   "source": [
    "import pandas as pd\n",
    "\n",
    "trainDF = pd.concat([pd.read_pickle('../../data/raw_data/MasterData_2015.pkl.gz'),\n",
    "                    pd.read_pickle('../../data/raw_data/MasterData_2014.pkl.gz'),\n",
    "                    pd.read_pickle('../../data/raw_data/MasterData_2013.pkl.gz'),\n",
    "                    pd.read_pickle('../../data/raw_data/MasterData_2012.pkl.gz')])\n",
    "                                   \n",
    "trainDF = trainDF[trainDF.TEXT.notna() & trainDF.NTEE.notna()]\n",
    "trainDF['text'] = trainDF['TEXT'].astype(str)\n",
    "trainDF['label'] = trainDF['NTEE'].astype(str)\n",
    "\n",
    "trainDF = trainDF.drop(['NTEE', 'IRS_URL', 'TEXT'], axis=1)"
   ]
  },
  {
   "cell_type": "code",
   "execution_count": 5,
   "metadata": {},
   "outputs": [
    {
     "name": "stdout",
     "output_type": "stream",
     "text": [
      "              EIN                      TEXTTYPE  YEAR  \\\n",
      "21924   352046656         activityormissiondesc  2015   \n",
      "45522   352046656         activityormissiondesc  2015   \n",
      "251693  352046656         activityormissiondesc  2014   \n",
      "95279   352046656  activityormissiondescription  2013   \n",
      "66972   352046656  activityormissiondescription  2012   \n",
      "\n",
      "                                                     text label  \n",
      "21924   TO ADVANCE, PROMOTE, AND SUPPORT STUDIES AND R...     V  \n",
      "45522   TO ADVANCE, PROMOTE, AND SUPPORT STUDIES AND R...     V  \n",
      "251693  TO ADVANCE, PROMOTE, AND SUPPORT STUDIES AND R...     V  \n",
      "95279   TO ADVANCE, PROMOTE, AND SUPPORT STUDIES AND R...     X  \n",
      "66972   TO ADVANCE, PROMOTE, AND SUPPORT STUDIES AND R...     X  \n"
     ]
    }
   ],
   "source": [
    "textt = \"TO ADVANCE, PROMOTE, AND SUPPORT STUDIES AND RESEARCH OF THE SOCIAL, ECONOMICAL, POLITICAL, SOCIOLOGICAL, AND RELIGIOUS TRADITIONS OF THE ERA DURING WHICH JESUS LIVED AND CARRIED OUT HIS MINISTRY.\"\n",
    "print(trainDF[trainDF['text']==textt])"
   ]
  },
  {
   "cell_type": "code",
   "execution_count": null,
   "metadata": {},
   "outputs": [],
   "source": []
  }
 ],
 "metadata": {
  "kernelspec": {
   "display_name": "Python 3",
   "language": "python",
   "name": "python3"
  },
  "language_info": {
   "codemirror_mode": {
    "name": "ipython",
    "version": 3
   },
   "file_extension": ".py",
   "mimetype": "text/x-python",
   "name": "python",
   "nbconvert_exporter": "python",
   "pygments_lexer": "ipython3",
   "version": "3.6.0"
  }
 },
 "nbformat": 4,
 "nbformat_minor": 2
}
