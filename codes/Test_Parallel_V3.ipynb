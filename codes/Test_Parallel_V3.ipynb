{
 "cells": [
  {
   "cell_type": "code",
   "execution_count": 1,
   "metadata": {},
   "outputs": [
    {
     "name": "stderr",
     "output_type": "stream",
     "text": [
      "/Users/Rushi/anaconda/lib/python3.6/site-packages/IPython/core/interactiveshell.py:3018: DtypeWarning: Columns (1,2,3,4,6,9,12,14,20,22,29,30,31,69,73,87,95,102,120,141) have mixed types. Specify dtype option on import or set low_memory=False.\n",
      "  interactivity=interactivity, compiler=compiler, result=result)\n",
      "/Users/Rushi/anaconda/lib/python3.6/site-packages/ipykernel_launcher.py:23: SettingWithCopyWarning: \n",
      "A value is trying to be set on a copy of a slice from a DataFrame.\n",
      "Try using .loc[row_indexer,col_indexer] = value instead\n",
      "\n",
      "See the caveats in the documentation: http://pandas.pydata.org/pandas-docs/stable/indexing.html#indexing-view-versus-copy\n"
     ]
    },
    {
     "name": "stdout",
     "output_type": "stream",
     "text": [
      "34551798\n",
      "27977621\n"
     ]
    }
   ],
   "source": [
    "import pandas as pd\n",
    "import re, requests, string\n",
    "from bs4 import BeautifulSoup as bs\n",
    "import os\n",
    "\n",
    "#use regex instead of beautifulsoup, if possible.\n",
    "\n",
    "year_list = [2015, 2014, 2013, 2012, 2011]\n",
    "year = year_list[0]\n",
    "\n",
    "#Step 1. Get [EIN, URL] from IRS\n",
    "irsfile = pd.read_json('https://s3.amazonaws.com/irs-form-990/index_'+str(year)+'.json')\n",
    "ein_url=list(map(list, zip(*[[s['EIN'] for s in irsfile['Filings'+str(year)]], [s['URL'] for s in irsfile['Filings'+str(year)]]])))\n",
    "df_irs = pd.DataFrame(ein_url, columns=['EIN', 'URL'])\n",
    "\n",
    "\n",
    "#Step 2. Get [EIN, NTEE1] from NCCS\n",
    "df_nccs1 = pd.read_csv('https://nccs-data.urban.org/data/core/'+str(year)+'/nccs.core'+str(year)+'pc.csv')\n",
    "df_nccs = df_nccs1[['EIN', 'NTEE1']]\n",
    "\n",
    "\n",
    "#Step 3. Get common URL from df_irs and df_nccs and make corresponding list of [EIN, URL, NTEE1]\n",
    "df_nccs['EIN'] = df_nccs['EIN'].apply(str)\n",
    "df_inter = pd.DataFrame(pd.merge(df_nccs, df_irs, how='outer', on=['EIN']), columns=['EIN','NTEE1','URL'])\n",
    "\n",
    "\n",
    "#file size limit on Github - 100 MB\n",
    "df_inter.to_pickle('link'+str(year)+'.pickle')\n",
    "\n",
    "#Deleting dataframes\n",
    "del irsfile, ein_url, df_irs, df_nccs1, df_nccs, df_inter\n",
    "\n",
    "\n",
    "#Getting file sizes by providing path to the files.\n",
    "print(os.path.getsize(\"/Users/Rushi/Documents/GRAFall2018/Codes/link2015.pickle\"))\n",
    "print(os.path.getsize(\"/Users/Rushi/Documents/GRAFall2018/Codes/link2015.csv\"))\n"
   ]
  },
  {
   "cell_type": "code",
   "execution_count": null,
   "metadata": {},
   "outputs": [],
   "source": []
  }
 ],
 "metadata": {
  "kernelspec": {
   "display_name": "Python 3",
   "language": "python",
   "name": "python3"
  },
  "language_info": {
   "codemirror_mode": {
    "name": "ipython",
    "version": 3
   },
   "file_extension": ".py",
   "mimetype": "text/x-python",
   "name": "python",
   "nbconvert_exporter": "python",
   "pygments_lexer": "ipython3",
   "version": "3.6.0"
  }
 },
 "nbformat": 4,
 "nbformat_minor": 2
}
