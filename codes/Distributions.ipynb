{
 "cells": [
  {
   "cell_type": "code",
   "execution_count": 2,
   "metadata": {},
   "outputs": [
    {
     "data": {
      "text/html": [
       "<table>\n",
       "<tbody>\n",
       "<tr><td style=\"text-align: right;\">0</td><td>NTEE2015</td><td>IRS_URL2015</td><td>TEXTTYPE2015</td><td>DataDrame2015</td><td>#Organizations2015</td></tr>\n",
       "<tr><td style=\"text-align: right;\">1</td><td>Yes     </td><td>Yes        </td><td>Yes         </td><td>YYY          </td><td>155585            </td></tr>\n",
       "<tr><td style=\"text-align: right;\">2</td><td>Yes     </td><td>Yes        </td><td>No          </td><td>YYN          </td><td>86100             </td></tr>\n",
       "<tr><td style=\"text-align: right;\">3</td><td>Yes     </td><td>No         </td><td>No          </td><td>YNN          </td><td>274437            </td></tr>\n",
       "<tr><td style=\"text-align: right;\">4</td><td>No      </td><td>Yes        </td><td>Yes         </td><td>NYY          </td><td>41698             </td></tr>\n",
       "<tr><td style=\"text-align: right;\">5</td><td>No      </td><td>Yes        </td><td>No          </td><td>NYN          </td><td>62999             </td></tr>\n",
       "<tr><td style=\"text-align: right;\">6</td><td>No      </td><td>No         </td><td>No          </td><td>NNN          </td><td>0                 </td></tr>\n",
       "</tbody>\n",
       "</table>"
      ],
      "text/plain": [
       "<IPython.core.display.HTML object>"
      ]
     },
     "metadata": {},
     "output_type": "display_data"
    },
    {
     "data": {
      "text/html": [
       "<table>\n",
       "<tbody>\n",
       "<tr><td style=\"text-align: right;\">0</td><td>NTEE2014</td><td>IRS_URL2014</td><td>TEXTTYPE2014</td><td>DataDrame2014</td><td>#Organizations2014</td></tr>\n",
       "<tr><td style=\"text-align: right;\">1</td><td>Yes     </td><td>Yes        </td><td>Yes         </td><td>YYY          </td><td>134342            </td></tr>\n",
       "<tr><td style=\"text-align: right;\">2</td><td>Yes     </td><td>Yes        </td><td>No          </td><td>YYN          </td><td>70486             </td></tr>\n",
       "<tr><td style=\"text-align: right;\">3</td><td>Yes     </td><td>No         </td><td>No          </td><td>YNN          </td><td>216779            </td></tr>\n",
       "<tr><td style=\"text-align: right;\">4</td><td>No      </td><td>Yes        </td><td>Yes         </td><td>NYY          </td><td>63305             </td></tr>\n",
       "<tr><td style=\"text-align: right;\">5</td><td>No      </td><td>Yes        </td><td>No          </td><td>NYN          </td><td>93781             </td></tr>\n",
       "<tr><td style=\"text-align: right;\">6</td><td>No      </td><td>No         </td><td>No          </td><td>NNN          </td><td>0                 </td></tr>\n",
       "</tbody>\n",
       "</table>"
      ],
      "text/plain": [
       "<IPython.core.display.HTML object>"
      ]
     },
     "metadata": {},
     "output_type": "display_data"
    },
    {
     "data": {
      "text/html": [
       "<table>\n",
       "<tbody>\n",
       "<tr><td style=\"text-align: right;\">0</td><td>NTEE2013</td><td>IRS_URL2013</td><td>TEXTTYPE2013</td><td>DataDrame2013</td><td>#Organizations2013</td></tr>\n",
       "<tr><td style=\"text-align: right;\">1</td><td>Yes     </td><td>Yes        </td><td>Yes         </td><td>YYY          </td><td>103064            </td></tr>\n",
       "<tr><td style=\"text-align: right;\">2</td><td>Yes     </td><td>Yes        </td><td>No          </td><td>YYN          </td><td>51401             </td></tr>\n",
       "<tr><td style=\"text-align: right;\">3</td><td>Yes     </td><td>No         </td><td>No          </td><td>YNN          </td><td>228122            </td></tr>\n",
       "<tr><td style=\"text-align: right;\">4</td><td>No      </td><td>Yes        </td><td>Yes         </td><td>NYY          </td><td>46851             </td></tr>\n",
       "<tr><td style=\"text-align: right;\">5</td><td>No      </td><td>Yes        </td><td>No          </td><td>NYN          </td><td>54792             </td></tr>\n",
       "<tr><td style=\"text-align: right;\">6</td><td>No      </td><td>No         </td><td>No          </td><td>NNN          </td><td>0                 </td></tr>\n",
       "</tbody>\n",
       "</table>"
      ],
      "text/plain": [
       "<IPython.core.display.HTML object>"
      ]
     },
     "metadata": {},
     "output_type": "display_data"
    },
    {
     "data": {
      "text/html": [
       "<table>\n",
       "<tbody>\n",
       "<tr><td style=\"text-align: right;\">0</td><td>NTEE2012</td><td>IRS_URL2012</td><td>TEXTTYPE2012</td><td>DataDrame2012</td><td>#Organizations2012</td></tr>\n",
       "<tr><td style=\"text-align: right;\">1</td><td>Yes     </td><td>Yes        </td><td>Yes         </td><td>YYY          </td><td>97028             </td></tr>\n",
       "<tr><td style=\"text-align: right;\">2</td><td>Yes     </td><td>Yes        </td><td>No          </td><td>YYN          </td><td>48267             </td></tr>\n",
       "<tr><td style=\"text-align: right;\">3</td><td>Yes     </td><td>No         </td><td>No          </td><td>YNN          </td><td>228299            </td></tr>\n",
       "<tr><td style=\"text-align: right;\">4</td><td>No      </td><td>Yes        </td><td>Yes         </td><td>NYY          </td><td>45990             </td></tr>\n",
       "<tr><td style=\"text-align: right;\">5</td><td>No      </td><td>Yes        </td><td>No          </td><td>NYN          </td><td>62854             </td></tr>\n",
       "<tr><td style=\"text-align: right;\">6</td><td>No      </td><td>No         </td><td>No          </td><td>NNN          </td><td>0                 </td></tr>\n",
       "</tbody>\n",
       "</table>"
      ],
      "text/plain": [
       "<IPython.core.display.HTML object>"
      ]
     },
     "metadata": {},
     "output_type": "display_data"
    }
   ],
   "source": [
    "%matplotlib inline\n",
    "\n",
    "import matplotlib.pyplot as plt\n",
    "import pandas as pd\n",
    "from IPython.display import HTML, display\n",
    "import tabulate\n",
    "\n",
    "plt.rcParams['figure.figsize'] = [27, 13]\n",
    "years = [2015, 2014, 2013, 2012]\n",
    "#fig, axes = plt.subplots(nrows=4, ncols=4)\n",
    "\n",
    "for i in range(0,4):\n",
    "    \n",
    "    year = years[i]    \n",
    "    df_dist = pd.read_pickle('../data/'+str(year)+'/MasterData_'+str(year)+'.pkl.gz')\n",
    "    \n",
    "    #     NTEE  IRS_URL  TEXTTYPE   :  DataFrame\n",
    "\n",
    "    #     Yes      Yes     Yes    :   YYY\n",
    "    #     Yes      Yes     No     :   YYN\n",
    "    #     Yes      No      No     :   YNN\n",
    "    #     No      Yes      Yes    :   NYY\n",
    "    #     No      Yes      No     :   NYN\n",
    "    #     No       No      No     :   NNN [Doesn't Exist in this dataset]\n",
    "\n",
    "    #Keeping in mind that one organization may have more than one rows depending on number of tags found\n",
    "    #If proportion of organizations is to be measured, drop_duplicates('EIN') must be implemeted.\n",
    "\n",
    "    YYY = df_dist[(df_dist.NTEE.notna()) & (df_dist.IRS_URL.notna()) & (df_dist.TEXTTYPE.notna())]\n",
    "    YYN = df_dist[(df_dist.NTEE.notna()) & (df_dist.IRS_URL.notna()) & (df_dist.TEXTTYPE.isna())]\n",
    "    YNN = df_dist[(df_dist.NTEE.notna()) & (df_dist.IRS_URL.isna()) & (df_dist.TEXTTYPE.isna())]\n",
    "    NYY = df_dist[(df_dist.NTEE.isna()) & (df_dist.IRS_URL.notna()) & (df_dist.TEXTTYPE.notna())]\n",
    "    NYN = df_dist[(df_dist.NTEE.isna()) & (df_dist.IRS_URL.notna()) & (df_dist.TEXTTYPE.isna())]\n",
    "    NYN = df_dist[(df_dist.NTEE.isna()) & (df_dist.IRS_URL.notna()) & (df_dist.TEXTTYPE.isna())]\n",
    "    \n",
    "    Stats = pd.DataFrame([[\"NTEE\"+str(year),\"IRS_URL\"+str(year),\"TEXTTYPE\"+str(year), \"DataDrame\"+str(year), \"#Organizations\"+str(year)],\n",
    "             [\"Yes\",\"Yes\",\"Yes\", \"YYY\", len(YYY.drop_duplicates('EIN'))],\n",
    "             [\"Yes\",\"Yes\",\"No\", \"YYN\", len(YYN.drop_duplicates('EIN'))],\n",
    "             [\"Yes\",\"No\",\"No\", \"YNN\", len(YNN.drop_duplicates('EIN'))],\n",
    "             [\"No\",\"Yes\",\"Yes\", \"NYY\", len(NYY.drop_duplicates('IRS_URL'))],\n",
    "             [\"No\",\"Yes\",\"No\", \"NYN\", len(NYN.drop_duplicates('IRS_URL'))],\n",
    "             [\"No\",\"No\",\"No\", \"NNN\", 0]], columns= [\"NTEE\",\"IRS_URL\",\"TEXTTYPE\", \"DataDrame\", \"#Organizations\"])\n",
    "\n",
    "    display(HTML(tabulate.tabulate(Stats, tablefmt='html')))\n",
    "    '''\n",
    "    #Organizations' distributions based on categories\n",
    "    All_CatData = pd.concat([YYY, YYN, YNN]).drop_duplicates('EIN')\n",
    "    Org_Cat = pd.DataFrame(All_CatData['NTEE'])\n",
    "    Dist_Cat = Org_Cat.apply(pd.value_counts).sort_index().plot(kind='bar', ax=axes[0,i]); axes[0,i].set_title('AllNTEE'+str(year));\n",
    "\n",
    "    #Organizations' distributions based on categories with URLs and Text\n",
    "    Org_CatURL = pd.DataFrame(YYY.drop_duplicates('EIN')['NTEE'])\n",
    "    Dist_CatURL = Org_CatURL.apply(pd.value_counts).sort_index().plot(kind='bar', ax=axes[1,i]); axes[1,i].set_title('YYY'+str(year));\n",
    "\n",
    "    #Organizations' distribution based on URLs with missing Text\n",
    "    #Includes those with NTEE and IRS_URL, but no Text found on sites from primary tag search.\n",
    "    Cat_MissingTXT = pd.DataFrame(YYN.drop_duplicates('EIN')['NTEE'])\n",
    "    Dist_CatMissingTXT = Cat_MissingTXT.apply(pd.value_counts).sort_index().plot(kind='bar', ax=axes[2,i]); axes[2,i].set_title('YYN'+str(year));\n",
    "\n",
    "    #Organizations' distribution based on missing URLs \n",
    "    #Includes those with NTEE but no IRS_URL\n",
    "    Cat_MissingURL = pd.DataFrame(YNN.drop_duplicates('EIN')['NTEE'])\n",
    "    Dist_CatMissingURL = Cat_MissingURL.apply(pd.value_counts).sort_index().plot(kind='bar', ax=axes[3,i]); axes[3,i].set_title('YNN'+str(year));\n",
    "    '''\n"
   ]
  },
  {
   "cell_type": "code",
   "execution_count": 24,
   "metadata": {},
   "outputs": [
    {
     "data": {
      "image/png": "[encoded data removed]",
      "text/plain": [
       "<matplotlib.figure.Figure at 0x122130e80>"
      ]
     },
     "metadata": {},
     "output_type": "display_data"
    }
   ],
   "source": [
    "%matplotlib inline\n",
    "\n",
    "import matplotlib.pyplot as plt\n",
    "import pandas as pd\n",
    "from IPython.display import HTML, display\n",
    "import matplotlib.ticker as mtick\n",
    "from matplotlib.ticker import FuncFormatter\n",
    "\n",
    "plt.style.use('ggplot')\n",
    "plt.rcParams['figure.figsize'] = [27, 13]\n",
    "years = [2015, 2014, 2013, 2012]\n",
    "positions = [-1.5, -0.5, 0.5, 1.5]\n",
    "#fig, axes = plt.subplots(nrows=4, ncols=4)\n",
    "fig, ax = plt.subplots()\n",
    "\n",
    "for i in range(0,4):\n",
    "    \n",
    "    year = years[i]    \n",
    "    df_dist = pd.read_pickle('../data/'+str(year)+'/MasterData_'+str(year)+'.pkl.gz')\n",
    "    \n",
    "    #     NTEE | IRS_URL | TEXTTYPE |  DataFrame\n",
    "    #   ---------------------------------------- \n",
    "    #     Yes  |    Yes  |    Yes    |   YYY\n",
    "    #     Yes  |    Yes  |    No     |   YYN\n",
    "    #     Yes  |    No   |    No     |   YNN\n",
    "    #     No   |   Yes   |    Yes    |   NYY\n",
    "    #     No   |   Yes   |    No     |   NYN\n",
    "    #     No   |    No   |    No     |   NNN [Doesn't Exist in this dataset]\n",
    "\n",
    "    #Keeping in mind that one organization may have more than one rows depending on number of tags found\n",
    "    #If proportion of organizations is to be measured, drop_duplicates('EIN') must be implemeted.\n",
    "\n",
    "    YYY = df_dist[(df_dist.NTEE.notna()) & (df_dist.IRS_URL.notna()) & (df_dist.TEXTTYPE.notna())]\n",
    "    YYN = df_dist[(df_dist.NTEE.notna()) & (df_dist.IRS_URL.notna()) & (df_dist.TEXTTYPE.isna())]\n",
    "    YNN = df_dist[(df_dist.NTEE.notna()) & (df_dist.IRS_URL.isna()) & (df_dist.TEXTTYPE.isna())]\n",
    "    NYY = df_dist[(df_dist.NTEE.isna()) & (df_dist.IRS_URL.notna()) & (df_dist.TEXTTYPE.notna())]\n",
    "    NYN = df_dist[(df_dist.NTEE.isna()) & (df_dist.IRS_URL.notna()) & (df_dist.TEXTTYPE.isna())]\n",
    "    NYN = df_dist[(df_dist.NTEE.isna()) & (df_dist.IRS_URL.notna()) & (df_dist.TEXTTYPE.isna())]\n",
    "    \n",
    "    #print(year, \": NYY\", len(NYY), \", NYN: \", len(NYN))\n",
    "    total_URL = len(df_dist[df_dist.IRS_URL.notna()].drop_duplicates('IRS_URL'))\n",
    "    total_ORG = len(df_dist.drop_duplicates('EIN'))   \n",
    "\n",
    "    Org_CatURL = pd.DataFrame(YYY.drop_duplicates('EIN')['NTEE'])  \n",
    "    Dist_CatURL = Org_CatURL.apply(pd.value_counts).sort_index()\n",
    "    \n",
    "    Cat_MissingTXT = pd.DataFrame(YYN.drop_duplicates('EIN')['NTEE'])\n",
    "    Dist_CatMissingTXT = Cat_MissingTXT.apply(pd.value_counts).sort_index()\n",
    "    \n",
    "    Cat_MissingURL = pd.DataFrame(YNN.drop_duplicates('EIN')['NTEE'])\n",
    "    Dist_CatMissingURL = Cat_MissingURL.apply(pd.value_counts).sort_index()\n",
    "    \n",
    "    df = pd.DataFrame()\n",
    "    df['YYY'] = Dist_CatURL['NTEE']\n",
    "    df['YYN'] = Dist_CatMissingTXT['NTEE']\n",
    "    df['YNN'] = Dist_CatMissingURL['NTEE']\n",
    "    \n",
    "    df[['YYY','YYN','YNN']].plot.bar(stacked=True, log=True,label = False,#YlGnBu\n",
    "                                        width=0.2, position=positions[i], colormap=\"YlGnBu\", ax=ax, alpha=0.7)\n",
    "    \n",
    "\n",
    "\n",
    "#formatter = FuncFormatter(lambda y, pos: \"%d%%\" % (y))\n",
    "#ax.yaxis.set_major_formatter(formatter)\n",
    "#plt.axes().set_aspect('equal', 'datalim')\n",
    "plt.xlabel(\"NTEE Code\")\n",
    "plt.ylabel(\"Organizations\")\n",
    "#plt.yscale(\"log\")\n",
    "plt.legend(loc=\"upper right\")\n",
    "plt.show()\n",
    "fig.savefig('Dist_YlGnBu.png', bbox_inches='tight')\n",
    "#df2 = df.groupby(['Name', 'Abuse/NFF'])['Name'].count().unstack('Abuse/NFF').fillna(0)\n",
    "#df2[['abuse','nff']].plot(kind='bar', stacked=True)"
   ]
  },
  {
   "cell_type": "code",
   "execution_count": null,
   "metadata": {},
   "outputs": [],
   "source": []
  }
 ],
 "metadata": {
  "kernelspec": {
   "display_name": "Python 3",
   "language": "python",
   "name": "python3"
  },
  "language_info": {
   "codemirror_mode": {
    "name": "ipython",
    "version": 3
   },
   "file_extension": ".py",
   "mimetype": "text/x-python",
   "name": "python",
   "nbconvert_exporter": "python",
   "pygments_lexer": "ipython3",
   "version": "3.6.0"
  }
 },
 "nbformat": 4,
 "nbformat_minor": 2
}
