{
 "cells": [
  {
   "cell_type": "code",
   "execution_count": 51,
   "metadata": {},
   "outputs": [],
   "source": [
    "import tensorflow as tf\n",
    "import tensorflow_hub as hub\n",
    "import matplotlib.pyplot as plt\n",
    "import numpy as np\n",
    "import os\n",
    "import pandas as pd\n",
    "import re\n",
    "import seaborn as sns\n",
    "\n",
    "#to-do list\n",
    "#1. Record the amount of time a classifier takes: start(timestamp) - end(timestamp), put it in .pkl.gz\n",
    "\n",
    "#Observations:\n",
    "# 1. RF gives highest accuracy, but takes a lot of time to train: 25 minutes and 15 minutes\n",
    "# 2. Neural Network is weakest\n",
    "# 3. NB gives satisfactory results within a minute.\n",
    "\n",
    "trainDF = pd.concat([pd.read_pickle('../../data/2015/MasterData_2015.pkl.gz'),\n",
    "                    pd.read_pickle('../../data/2014/MasterData_2014.pkl.gz'),\n",
    "                    pd.read_pickle('../../data/2013/MasterData_2013.pkl.gz'),\n",
    "                    pd.read_pickle('../../data/2012/MasterData_2012.pkl.gz')])\n",
    "                                   \n",
    "trainDF = trainDF[trainDF.TEXT.notna() & trainDF.NTEE.notna()]\n",
    "trainDF['text'] = trainDF['TEXT'].astype(str)\n",
    "trainDF['label'] = trainDF['NTEE'].astype(str)\n",
    "trainDF['category'] = (trainDF['NTEE'].apply(ord)-64).astype('float32')\n",
    "\n",
    "#To remove error Unsupported feed type from tf\n",
    "#print(type(trainDF['category'].values[0]))"
   ]
  },
  {
   "cell_type": "code",
   "execution_count": 52,
   "metadata": {},
   "outputs": [],
   "source": [
    "trainDF = trainDF.drop(['EIN', 'NTEE', 'IRS_URL', 'TEXT','TEXTTYPE', 'YEAR', 'label'], axis=1)\n",
    "train_df, test_df = np.split(trainDF, [int(.7*len(trainDF))])\n",
    "\n",
    "#tf.logging.set_verbosity(tf.logging.ERROR)\n"
   ]
  },
  {
   "cell_type": "code",
   "execution_count": 53,
   "metadata": {},
   "outputs": [],
   "source": [
    "# Training input on the whole training set with no limit on training epochs.\n",
    "train_input_fn = tf.estimator.inputs.pandas_input_fn(\n",
    "    train_df, train_df['category'], num_epochs=None, shuffle=True)\n",
    "\n",
    "# Prediction on the whole training set.\n",
    "predict_train_input_fn = tf.estimator.inputs.pandas_input_fn(\n",
    "    train_df, train_df['category'], shuffle=False)\n",
    "# Prediction on the test set.\n",
    "predict_test_input_fn = tf.estimator.inputs.pandas_input_fn(\n",
    "    test_df, test_df['category'], shuffle=False)"
   ]
  },
  {
   "cell_type": "code",
   "execution_count": 65,
   "metadata": {},
   "outputs": [
    {
     "name": "stdout",
     "output_type": "stream",
     "text": [
      "{'average_loss': 24.739607, 'label/mean': 10.442828, 'loss': 3166.2363, 'prediction/mean': 10.821727, 'global_step': 100000}\n",
      "{'average_loss': 29.57418, 'label/mean': 10.4608135, 'loss': 3783.683, 'prediction/mean': 10.893915, 'global_step': 100000}\n",
      "<generator object Estimator.predict at 0x1581c5888>\n",
      "<generator object Estimator.predict at 0x1320a9bf8>\n"
     ]
    }
   ],
   "source": [
    "#Token based text embedding trained on English Google News 200B corpus.\n",
    "embedded_text_feature_column = hub.text_embedding_column(\n",
    "    key=\"text\", \n",
    "    module_spec=\"https://tfhub.dev/google/nnlm-en-dim128/1\")\n",
    "\n",
    "\n",
    "#DNN Regressor - for multiclass classifier, Use DNNClassifier for binaru classification.\n",
    "estimator = tf.estimator.DNNRegressor(\n",
    "    hidden_units=[500, 100],\n",
    "    feature_columns=[embedded_text_feature_column],\n",
    "#    optimizer=lambda: tf.AdamOptimizer(\n",
    "#        learning_rate=tf.exponential_decay(\n",
    "#            learning_rate=0.1,\n",
    "#            global_step=tf.get_global_step(),\n",
    "#            decay_steps=10000,\n",
    "#            decay_rate=0.96))\n",
    "\n",
    "   optimizer=tf.train.ProximalAdagradOptimizer(\n",
    "      learning_rate=0.1,\n",
    "      l1_regularization_strength=0.001))\n",
    "\n",
    "\n",
    "# Training for 1,000 steps means 128,000 training examples with the default\n",
    "# batch size. This is roughly equivalent to 5 epochs since the training dataset\n",
    "# contains 25,000 examples. 365390\n",
    "    \n",
    "estimator.train(input_fn=train_input_fn, steps=100000);\n",
    "\n",
    "train_eval_result = estimator.evaluate(input_fn=predict_train_input_fn)\n",
    "test_eval_result = estimator.evaluate(input_fn=predict_test_input_fn)\n",
    "\n",
    "train_pred_result = estimator.predict(input_fn=predict_train_input_fn)\n",
    "test_pred_result = estimator.predict(input_fn=predict_test_input_fn)\n",
    "\n",
    "print(train_eval_result)\n",
    "print(test_eval_result)\n",
    "    \n",
    "print(train_pred_result)\n",
    "print(test_pred_result)"
   ]
  }
 ],
 "metadata": {
  "kernelspec": {
   "display_name": "Python 3",
   "language": "python",
   "name": "python3"
  },
  "language_info": {
   "codemirror_mode": {
    "name": "ipython",
    "version": 3
   },
   "file_extension": ".py",
   "mimetype": "text/x-python",
   "name": "python",
   "nbconvert_exporter": "python",
   "pygments_lexer": "ipython3",
   "version": "3.6.0"
  }
 },
 "nbformat": 4,
 "nbformat_minor": 2
}
