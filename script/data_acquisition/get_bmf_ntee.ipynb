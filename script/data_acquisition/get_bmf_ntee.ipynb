{
 "cells": [
  {
   "cell_type": "markdown",
   "metadata": {},
   "source": [
    "### Script Purpose\n",
    "- Get BMF file 2014-16 from NCCS.\n",
    "- Use only A confidence level records.\n",
    "- Drop organizations that changed their NTEE codes between 14-16."
   ]
  },
  {
   "cell_type": "code",
   "execution_count": 1,
   "metadata": {},
   "outputs": [],
   "source": [
    "import pandas as pd\n",
    "import requests\n",
    "from tqdm import tqdm\n",
    "import math\n",
    "from irsx.xmlrunner import XMLRunner\n",
    "xml_runner = XMLRunner()\n",
    "import os\n",
    "\n",
    "import warnings\n",
    "warnings.filterwarnings('ignore')"
   ]
  },
  {
   "cell_type": "code",
   "execution_count": 2,
   "metadata": {},
   "outputs": [],
   "source": [
    "df_bmf_1608=pd.read_csv('https://nccs-data.urban.org/data/bmf/2016/bmf.bm1608.csv')\n",
    "df_bmf_1512=pd.read_csv('https://nccs-data.urban.org/data/bmf/2015/bmf.bm1512.csv')\n",
    "df_bmf_1412=pd.read_csv('https://nccs-data.urban.org/data/bmf/2014/bmf.bm1412.csv')\n",
    "df_bmf_1608['YR_MO']=1608\n",
    "df_bmf_1512['YR_MO']=1512\n",
    "df_bmf_1412['YR_MO']=1412"
   ]
  },
  {
   "cell_type": "code",
   "execution_count": 3,
   "metadata": {},
   "outputs": [],
   "source": [
    "df_bmf_14_16=pd.concat([df_bmf_1608, df_bmf_1412, df_bmf_1512], ignore_index=True)\n",
    "df_bmf_14_16.loc[df_bmf_14_16[df_bmf_14_16.nteeConf=='a'].index, 'nteeConf']='A' # Correct erroneous records 'a'.\n",
    "df_bmf_14_16_confA=df_bmf_14_16[df_bmf_14_16.nteeConf=='A'] # Select A confidence level records."
   ]
  },
  {
   "cell_type": "code",
   "execution_count": 4,
   "metadata": {},
   "outputs": [
    {
     "data": {
      "text/plain": [
       "nteeConf\n",
       "A    0.561196\n",
       "B    0.373232\n",
       "C    0.065553\n",
       "Name: EIN, dtype: float64"
      ]
     },
     "execution_count": 4,
     "metadata": {},
     "output_type": "execute_result"
    }
   ],
   "source": [
    "df_bmf_14_16.groupby('nteeConf').count()['EIN']/len(df_bmf_14_16)"
   ]
  },
  {
   "cell_type": "code",
   "execution_count": 5,
   "metadata": {},
   "outputs": [
    {
     "data": {
      "text/html": [
       "<div>\n",
       "<style scoped>\n",
       "    .dataframe tbody tr th:only-of-type {\n",
       "        vertical-align: middle;\n",
       "    }\n",
       "\n",
       "    .dataframe tbody tr th {\n",
       "        vertical-align: top;\n",
       "    }\n",
       "\n",
       "    .dataframe thead th {\n",
       "        text-align: right;\n",
       "    }\n",
       "</style>\n",
       "<table border=\"1\" class=\"dataframe\">\n",
       "  <thead>\n",
       "    <tr style=\"text-align: right;\">\n",
       "      <th></th>\n",
       "      <th>EIN</th>\n",
       "      <th>FIPS</th>\n",
       "      <th>NTEECC</th>\n",
       "      <th>FILER</th>\n",
       "      <th>ZFILER</th>\n",
       "      <th>NAME</th>\n",
       "      <th>ADDRESS</th>\n",
       "      <th>CITY</th>\n",
       "      <th>STATE</th>\n",
       "      <th>ZIP5</th>\n",
       "      <th>...</th>\n",
       "      <th>czFiler</th>\n",
       "      <th>cTaxPer</th>\n",
       "      <th>cAssets</th>\n",
       "      <th>cTotRev</th>\n",
       "      <th>cFinSrc</th>\n",
       "      <th>EPOST</th>\n",
       "      <th>FISYR_IMAGE</th>\n",
       "      <th>IRS990n</th>\n",
       "      <th>NAICS</th>\n",
       "      <th>YR_MO</th>\n",
       "    </tr>\n",
       "  </thead>\n",
       "  <tbody>\n",
       "    <tr>\n",
       "      <th>3177192</th>\n",
       "      <td>133511640</td>\n",
       "      <td>36061.0</td>\n",
       "      <td>B90</td>\n",
       "      <td>Y</td>\n",
       "      <td>N</td>\n",
       "      <td>AMERICAN REGIONS MATHEMATICS LEAGUE INC</td>\n",
       "      <td>241 CENTRAL PARK WEST</td>\n",
       "      <td>NEW YORK</td>\n",
       "      <td>NY</td>\n",
       "      <td>10024</td>\n",
       "      <td>...</td>\n",
       "      <td>N</td>\n",
       "      <td>201412.0</td>\n",
       "      <td>147132.0</td>\n",
       "      <td>300506.0</td>\n",
       "      <td>bmf1512c3</td>\n",
       "      <td>Z</td>\n",
       "      <td>2014.0</td>\n",
       "      <td>0</td>\n",
       "      <td>611710.0</td>\n",
       "      <td>1512</td>\n",
       "    </tr>\n",
       "    <tr>\n",
       "      <th>3728044</th>\n",
       "      <td>364651294</td>\n",
       "      <td>54049.0</td>\n",
       "      <td>G25</td>\n",
       "      <td>N</td>\n",
       "      <td>N</td>\n",
       "      <td>STATE OF WEST VIRGINIA WEST VIRGINIA UNIVERSITY</td>\n",
       "      <td>586 MODS RUN RD</td>\n",
       "      <td>MANNINGTON</td>\n",
       "      <td>WV</td>\n",
       "      <td>26582</td>\n",
       "      <td>...</td>\n",
       "      <td>N</td>\n",
       "      <td>NaN</td>\n",
       "      <td>NaN</td>\n",
       "      <td>NaN</td>\n",
       "      <td>NaN</td>\n",
       "      <td>Z</td>\n",
       "      <td>NaN</td>\n",
       "      <td>0</td>\n",
       "      <td>813212.0</td>\n",
       "      <td>1512</td>\n",
       "    </tr>\n",
       "    <tr>\n",
       "      <th>2814054</th>\n",
       "      <td>742573896</td>\n",
       "      <td>48051.0</td>\n",
       "      <td>J40</td>\n",
       "      <td>Y</td>\n",
       "      <td>Y</td>\n",
       "      <td>TEXAS EXTENSION EDUCATION ASSOCIATION</td>\n",
       "      <td>PO BOX 125</td>\n",
       "      <td>SNOOK</td>\n",
       "      <td>TX</td>\n",
       "      <td>77878</td>\n",
       "      <td>...</td>\n",
       "      <td>Y</td>\n",
       "      <td>201312.0</td>\n",
       "      <td>NaN</td>\n",
       "      <td>NaN</td>\n",
       "      <td>submaster990n</td>\n",
       "      <td>Z</td>\n",
       "      <td>NaN</td>\n",
       "      <td>1</td>\n",
       "      <td>813930.0</td>\n",
       "      <td>1412</td>\n",
       "    </tr>\n",
       "    <tr>\n",
       "      <th>2434927</th>\n",
       "      <td>460518624</td>\n",
       "      <td>48157.0</td>\n",
       "      <td>P40</td>\n",
       "      <td>Y</td>\n",
       "      <td>Y</td>\n",
       "      <td>MOMS CLUB</td>\n",
       "      <td>2823 COTTON STOCK DR</td>\n",
       "      <td>SUGAR LAND</td>\n",
       "      <td>TX</td>\n",
       "      <td>77479</td>\n",
       "      <td>...</td>\n",
       "      <td>Y</td>\n",
       "      <td>201306.0</td>\n",
       "      <td>NaN</td>\n",
       "      <td>NaN</td>\n",
       "      <td>submaster990n</td>\n",
       "      <td>Z</td>\n",
       "      <td>NaN</td>\n",
       "      <td>1</td>\n",
       "      <td>624100.0</td>\n",
       "      <td>1412</td>\n",
       "    </tr>\n",
       "    <tr>\n",
       "      <th>3707820</th>\n",
       "      <td>363322126</td>\n",
       "      <td>46081.0</td>\n",
       "      <td>X21</td>\n",
       "      <td>N</td>\n",
       "      <td>N</td>\n",
       "      <td>ST JOHNS EPISCOPAL CHURCH ENDOWMENT TRUST</td>\n",
       "      <td>PO BOX 130</td>\n",
       "      <td>DEADWOOD</td>\n",
       "      <td>SD</td>\n",
       "      <td>57732</td>\n",
       "      <td>...</td>\n",
       "      <td>N</td>\n",
       "      <td>NaN</td>\n",
       "      <td>NaN</td>\n",
       "      <td>NaN</td>\n",
       "      <td>NaN</td>\n",
       "      <td>Z</td>\n",
       "      <td>NaN</td>\n",
       "      <td>0</td>\n",
       "      <td>813110.0</td>\n",
       "      <td>1512</td>\n",
       "    </tr>\n",
       "  </tbody>\n",
       "</table>\n",
       "<p>5 rows × 50 columns</p>\n",
       "</div>"
      ],
      "text/plain": [
       "               EIN     FIPS NTEECC FILER ZFILER  \\\n",
       "3177192  133511640  36061.0    B90     Y      N   \n",
       "3728044  364651294  54049.0    G25     N      N   \n",
       "2814054  742573896  48051.0    J40     Y      Y   \n",
       "2434927  460518624  48157.0    P40     Y      Y   \n",
       "3707820  363322126  46081.0    X21     N      N   \n",
       "\n",
       "                                                    NAME  \\\n",
       "3177192          AMERICAN REGIONS MATHEMATICS LEAGUE INC   \n",
       "3728044  STATE OF WEST VIRGINIA WEST VIRGINIA UNIVERSITY   \n",
       "2814054            TEXAS EXTENSION EDUCATION ASSOCIATION   \n",
       "2434927                                        MOMS CLUB   \n",
       "3707820        ST JOHNS EPISCOPAL CHURCH ENDOWMENT TRUST   \n",
       "\n",
       "                       ADDRESS        CITY STATE   ZIP5  ...    czFiler  \\\n",
       "3177192  241 CENTRAL PARK WEST    NEW YORK    NY  10024  ...          N   \n",
       "3728044        586 MODS RUN RD  MANNINGTON    WV  26582  ...          N   \n",
       "2814054             PO BOX 125       SNOOK    TX  77878  ...          Y   \n",
       "2434927   2823 COTTON STOCK DR  SUGAR LAND    TX  77479  ...          Y   \n",
       "3707820             PO BOX 130    DEADWOOD    SD  57732  ...          N   \n",
       "\n",
       "          cTaxPer   cAssets   cTotRev        cFinSrc  EPOST  FISYR_IMAGE  \\\n",
       "3177192  201412.0  147132.0  300506.0      bmf1512c3      Z       2014.0   \n",
       "3728044       NaN       NaN       NaN            NaN      Z          NaN   \n",
       "2814054  201312.0       NaN       NaN  submaster990n      Z          NaN   \n",
       "2434927  201306.0       NaN       NaN  submaster990n      Z          NaN   \n",
       "3707820       NaN       NaN       NaN            NaN      Z          NaN   \n",
       "\n",
       "         IRS990n     NAICS  YR_MO  \n",
       "3177192        0  611710.0   1512  \n",
       "3728044        0  813212.0   1512  \n",
       "2814054        1  813930.0   1412  \n",
       "2434927        1  624100.0   1412  \n",
       "3707820        0  813110.0   1512  \n",
       "\n",
       "[5 rows x 50 columns]"
      ]
     },
     "execution_count": 5,
     "metadata": {},
     "output_type": "execute_result"
    }
   ],
   "source": [
    "df_bmf_14_16_confA.sample(5)"
   ]
  },
  {
   "cell_type": "markdown",
   "metadata": {},
   "source": [
    "**Drop organizations that changed their NTEE codes between 14-16.**"
   ]
  },
  {
   "cell_type": "code",
   "execution_count": 6,
   "metadata": {},
   "outputs": [
    {
     "name": "stdout",
     "output_type": "stream",
     "text": [
      "[0, 1, 2, 3, 4, 5, 6, 7, 8, 9, 10, 11, 12, 13, 14, 15, 16, 17, 18, 19, 20, 21, 22, 23, 24, 25, 26, 27, 28, 29, 30, 31, 32, 33, 34, 35, 36, 37, 38, 39]\n"
     ]
    }
   ],
   "source": [
    "import ipyparallel as ipp\n",
    "c = ipp.Client()\n",
    "print(c.ids)\n",
    "dview = c[:]"
   ]
  },
  {
   "cell_type": "code",
   "execution_count": 7,
   "metadata": {},
   "outputs": [],
   "source": [
    "dview.execute('import pandas as pd')\n",
    "dview['df_bmf_14_16_confA']=df_bmf_14_16_confA\n",
    "dview['df_bmf_14_16_confA_ntee_chg']=pd.DataFrame()"
   ]
  },
  {
   "cell_type": "code",
   "execution_count": 8,
   "metadata": {},
   "outputs": [],
   "source": [
    "# Orgs changed their NTEE codes.\n",
    "@dview.parallel(block=True)\n",
    "def ntee_chg(ein):\n",
    "    global df_bmf_14_16_confA, df_bmf_14_16_confA_ntee_chg\n",
    "    ntee1_list=df_bmf_14_16_confA[df_bmf_14_16_confA.EIN==ein]['NTEE1']\n",
    "    if len(set(ntee1_list))!=1:\n",
    "        df_bmf_14_16_confA_ntee_chg=pd.concat([df_bmf_14_16_confA_ntee_chg, \n",
    "                                               df_bmf_14_16_confA[df_bmf_14_16_confA.EIN==ein]]\n",
    "                                             )"
   ]
  },
  {
   "cell_type": "code",
   "execution_count": 9,
   "metadata": {},
   "outputs": [],
   "source": [
    "t=ntee_chg.map(df_bmf_14_16_confA.EIN.unique())"
   ]
  },
  {
   "cell_type": "code",
   "execution_count": 15,
   "metadata": {},
   "outputs": [
    {
     "data": {
      "text/html": [
       "<div>\n",
       "<style scoped>\n",
       "    .dataframe tbody tr th:only-of-type {\n",
       "        vertical-align: middle;\n",
       "    }\n",
       "\n",
       "    .dataframe tbody tr th {\n",
       "        vertical-align: top;\n",
       "    }\n",
       "\n",
       "    .dataframe thead th {\n",
       "        text-align: right;\n",
       "    }\n",
       "</style>\n",
       "<table border=\"1\" class=\"dataframe\">\n",
       "  <thead>\n",
       "    <tr style=\"text-align: right;\">\n",
       "      <th></th>\n",
       "      <th>EIN</th>\n",
       "      <th>YR_MO</th>\n",
       "      <th>NTEE1</th>\n",
       "    </tr>\n",
       "  </thead>\n",
       "  <tbody>\n",
       "    <tr>\n",
       "      <th>65</th>\n",
       "      <td>10063430</td>\n",
       "      <td>1608</td>\n",
       "      <td>C</td>\n",
       "    </tr>\n",
       "    <tr>\n",
       "      <th>1584662</th>\n",
       "      <td>10063430</td>\n",
       "      <td>1412</td>\n",
       "      <td>Y</td>\n",
       "    </tr>\n",
       "    <tr>\n",
       "      <th>3081824</th>\n",
       "      <td>10063430</td>\n",
       "      <td>1512</td>\n",
       "      <td>Y</td>\n",
       "    </tr>\n",
       "    <tr>\n",
       "      <th>113</th>\n",
       "      <td>10132625</td>\n",
       "      <td>1608</td>\n",
       "      <td>U</td>\n",
       "    </tr>\n",
       "    <tr>\n",
       "      <th>1584710</th>\n",
       "      <td>10132625</td>\n",
       "      <td>1412</td>\n",
       "      <td>Y</td>\n",
       "    </tr>\n",
       "  </tbody>\n",
       "</table>\n",
       "</div>"
      ],
      "text/plain": [
       "              EIN  YR_MO NTEE1\n",
       "65       10063430   1608     C\n",
       "1584662  10063430   1412     Y\n",
       "3081824  10063430   1512     Y\n",
       "113      10132625   1608     U\n",
       "1584710  10132625   1412     Y"
      ]
     },
     "execution_count": 15,
     "metadata": {},
     "output_type": "execute_result"
    }
   ],
   "source": [
    "df_bmf_14_16_confA_ntee_chg=pd.concat(dview.gather('df_bmf_14_16_confA_ntee_chg'), ignore_index=False)\n",
    "df_bmf_14_16_confA_ntee_chg[['EIN', 'YR_MO', 'NTEE1']].head(5)"
   ]
  },
  {
   "cell_type": "code",
   "execution_count": 16,
   "metadata": {},
   "outputs": [],
   "source": [
    "dview['ein_drop_list']=df_bmf_14_16_confA_ntee_chg.EIN.unique()\n",
    "dview['df_bmf_14_16_confA_chg_drop']=pd.DataFrame()"
   ]
  },
  {
   "cell_type": "code",
   "execution_count": 17,
   "metadata": {},
   "outputs": [],
   "source": [
    "@dview.parallel(block=True)\n",
    "def func_ntee_chg_drop(ein):\n",
    "    global df_bmf_14_16_confA_chg_drop, df_bmf_14_16_confA\n",
    "    if ein not in ein_drop_list:\n",
    "        df_bmf_14_16_confA_chg_drop=pd.concat([df_bmf_14_16_confA_chg_drop, \n",
    "                                               df_bmf_14_16_confA[df_bmf_14_16_confA.EIN==ein]\n",
    "                                              ])"
   ]
  },
  {
   "cell_type": "code",
   "execution_count": 18,
   "metadata": {},
   "outputs": [],
   "source": [
    "t=func_ntee_chg_drop.map(df_bmf_14_16_confA.EIN.unique())"
   ]
  },
  {
   "cell_type": "code",
   "execution_count": 19,
   "metadata": {},
   "outputs": [],
   "source": [
    "df_bmf_14_16_confA_chg_drop=pd.concat(dview.gather('df_bmf_14_16_confA_chg_drop')).sort_index()"
   ]
  },
  {
   "cell_type": "code",
   "execution_count": 24,
   "metadata": {},
   "outputs": [
    {
     "data": {
      "text/plain": [
       "2548479"
      ]
     },
     "execution_count": 24,
     "metadata": {},
     "output_type": "execute_result"
    }
   ],
   "source": [
    "len(df_bmf_14_16_confA_chg_drop)"
   ]
  },
  {
   "cell_type": "code",
   "execution_count": 23,
   "metadata": {},
   "outputs": [],
   "source": [
    "df_to_write=df_bmf_14_16_confA_chg_drop\n",
    "num_file=4\n",
    "file_path_name='../../dataset/df_bmf_14_16_confA_chg_drop.pkl.gz/df_bmf_14_16_confA_chg_drop.pkl.gz'\n",
    "for index in range(0, df_to_write.iloc[-1].name+1, math.ceil(df_to_write.iloc[-1].name/num_file)):\n",
    "    df_temp=df_to_write.loc[index:index+math.ceil(df_to_write.iloc[-1].name/num_file)-1]\n",
    "    df_temp.to_pickle(file_path_name+'-'+str(df_temp.iloc[0].name)+'-'+str(df_temp.iloc[-1].name), compression='gzip')"
   ]
  },
  {
   "cell_type": "code",
   "execution_count": 26,
   "metadata": {},
   "outputs": [
    {
     "data": {
      "text/plain": [
       "2548479"
      ]
     },
     "execution_count": 26,
     "metadata": {},
     "output_type": "execute_result"
    }
   ],
   "source": [
    "# Test reading file.\n",
    "import os\n",
    "file_list=os.listdir('../../dataset/df_bmf_14_16_confA_chg_drop.pkl.gz/')\n",
    "df_test=pd.DataFrame()\n",
    "for file in file_list:\n",
    "    df_test=pd.concat([df_test, \n",
    "                       pd.read_pickle('../../dataset/df_bmf_14_16_confA_chg_drop.pkl.gz/'+file, compression='gzip')])\n",
    "len(df_test)"
   ]
  },
  {
   "cell_type": "markdown",
   "metadata": {},
   "source": [
    "**Done with data acquisition, see how many changed.**"
   ]
  },
  {
   "cell_type": "code",
   "execution_count": 20,
   "metadata": {},
   "outputs": [],
   "source": [
    "df_bmf_14_16_confA_chg_drop=pd.DataFrame()\n",
    "for file in os.listdir('../../dataset/df_bmf_14_16_confA_chg_drop.pkl.gz/'):\n",
    "    df_bmf_14_16_confA_chg_drop=pd.concat([df_bmf_14_16_confA_chg_drop,\n",
    "                                           pd.read_pickle('../../dataset/df_bmf_14_16_confA_chg_drop.pkl.gz/'+file, compression='gzip')\n",
    "                                          ])"
   ]
  },
  {
   "cell_type": "code",
   "execution_count": 23,
   "metadata": {},
   "outputs": [
    {
     "data": {
      "text/plain": [
       "911423"
      ]
     },
     "execution_count": 23,
     "metadata": {},
     "output_type": "execute_result"
    }
   ],
   "source": [
    "[len(df_bmf_14_16_confA_chg_drop.EIN.unique()), \n",
    " len(df_bmf_14_16_confA), \n",
    " len(df_bmf_14_16_confA_chg_drop.EIN.unique())/len(df_bmf_14_16_confA)\n",
    " 1-len(df_bmf_14_16_confA_chg_drop.EIN.unique())/len(df_bmf_14_16_confA)\n",
    "]"
   ]
  },
  {
   "cell_type": "code",
   "execution_count": 44,
   "metadata": {},
   "outputs": [
    {
     "data": {
      "text/plain": [
       "(101045, 960315)"
      ]
     },
     "execution_count": 44,
     "metadata": {},
     "output_type": "execute_result"
    }
   ],
   "source": [
    "len(df_bmf_14_16_confA.EIN.unique())\n",
    "# ~1.76% Changed their NTEE codes between 2014-2016. Drop these records since we have no idea on exactly when these codes were changed."
   ]
  },
  {
   "cell_type": "code",
   "execution_count": 45,
   "metadata": {},
   "outputs": [
    {
     "data": {
      "text/plain": [
       "(977566, 960315)"
      ]
     },
     "execution_count": 45,
     "metadata": {},
     "output_type": "execute_result"
    }
   ],
   "source": [
    "len(df_bmf_14_16_confA[['EIN', 'NTEE1']].drop_duplicates()), len(df_bmf_14_16_confA.EIN.unique())\n",
    "# ~1.76% Changed their NTEE codes between 2014-2016. Drop these records since we have no idea on exactly when these codes were changed."
   ]
  },
  {
   "cell_type": "code",
   "execution_count": 40,
   "metadata": {},
   "outputs": [],
   "source": [
    "df_bmf_14_16_confA_rm_chg=df_bmf_14_16_confA.loc[df_bmf_14_16_confA[['EIN', 'NTEE1']].drop_duplicates(keep=False).index]"
   ]
  },
  {
   "cell_type": "code",
   "execution_count": 43,
   "metadata": {},
   "outputs": [
    {
     "data": {
      "text/plain": [
       "(199801, 214947)"
      ]
     },
     "execution_count": 43,
     "metadata": {},
     "output_type": "execute_result"
    }
   ],
   "source": [
    "len(df_bmf_14_16_confA_rm_chg[['EIN', 'NTEE1']].drop_duplicates(keep=False)), len(df_bmf_14_16_confA_rm_chg)"
   ]
  },
  {
   "cell_type": "code",
   "execution_count": 14,
   "metadata": {},
   "outputs": [
    {
     "data": {
      "text/plain": [
       "(1792488, 4633436)"
      ]
     },
     "execution_count": 14,
     "metadata": {},
     "output_type": "execute_result"
    }
   ],
   "source": [
    "len(df_bmf_14_16[['EIN', 'NTEE1', 'nteeConf']].drop_duplicates()), len(df_bmf_14_16[['EIN', 'NTEE1', 'nteeConf', 'YR_MO']].drop_duplicates())"
   ]
  }
 ],
 "metadata": {
  "kernelspec": {
   "display_name": "Python 3",
   "language": "python",
   "name": "python3"
  },
  "language_info": {
   "codemirror_mode": {
    "name": "ipython",
    "version": 3
   },
   "file_extension": ".py",
   "mimetype": "text/x-python",
   "name": "python",
   "nbconvert_exporter": "python",
   "pygments_lexer": "ipython3",
   "version": "3.7.0"
  }
 },
 "nbformat": 4,
 "nbformat_minor": 2
}
