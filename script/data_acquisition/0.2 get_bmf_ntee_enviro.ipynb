{
 "cells": [
  {
   "cell_type": "markdown",
   "metadata": {},
   "source": [
    "### Script Purpose\n",
    "- Get BMF file 2014-16 from NCCS.\n",
    "- Use only A confidence level records.\n",
    "- Drop organizations that changed their NTEE codes between 14-16."
   ]
  },
  {
   "cell_type": "code",
   "execution_count": 1,
   "metadata": {},
   "outputs": [],
   "source": [
    "import pandas as pd\n",
    "import requests\n",
    "from tqdm import tqdm\n",
    "import math\n",
    "from irsx.xmlrunner import XMLRunner\n",
    "xml_runner = XMLRunner()\n",
    "import os\n",
    "\n",
    "import warnings\n",
    "warnings.filterwarnings('ignore')"
   ]
  },
  {
   "cell_type": "code",
   "execution_count": 2,
   "metadata": {},
   "outputs": [],
   "source": [
    "df_bmf_1608=pd.read_csv('https://nccs-data.urban.org/data/bmf/2016/bmf.bm1608.csv')\n",
    "df_bmf_1512=pd.read_csv('https://nccs-data.urban.org/data/bmf/2015/bmf.bm1512.csv')\n",
    "df_bmf_1412=pd.read_csv('https://nccs-data.urban.org/data/bmf/2014/bmf.bm1412.csv')\n",
    "df_bmf_1608['YR_MO']=1608\n",
    "df_bmf_1512['YR_MO']=1512\n",
    "df_bmf_1412['YR_MO']=1412"
   ]
  },
  {
   "cell_type": "code",
   "execution_count": 3,
   "metadata": {},
   "outputs": [],
   "source": [
    "df_bmf_14_16=pd.concat([df_bmf_1608, df_bmf_1412, df_bmf_1512], ignore_index=True)\n",
    "df_bmf_14_16.loc[df_bmf_14_16[df_bmf_14_16.nteeConf=='a'].index, 'nteeConf']='A' # Correct erroneous records 'a'.\n",
    "df_bmf_14_16_confA=df_bmf_14_16[df_bmf_14_16.nteeConf=='A'] # Select A confidence level records."
   ]
  },
  {
   "cell_type": "code",
   "execution_count": 6,
   "metadata": {},
   "outputs": [],
   "source": [
    "df_bmf_14_16.to_pickle('../../dataset/intermediary/df_bmf_14_16.pkl.gz', compression='gzip')"
   ]
  },
  {
   "cell_type": "code",
   "execution_count": null,
   "metadata": {},
   "outputs": [],
   "source": []
  },
  {
   "cell_type": "markdown",
   "metadata": {},
   "source": [
    "df_bmf_14_16.groupby('nteeConf').count()['EIN']/len(df_bmf_14_16)"
   ]
  },
  {
   "cell_type": "markdown",
   "metadata": {},
   "source": [
    "df_bmf_14_16_confA.sample(5)"
   ]
  },
  {
   "cell_type": "markdown",
   "metadata": {},
   "source": [
    "**Drop organizations that changed their NTEE codes between 14-16.**"
   ]
  },
  {
   "cell_type": "markdown",
   "metadata": {},
   "source": [
    "import ipyparallel as ipp\n",
    "c = ipp.Client()\n",
    "print(c.ids)\n",
    "dview = c[:]"
   ]
  },
  {
   "cell_type": "markdown",
   "metadata": {},
   "source": [
    "dview.execute('import pandas as pd')\n",
    "dview['df_bmf_14_16_confA']=df_bmf_14_16_confA\n",
    "dview['df_bmf_14_16_confA_ntee_chg']=pd.DataFrame()"
   ]
  },
  {
   "cell_type": "markdown",
   "metadata": {},
   "source": [
    "# Orgs changed their NTEE codes.\n",
    "@dview.parallel(block=True)\n",
    "def ntee_chg(ein):\n",
    "    global df_bmf_14_16_confA, df_bmf_14_16_confA_ntee_chg\n",
    "    ntee1_list=df_bmf_14_16_confA[df_bmf_14_16_confA.EIN==ein]['NTEE1']\n",
    "    if len(set(ntee1_list))!=1:\n",
    "        df_bmf_14_16_confA_ntee_chg=pd.concat([df_bmf_14_16_confA_ntee_chg, \n",
    "                                               df_bmf_14_16_confA[df_bmf_14_16_confA.EIN==ein]]\n",
    "                                             )"
   ]
  },
  {
   "cell_type": "markdown",
   "metadata": {},
   "source": [
    "t=ntee_chg.map(df_bmf_14_16_confA.EIN.unique())"
   ]
  },
  {
   "cell_type": "markdown",
   "metadata": {},
   "source": [
    "df_bmf_14_16_confA_ntee_chg=pd.concat(dview.gather('df_bmf_14_16_confA_ntee_chg'), ignore_index=False)\n",
    "df_bmf_14_16_confA_ntee_chg[['EIN', 'YR_MO', 'NTEE1']].head(5)"
   ]
  },
  {
   "cell_type": "markdown",
   "metadata": {},
   "source": [
    "dview['ein_drop_list']=df_bmf_14_16_confA_ntee_chg.EIN.unique()\n",
    "dview['df_bmf_14_16_confA_chg_drop']=pd.DataFrame()"
   ]
  },
  {
   "cell_type": "markdown",
   "metadata": {},
   "source": [
    "@dview.parallel(block=True)\n",
    "def func_ntee_chg_drop(ein):\n",
    "    global df_bmf_14_16_confA_chg_drop, df_bmf_14_16_confA\n",
    "    if ein not in ein_drop_list:\n",
    "        df_bmf_14_16_confA_chg_drop=pd.concat([df_bmf_14_16_confA_chg_drop, \n",
    "                                               df_bmf_14_16_confA[df_bmf_14_16_confA.EIN==ein]\n",
    "                                              ])"
   ]
  },
  {
   "cell_type": "markdown",
   "metadata": {},
   "source": [
    "t=func_ntee_chg_drop.map(df_bmf_14_16_confA.EIN.unique())"
   ]
  },
  {
   "cell_type": "markdown",
   "metadata": {},
   "source": [
    "df_bmf_14_16_confA_chg_drop=pd.concat(dview.gather('df_bmf_14_16_confA_chg_drop')).sort_index()"
   ]
  },
  {
   "cell_type": "markdown",
   "metadata": {},
   "source": [
    "len(df_bmf_14_16_confA_chg_drop)"
   ]
  },
  {
   "cell_type": "markdown",
   "metadata": {},
   "source": [
    "df_to_write=df_bmf_14_16_confA_chg_drop\n",
    "num_file=4\n",
    "file_path_name='../../dataset/df_bmf_14_16_confA_chg_drop.pkl.gz/df_bmf_14_16_confA_chg_drop.pkl.gz'\n",
    "for index in range(0, df_to_write.iloc[-1].name+1, math.ceil(df_to_write.iloc[-1].name/num_file)):\n",
    "    df_temp=df_to_write.loc[index:index+math.ceil(df_to_write.iloc[-1].name/num_file)-1]\n",
    "    df_temp.to_pickle(file_path_name+'-'+str(df_temp.iloc[0].name)+'-'+str(df_temp.iloc[-1].name), compression='gzip')"
   ]
  },
  {
   "cell_type": "markdown",
   "metadata": {},
   "source": [
    "# Test reading file.\n",
    "import os\n",
    "file_list=os.listdir('../../dataset/df_bmf_14_16_confA_chg_drop.pkl.gz/')\n",
    "df_test=pd.DataFrame()\n",
    "for file in file_list:\n",
    "    df_test=pd.concat([df_test, \n",
    "                       pd.read_pickle('../../dataset/df_bmf_14_16_confA_chg_drop.pkl.gz/'+file, compression='gzip')])\n",
    "len(df_test)"
   ]
  },
  {
   "cell_type": "markdown",
   "metadata": {},
   "source": [
    "**Done with data acquisition, see how many changed.**"
   ]
  },
  {
   "cell_type": "markdown",
   "metadata": {},
   "source": [
    "df_bmf_14_16_confA_chg_drop=pd.DataFrame()\n",
    "for file in os.listdir('../../dataset/df_bmf_14_16_confA_chg_drop.pkl.gz/'):\n",
    "    df_bmf_14_16_confA_chg_drop=pd.concat([df_bmf_14_16_confA_chg_drop,\n",
    "                                           pd.read_pickle('../../dataset/df_bmf_14_16_confA_chg_drop.pkl.gz/'+file, compression='gzip')\n",
    "                                          ])"
   ]
  },
  {
   "cell_type": "markdown",
   "metadata": {},
   "source": [
    "[len(df_bmf_14_16_confA_chg_drop.EIN.unique()), \n",
    " len(df_bmf_14_16_confA), \n",
    " len(df_bmf_14_16_confA_chg_drop.EIN.unique())/len(df_bmf_14_16_confA)\n",
    " 1-len(df_bmf_14_16_confA_chg_drop.EIN.unique())/len(df_bmf_14_16_confA)\n",
    "]"
   ]
  },
  {
   "cell_type": "markdown",
   "metadata": {},
   "source": [
    "len(df_bmf_14_16_confA.EIN.unique())\n",
    "# ~1.76% Changed their NTEE codes between 2014-2016. Drop these records since we have no idea on exactly when these codes were changed."
   ]
  },
  {
   "cell_type": "markdown",
   "metadata": {},
   "source": [
    "len(df_bmf_14_16_confA[['EIN', 'NTEE1']].drop_duplicates()), len(df_bmf_14_16_confA.EIN.unique())\n",
    "# ~1.76% Changed their NTEE codes between 2014-2016. Drop these records since we have no idea on exactly when these codes were changed."
   ]
  },
  {
   "cell_type": "markdown",
   "metadata": {},
   "source": [
    "df_bmf_14_16_confA_rm_chg=df_bmf_14_16_confA.loc[df_bmf_14_16_confA[['EIN', 'NTEE1']].drop_duplicates(keep=False).index]"
   ]
  },
  {
   "cell_type": "markdown",
   "metadata": {},
   "source": [
    "len(df_bmf_14_16_confA_rm_chg[['EIN', 'NTEE1']].drop_duplicates(keep=False)), len(df_bmf_14_16_confA_rm_chg)"
   ]
  },
  {
   "cell_type": "markdown",
   "metadata": {},
   "source": [
    "len(df_bmf_14_16[['EIN', 'NTEE1', 'nteeConf']].drop_duplicates()), len(df_bmf_14_16[['EIN', 'NTEE1', 'nteeConf', 'YR_MO']].drop_duplicates())"
   ]
  }
 ],
 "metadata": {
  "kernelspec": {
   "display_name": "Python 3",
   "language": "python",
   "name": "python3"
  },
  "language_info": {
   "codemirror_mode": {
    "name": "ipython",
    "version": 3
   },
   "file_extension": ".py",
   "mimetype": "text/x-python",
   "name": "python",
   "nbconvert_exporter": "python",
   "pygments_lexer": "ipython3",
   "version": "3.7.3"
  }
 },
 "nbformat": 4,
 "nbformat_minor": 4
}
