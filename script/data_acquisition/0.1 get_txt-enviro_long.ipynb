{
 "cells": [
  {
   "cell_type": "code",
   "execution_count": 47,
   "metadata": {},
   "outputs": [
    {
     "name": "stdout",
     "output_type": "stream",
     "text": [
      "[0, 1, 2, 3]\n"
     ]
    }
   ],
   "source": [
    "import requests\n",
    "import pandas as pd\n",
    "import xml.etree.ElementTree as ET\n",
    "import warnings\n",
    "import math\n",
    "from tqdm import tqdm\n",
    "from irsx.xmlrunner import XMLRunner\n",
    "xml_runner = XMLRunner()\n",
    "warnings.filterwarnings('ignore')\n",
    "\n",
    "import ipyparallel as ipp\n",
    "c = ipp.Client()\n",
    "print(c.ids)\n",
    "dview = c[:] #So this dview (direct viewing) becomes the parallelizing program-direct execution in cloud"
   ]
  },
  {
   "cell_type": "code",
   "execution_count": 48,
   "metadata": {},
   "outputs": [],
   "source": [
    "import re"
   ]
  },
  {
   "cell_type": "code",
   "execution_count": 49,
   "metadata": {},
   "outputs": [],
   "source": [
    "einlist = pd.read_csv(\"/Users/Wolfalev/Documents/Grad/UT-AUSTIN GRAD/Coursework/CUSS/JiRepo/npo_classifier/dataset/eNGO_TX_ein_name_list.csv\")\n",
    "\n",
    "#for ein in einlist['EIN']:\n",
    " #   print(ein)"
   ]
  },
  {
   "cell_type": "code",
   "execution_count": 50,
   "metadata": {},
   "outputs": [],
   "source": [
    "#xml_runner = XMLRunner()\n",
    "#parsed_filing = xml_runner.run_sked(2012134249347, 'IRS990ScheduleJ')\n",
    "\n",
    "### Need to get object ID"
   ]
  },
  {
   "cell_type": "markdown",
   "metadata": {},
   "source": [
    "### Prepare UK Data.\n",
    "\n",
    "```Python\n",
    "# Compress icnpo training data.\n",
    "df_icnpo_classifier_training_data=pd.read_csv('../dataset/icnpo_classifier_training_data.csv', sep=',')\n",
    "df_icnpo_classifier_training_data.to_pickle('../dataset/icnpo_classifier_training_data.pkl.gzip', compression='gzip')\n",
    "```"
   ]
  },
  {
   "cell_type": "markdown",
   "metadata": {},
   "source": [
    "### Prepare US Training Data.\n",
    "Useful links:\n",
    "- IRS 990 forms on AWS: https://registry.opendata.aws/irs990/\n",
    "- NCCS Data Archive (data dict, NTEE codes, etc.): https://nccs-data.urban.org/index.php\n",
    "\n",
    "### TODO:\n",
    "- [+] Add year of formation. - Do not use information from 990 forms: only Form 990 has \"Year of Formation\". Use BMF 199508 to dummy-code the organizations.\n",
    "- [ ] Add program descriptions in Part VIII of Form 990."
   ]
  },
  {
   "cell_type": "code",
   "execution_count": null,
   "metadata": {},
   "outputs": [
    {
     "name": "stdout",
     "output_type": "stream",
     "text": [
      "2013 started\tgot\n",
      "2014 started\t"
     ]
    },
    {
     "name": "stderr",
     "output_type": "stream",
     "text": [
      "b'Skipping line 39569: expected 9 fields, saw 10\\n'\n"
     ]
    },
    {
     "name": "stdout",
     "output_type": "stream",
     "text": [
      "got\n",
      "2015 started\tgot\n",
      "2016 started\tgot\n",
      "2017 started\tgot\n",
      "2018 started\t"
     ]
    }
   ],
   "source": [
    "df_index=pd.DataFrame()\n",
    "for year in range(2013, 2019):\n",
    "        try:\n",
    "            print(str(year), 'started', end='\\t')\n",
    "            df_index_temp=pd.read_csv('https://s3.amazonaws.com/irs-form-990/index_'+str(year)+'.csv', \n",
    "                                  error_bad_lines=False, warn_bad_lines=True # Be cautious with bad lines.\n",
    "                                 )\n",
    "            df_index_temp['YEAR']=year\n",
    "            df_index=pd.concat([df_index, df_index_temp], ignore_index=True)\n",
    "            print('got')\n",
    "        except:\n",
    "            print('passed')"
   ]
  },
  {
   "cell_type": "code",
   "execution_count": null,
   "metadata": {},
   "outputs": [],
   "source": [
    "df_index.groupby(['YEAR','RETURN_TYPE']).count()"
   ]
  },
  {
   "cell_type": "markdown",
   "metadata": {},
   "source": [
    "### Acquiring text data."
   ]
  },
  {
   "cell_type": "code",
   "execution_count": null,
   "metadata": {},
   "outputs": [],
   "source": [
    "df_index_matched = df_index[df_index['EIN'].isin(einlist['EIN'])]\n",
    "                       \n",
    "len(df_index_matched)                                               "
   ]
  },
  {
   "cell_type": "code",
   "execution_count": null,
   "metadata": {},
   "outputs": [],
   "source": [
    "df_index_matched.sample(10)"
   ]
  },
  {
   "cell_type": "code",
   "execution_count": null,
   "metadata": {},
   "outputs": [],
   "source": [
    "done_index_list=[]\n",
    "dview.execute('import pandas as pd')\n",
    "dview.execute('from time import sleep')\n",
    "dview.execute('from irsx.xmlrunner import XMLRunner')\n",
    "dview.execute('import os')\n",
    "dview['xml_runner'] = XMLRunner()\n",
    "dview['df_index'] = df_index_matched\n",
    "dview['df_index_text_acq'] = pd.DataFrame()"
   ]
  },
  {
   "cell_type": "code",
   "execution_count": null,
   "metadata": {},
   "outputs": [],
   "source": [
    "dview['done_index_list'] = list(set(done_index_list))\n",
    "dview['counter']=0"
   ]
  },
  {
   "cell_type": "code",
   "execution_count": null,
   "metadata": {},
   "outputs": [],
   "source": [
    "###### Define functions ######################################\n",
    "def func_irs990_text(obj_id):\n",
    "    IRS990_result=xml_runner.run_sked(obj_id, 'IRS990').result \n",
    "\n",
    "    ############## Check filing version.##############\n",
    "    if IRS990_result!=None:\n",
    "        IRS990_result=IRS990_result[0]\n",
    "    else:\n",
    "        return {'IRS990_p1_ActvtyOrMssnDsc': 'VERSION_NOT_SUPPORTED',\n",
    "                'IRS990_p3_MssnDsc': 'VERSION_NOT_SUPPORTED',\n",
    "                'IRS990_p3_DscS': 'VERSION_NOT_SUPPORTED',\n",
    "                'IRS990ScheduleO_ExplntnTxt': 'VERSION_NOT_SUPPORTED',\n",
    "               }\n",
    "    ##################################################\n",
    "\n",
    "    ###### IRS990_p1_ActvtyOrMssnDsc #################\n",
    "    IRS990_p1_ActvtyOrMssnDsc=IRS990_result['schedule_parts']['part_i']['ActvtyOrMssnDsc']\n",
    "    ##################################################\n",
    "\n",
    "    ##### IRS990_p3_MssnDsc, IRS990_p3_DscS ##########\n",
    "    IRS990_p3=IRS990_result['schedule_parts']['part_iii']\n",
    "    IRS990_p3_MssnDsc='##'.join([IRS990_p3[key] for key in IRS990_p3.keys() if key=='MssnDsc'])\n",
    "    IRS990_p3_DscS='##'.join([IRS990_p3[key] for key in IRS990_p3.keys() if (key=='Dsc' or '_Dsc' in key)])\n",
    "    ##################################################\n",
    "\n",
    "    ###### IRS990ScheduleO_ExplntnTxt #################\n",
    "#         if 'InfInSkdOPrtIIIInd' in IRS990_p3.keys() and IRS990_p3['InfInSkdOPrtIIIInd']=='X' and 'IRS990ScheduleO' in xml_runner.run_filing(obj_id).list_schedules():\n",
    "    if 'IRS990ScheduleO' in xml_runner.run_filing(obj_id).list_schedules():\n",
    "        IRS990ScheduleO=xml_runner.run_sked(obj_id, 'IRS990ScheduleO').result[0]\n",
    "        IRS990ScheduleO_ExplntnTxt='##'.join([s['ExplntnTxt'] for s in IRS990ScheduleO['groups']['SkdOSpplmntlInfrmtnDtl'] if 'III' in s['FrmAndLnRfrncDsc']])\n",
    "    else:\n",
    "        IRS990ScheduleO_ExplntnTxt=''\n",
    "    ##################################################\n",
    "\n",
    "    return {'IRS990_p1_ActvtyOrMssnDsc': IRS990_p1_ActvtyOrMssnDsc,\n",
    "            'IRS990_p3_MssnDsc': IRS990_p3_MssnDsc,\n",
    "            'IRS990_p3_DscS': IRS990_p3_DscS,\n",
    "            'IRS990ScheduleO_ExplntnTxt': IRS990ScheduleO_ExplntnTxt,\n",
    "           }\n",
    "\n",
    "def func_irs990ez_text(obj_id):\n",
    "    IRS990EZ_result=xml_runner.run_sked(obj_id, 'IRS990EZ').result\n",
    "\n",
    "    ############## Check filing version.##############\n",
    "    if IRS990EZ_result!=None:\n",
    "        IRS990EZ_result=IRS990EZ_result[0]\n",
    "    else:\n",
    "        return {'IRS990EZ_p3_PrmryExmptPrpsTxt': 'VERSION_NOT_SUPPORTED',\n",
    "                'IRS990EZ_p3_DscrptnPrgrmSrvcAccmTxt': 'VERSION_NOT_SUPPORTED',\n",
    "                'IRS990ScheduleO_ExplntnTxt': 'VERSION_NOT_SUPPORTED',\n",
    "               }\n",
    "    ########################################################\n",
    "\n",
    "    ###### IRS990EZ_p3_PrmryExmptPrpsTxt #############\n",
    "    if 'ez_part_iii' in IRS990EZ_result['schedule_parts'].keys():\n",
    "        IRS990EZ_p3=IRS990EZ_result['schedule_parts']['ez_part_iii']\n",
    "        IRS990EZ_p3_PrmryExmptPrpsTxt='##'.join([IRS990EZ_p3[key] for key in IRS990EZ_p3.keys() if key=='PrmryExmptPrpsTxt'])\n",
    "    else:\n",
    "        IRS990EZ_p3_PrmryExmptPrpsTxt=''\n",
    "    ##################################################\n",
    "\n",
    "    ####### IRS990EZ_p3_DscrptnPrgrmSrvcAccmTxt ######\n",
    "    if 'EZPrgrmSrvcAccmplshmnt' in IRS990EZ_result['groups'].keys():\n",
    "        IRS990EZ_p3_DscrptnPrgrmSrvcAccmTxt='##'.join([s['DscrptnPrgrmSrvcAccmTxt'] for s in IRS990EZ_result['groups']['EZPrgrmSrvcAccmplshmnt']])\n",
    "    else:\n",
    "        IRS990EZ_p3_DscrptnPrgrmSrvcAccmTxt=''\n",
    "    ##################################################\n",
    "\n",
    "    ###### IRS990ScheduleO_ExplntnTxt #################\n",
    "#         if 'InfInSkdOPrtIIIInd' in IRS990EZ_p3.keys() and IRS990EZ_p3['InfInSkdOPrtIIIInd']=='X' and 'IRS990ScheduleO' in xml_runner.run_filing(obj_id).list_schedules():\n",
    "    if 'IRS990ScheduleO' in xml_runner.run_filing(obj_id).list_schedules():\n",
    "        IRS990ScheduleO=xml_runner.run_sked(obj_id, 'IRS990ScheduleO').result[0]\n",
    "        IRS990ScheduleO_ExplntnTxt='##'.join([s['ExplntnTxt'] for s in IRS990ScheduleO['groups']['SkdOSpplmntlInfrmtnDtl'] if 'III' in s['FrmAndLnRfrncDsc']])\n",
    "    else:\n",
    "        IRS990ScheduleO_ExplntnTxt=''\n",
    "    ##################################################\n",
    "\n",
    "    return {'IRS990EZ_p3_PrmryExmptPrpsTxt': IRS990EZ_p3_PrmryExmptPrpsTxt,\n",
    "            'IRS990EZ_p3_DscrptnPrgrmSrvcAccmTxt': IRS990EZ_p3_DscrptnPrgrmSrvcAccmTxt,\n",
    "            'IRS990ScheduleO_ExplntnTxt': IRS990ScheduleO_ExplntnTxt,\n",
    "           }\n",
    "\n",
    "def func_irs990pf_text(obj_id):\n",
    "    IRS990PF_result=xml_runner.run_sked(obj_id, 'IRS990PF').result\n",
    "\n",
    "    ############## Check filing version.##############\n",
    "    if IRS990PF_result!=None:\n",
    "        IRS990PF_result=IRS990PF_result[0]\n",
    "    else:\n",
    "        return {'IRS990PF_p9a_DscrptnTxt': 'VERSION_NOT_SUPPORTED',\n",
    "                'IRS990PF_p16b_RltnshpSttmntTxt': 'VERSION_NOT_SUPPORTED',\n",
    "               }\n",
    "    ########################################################\n",
    "\n",
    "    ##### IRS990PF_p9a_DscrptnTxt ##########################\n",
    "    if 'pf_part_ixa' in IRS990PF_result['schedule_parts'].keys():\n",
    "        IRS990PF_p9a=IRS990PF_result['schedule_parts']['pf_part_ixa']\n",
    "        IRS990PF_p9a_DscrptnTxt='##'.join([IRS990PF_p9a[key] for key in IRS990PF_p9a.keys() if 'Txt' in key])\n",
    "    else:\n",
    "        IRS990PF_p9a_DscrptnTxt=''\n",
    "    ########################################################\n",
    "\n",
    "    ##### IRS990PF_p16b_RltnshpSttmntTxt ###################\n",
    "    if 'PFRlnOfActyTAccmOfExmptPrps' in IRS990PF_result['groups']:\n",
    "        IRS990PF_p16b_RltnshpSttmntTxt='##'.join([s['RltnshpSttmntTxt'] for s in IRS990PF_result['groups']['PFRlnOfActyTAccmOfExmptPrps']])\n",
    "    else:\n",
    "        IRS990PF_p16b_RltnshpSttmntTxt=''\n",
    "    ########################################################\n",
    "\n",
    "    return {'IRS990PF_p9a_DscrptnTxt':IRS990PF_p9a_DscrptnTxt,\n",
    "            'IRS990PF_p16b_RltnshpSttmntTxt':IRS990PF_p16b_RltnshpSttmntTxt,\n",
    "           }\n",
    "###### Define functions ######################################"
   ]
  },
  {
   "cell_type": "code",
   "execution_count": null,
   "metadata": {},
   "outputs": [],
   "source": [
    "###### Run main function ################################\n",
    "df_index_text_acq = pd.DataFrame()\n",
    "df_index = pd.DataFrame()\n",
    "df_index = df_index_matched\n",
    "done_index_list = []\n",
    "for index in df_index_matched.index:\n",
    "    try:\n",
    "        if index not in done_index_list: #Index is position of filing in list of all filings in index file\n",
    "            obj_id = df_index.loc[index, 'OBJECT_ID'] #if that position is not filled, pull the object id\n",
    "            return_type=df_index.loc[index, 'RETURN_TYPE'] #if that position is not filled, pull the return type\n",
    "            if return_type in ['990', '990O']: # (1) if return type  is 990, do the following\n",
    "                text_dict=func_irs990_text(obj_id) #apply this function for 990s, using the object id from index to get the 990 in a text_dict\n",
    "                df_index.loc[index, 'IRS990_p1_ActvtyOrMssnDsc']=text_dict['IRS990_p1_ActvtyOrMssnDsc'] #get mission and put it in index file\n",
    "                df_index.loc[index, 'IRS990_p3_MssnDsc']=text_dict['IRS990_p3_MssnDsc'] # get mssndsc and put it here\n",
    "                df_index.loc[index, 'IRS990_p3_DscS']=text_dict['IRS990_p3_DscS'] # get DsC and put it here\n",
    "                df_index.loc[index, 'IRS990ScheduleO_ExplntnTxt']=text_dict['IRS990ScheduleO_ExplntnTxt']# get schedule 0 and put it here\n",
    "            elif return_type in ['990EZ', '990EO']: #(2) same thing\n",
    "                text_dict=func_irs990ez_text(obj_id)\n",
    "                df_index.loc[index, 'IRS990EZ_p3_PrmryExmptPrpsTxt']=text_dict['IRS990EZ_p3_PrmryExmptPrpsTxt']\n",
    "                df_index.loc[index, 'IRS990EZ_p3_DscrptnPrgrmSrvcAccmTxt']=text_dict['IRS990EZ_p3_DscrptnPrgrmSrvcAccmTxt']\n",
    "                df_index.loc[index, 'IRS990ScheduleO_ExplntnTxt']=text_dict['IRS990ScheduleO_ExplntnTxt']\n",
    "            elif return_type in ['990PF']: #(3) same thing\n",
    "                text_dict=func_irs990pf_text(obj_id)\n",
    "                df_index.loc[index, 'IRS990PF_p9a_DscrptnTxt']=text_dict['IRS990PF_p9a_DscrptnTxt']\n",
    "                df_index.loc[index, 'IRS990PF_p16b_RltnshpSttmntTxt']=text_dict['IRS990PF_p16b_RltnshpSttmntTxt']\n",
    "            df_index_text_acq=pd.concat([df_index_text_acq, df_index.loc[[index]]], ignore_index=True) #take the entries we just pulled, turn into df for that row, and concatenate them together into df_index_text_acq\n",
    "            done_index_list+=[index] ## update that we've done this many indicies. \n",
    "    except:\n",
    "        pass"
   ]
  },
  {
   "cell_type": "code",
   "execution_count": null,
   "metadata": {},
   "outputs": [],
   "source": [
    "len(set(done_index_list)), len(df_index_text_acq)"
   ]
  },
  {
   "cell_type": "code",
   "execution_count": null,
   "metadata": {},
   "outputs": [],
   "source": [
    "df_index_text_acq.sample(10)"
   ]
  },
  {
   "cell_type": "code",
   "execution_count": null,
   "metadata": {},
   "outputs": [],
   "source": [
    "#df_index_text_acq_2018= df_index_text_acq[df_index_text_acq.YEAR == 2018]\n",
    "#All Years"
   ]
  },
  {
   "cell_type": "code",
   "execution_count": null,
   "metadata": {},
   "outputs": [],
   "source": [
    "df_index_text_acq.sample(10)\n",
    "print(len(df_index_text_acq))"
   ]
  },
  {
   "cell_type": "code",
   "execution_count": null,
   "metadata": {},
   "outputs": [],
   "source": []
  },
  {
   "cell_type": "markdown",
   "metadata": {},
   "source": [
    "len(df_EIN_TXT), len(df_index_matched)"
   ]
  },
  {
   "cell_type": "code",
   "execution_count": null,
   "metadata": {},
   "outputs": [],
   "source": [
    "df_bmf_1812=pd.read_csv('https://nccs-data.urban.org/data/bmf/2018/bmf.bm1812.csv')\n",
    "df_bmf_1712=pd.read_csv('https://nccs-data.urban.org/data/bmf/2017/bmf.bm1712.csv')\n",
    "df_bmf_1608=pd.read_csv('https://nccs-data.urban.org/data/bmf/2016/bmf.bm1608.csv')\n",
    "df_bmf_1512=pd.read_csv('https://nccs-data.urban.org/data/bmf/2015/bmf.bm1512.csv')\n",
    "df_bmf_1412=pd.read_csv('https://nccs-data.urban.org/data/bmf/2014/bmf.bm1412.csv')\n",
    "df_bmf_1312=pd.read_csv('https://nccs-data.urban.org/data/bmf/2013/bmf.bm1312.csv')"
   ]
  },
  {
   "cell_type": "code",
   "execution_count": null,
   "metadata": {},
   "outputs": [],
   "source": [
    "df_bmf_1812['YEAR_NCCS'] = 2018\n",
    "df_bmf_1712['YEAR_NCCS'] = 2017\n",
    "df_bmf_1608['YEAR_NCCS'] = 2016\n",
    "df_bmf_1512['YEAR_NCCS'] = 2015\n",
    "df_bmf_1412['YEAR_NCCS'] = 2014\n",
    "df_bmf_1312['YEAR_NCCS'] = 2013\n",
    "\n",
    "#df_bmf_1812['Real_Year'] = df_bmf_1812['TAXPER'].astype(str).str[:4]\n",
    "#df_bmf_1712['Real_Year'] = df_bmf_1712['TAXPER'].astype(str).str[:4]\n",
    "#df_bmf_1608['Real_Year'] = df_bmf_1608['TAXPER'].astype(str).str[:4]\n",
    "#df_bmf_1512['Real_Year'] = df_bmf_1512['TAXPER'].astype(str).str[:4]\n",
    "#df_bmf_1412['Real_Year'] = df_bmf_1412['TAXPER'].astype(str).str[:4]\n",
    "#df_bmf_1312['Real_Year'] = df_bmf_1312['TAXPER'].astype(str).str[:4]\n",
    "\n",
    "#df_bmf_1812 = df_bmf_1812[df_bmf_1812['Real_Year'] == '2018']\n",
    "#df_bmf_1712 = df_bmf_1712[df_bmf_1712['Real_Year'] == '2017']\n",
    "#df_bmf_1608 = df_bmf_1608[df_bmf_1608['Real_Year'] == '2016']\n",
    "#df_bmf_1512 = df_bmf_1512[df_bmf_1512['Real_Year'] == '2015']\n",
    "#df_bmf_1412 = df_bmf_1412[df_bmf_1412['Real_Year'] == '2014']\n",
    "#df_bmf_1312 = df_bmf_1312[df_bmf_1312['Real_Year'] == '2013']\n",
    "\n"
   ]
  },
  {
   "cell_type": "code",
   "execution_count": null,
   "metadata": {},
   "outputs": [],
   "source": [
    "print(len(df_bmf_1812))\n",
    "print(len(df_bmf_1712))\n",
    "print(len(df_bmf_1608))\n",
    "print(len(df_bmf_1512))\n",
    "print(len(df_bmf_1412))\n",
    "print(len(df_bmf_1312))"
   ]
  },
  {
   "cell_type": "code",
   "execution_count": null,
   "metadata": {},
   "outputs": [],
   "source": [
    "#df_bmf_1812.drop_duplicates(subset=['TAXPER'],keep='last')\n",
    "#df_bmf_1712.drop_duplicates(subset='EIN',keep='last')\n",
    "#df_bmf_1608.drop_duplicates(subset='EIN',keep='last')\n",
    "#df_bmf_1512.drop_duplicates(subset='EIN',keep='last')\n",
    "#df_bmf_1412.drop_duplicates(subset='EIN',keep='last')\n",
    "#df_bmf_1312.drop_duplicates(subset='EIN',keep='last')"
   ]
  },
  {
   "cell_type": "code",
   "execution_count": null,
   "metadata": {},
   "outputs": [],
   "source": [
    "df_bmf_1812.columns"
   ]
  },
  {
   "cell_type": "code",
   "execution_count": null,
   "metadata": {},
   "outputs": [],
   "source": [
    "print(len(df_bmf_1812))\n",
    "print(len(df_bmf_1712))\n",
    "print(len(df_bmf_1608))\n",
    "print(len(df_bmf_1512))\n",
    "print(len(df_bmf_1412))\n",
    "print(len(df_bmf_1312))"
   ]
  },
  {
   "cell_type": "code",
   "execution_count": null,
   "metadata": {},
   "outputs": [],
   "source": [
    "df_bmf_13_18=pd.concat([df_bmf_1312, df_bmf_1412, df_bmf_1512, df_bmf_1608, df_bmf_1712, df_bmf_1812], ignore_index=True)\n",
    "df_bmf_13_18['Real_Year'] = df_bmf_13_18['TAXPER'].astype(str).str[:4]\n",
    "df_bmf_13_18.drop_duplicates(subset=['EIN', 'Real_Year'],keep='last')\n",
    "#remove any duplicated taxperiods within an ein, only taking  the last\n"
   ]
  },
  {
   "cell_type": "code",
   "execution_count": null,
   "metadata": {},
   "outputs": [],
   "source": [
    "df_bmf_13_18 = df_bmf_13_18[df_bmf_13_18.STATE == 'TX']\n",
    "df_bmf_13_18 = df_bmf_13_18[df_bmf_13_18.NTEE1 == 'C']"
   ]
  },
  {
   "cell_type": "code",
   "execution_count": null,
   "metadata": {},
   "outputs": [],
   "source": [
    "df_bmf_13_18['EIN'] = pd.to_numeric(df_bmf_13_18['EIN'])\n",
    "df_index_text_acq['EIN'] = pd.to_numeric(df_index_text_acq['EIN'])"
   ]
  },
  {
   "cell_type": "code",
   "execution_count": null,
   "metadata": {},
   "outputs": [],
   "source": [
    "#df_bmf_13_18.drop_duplicates(subset=['EIN', 'CTAXPER'],keep='first')\n",
    "#print(len(df_bmf_13_18))\n",
    "df_index_text_acq['Real_Year'] = df_index_text_acq['TAX_PERIOD'].astype(str).str[:4]\n",
    "df_index_text_acq.drop_duplicates(subset=['EIN', 'Real_Year'],keep='last')\n",
    "\n",
    "print(len(df_index_text_acq))"
   ]
  },
  {
   "cell_type": "code",
   "execution_count": null,
   "metadata": {},
   "outputs": [],
   "source": [
    "#df_bmf_13_18['YEAR_real'] = df_bmf_13_18['CTAXPER']\n",
    "#df_index_text_acq['YEAR_real'] = df_index_text_acq['TAX_PERIOD']"
   ]
  },
  {
   "cell_type": "code",
   "execution_count": null,
   "metadata": {},
   "outputs": [],
   "source": [
    "df_EIN_TXT=df_index_text_acq.merge(df_bmf_13_18, on=['EIN', 'Real_Year'] , how='outer')\n",
    "df_EIN_TXT[df_EIN_TXT['Real_Year' > 2012]]\n",
    "df_EIN_TXT.sample(3)"
   ]
  },
  {
   "cell_type": "code",
   "execution_count": null,
   "metadata": {},
   "outputs": [],
   "source": [
    "df_EIN_TXT.columns"
   ]
  },
  {
   "cell_type": "code",
   "execution_count": null,
   "metadata": {},
   "outputs": [],
   "source": [
    "print(len(df_EIN_TXT))"
   ]
  },
  {
   "cell_type": "code",
   "execution_count": null,
   "metadata": {},
   "outputs": [],
   "source": [
    "df_EIN_TXT['EIN'].unique"
   ]
  },
  {
   "cell_type": "code",
   "execution_count": null,
   "metadata": {},
   "outputs": [],
   "source": [
    "df_EIN_TXT['EIN'].isin(einlist['EIN']).value_counts()"
   ]
  },
  {
   "cell_type": "code",
   "execution_count": null,
   "metadata": {},
   "outputs": [],
   "source": [
    "#df_EIN_TXT[['EIN', 'TAX_PERIOD']].drop_duplicates()\n",
    "#len(df_EIN_TXT)"
   ]
  },
  {
   "cell_type": "code",
   "execution_count": null,
   "metadata": {},
   "outputs": [],
   "source": [
    "df_EIN_TXT.to_csv('./texas_20132018_envorgs.csv', index=False)"
   ]
  },
  {
   "cell_type": "code",
   "execution_count": null,
   "metadata": {},
   "outputs": [],
   "source": [
    "df_EIN_TXT_list = df_EIN_TXT[df_EIN_TXT['EIN'].isin(einlist['EIN'])]"
   ]
  },
  {
   "cell_type": "code",
   "execution_count": null,
   "metadata": {},
   "outputs": [],
   "source": [
    "len(df_EIN_TXT_list)"
   ]
  },
  {
   "cell_type": "code",
   "execution_count": null,
   "metadata": {},
   "outputs": [],
   "source": [
    "df_EIN_TXT_list.to_csv('./texas_20132018_envorgs_matched.csv', index=False)"
   ]
  },
  {
   "cell_type": "code",
   "execution_count": null,
   "metadata": {},
   "outputs": [],
   "source": []
  },
  {
   "cell_type": "code",
   "execution_count": null,
   "metadata": {},
   "outputs": [],
   "source": []
  }
 ],
 "metadata": {
  "kernelspec": {
   "display_name": "Python 3",
   "language": "python",
   "name": "python3"
  },
  "language_info": {
   "codemirror_mode": {
    "name": "ipython",
    "version": 3
   },
   "file_extension": ".py",
   "mimetype": "text/x-python",
   "name": "python",
   "nbconvert_exporter": "python",
   "pygments_lexer": "ipython3",
   "version": "3.7.3"
  }
 },
 "nbformat": 4,
 "nbformat_minor": 4
}
