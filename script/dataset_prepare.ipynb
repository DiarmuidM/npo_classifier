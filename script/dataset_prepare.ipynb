{
 "cells": [
  {
   "cell_type": "code",
   "execution_count": 6,
   "metadata": {},
   "outputs": [],
   "source": [
    "import warnings\n",
    "warnings.filterwarnings('ignore')"
   ]
  },
  {
   "cell_type": "markdown",
   "metadata": {},
   "source": [
    "### Prepare UK Data.\n",
    "\n",
    "```Python\n",
    "# Compress icnpo training data.\n",
    "df_icnpo_classifier_training_data=pd.read_csv('../dataset/icnpo_classifier_training_data.csv', sep=',')\n",
    "df_icnpo_classifier_training_data.to_pickle('../dataset/icnpo_classifier_training_data.pkl.gzip', compression='gzip')\n",
    "```"
   ]
  },
  {
   "cell_type": "code",
   "execution_count": 7,
   "metadata": {},
   "outputs": [],
   "source": [
    "import pandas as pd"
   ]
  },
  {
   "cell_type": "markdown",
   "metadata": {},
   "source": [
    "### Prepare US Training Data.\n",
    "Useful links:\n",
    "- IRS 990 forms on AWS: https://registry.opendata.aws/irs990/\n",
    "- NCCS Data Archive (data dict, NTEE codes, etc.): https://nccs-data.urban.org/index.php"
   ]
  },
  {
   "cell_type": "code",
   "execution_count": 1,
   "metadata": {},
   "outputs": [],
   "source": [
    "import requests\n",
    "import pandas as pd\n",
    "import xml.etree.ElementTree as ET"
   ]
  },
  {
   "cell_type": "code",
   "execution_count": 2,
   "metadata": {},
   "outputs": [
    {
     "data": {
      "text/plain": [
       "'201014493493001600_public.xml'"
      ]
     },
     "execution_count": 2,
     "metadata": {},
     "output_type": "execute_result"
    }
   ],
   "source": [
    "root=ET.fromstring(requests.get('https://s3.amazonaws.com/irs-form-990').text)\n",
    "root.getchildren()[56][0].text"
   ]
  },
  {
   "cell_type": "code",
   "execution_count": 3,
   "metadata": {},
   "outputs": [],
   "source": [
    "index_dict={}\n",
    "index_num=0\n",
    "for child in root.getchildren()[5:]:\n",
    "    index_dict[index_num]={}\n",
    "    for sub_child in child.iter():\n",
    "        index_dict[index_num][sub_child.tag.strip('{http://s3.amazonaws.com/doc/2006-03-01/}')]=sub_child.text\n",
    "    index_num+=1"
   ]
  },
  {
   "cell_type": "code",
   "execution_count": 4,
   "metadata": {},
   "outputs": [
    {
     "data": {
      "text/html": [
       "<div>\n",
       "<style scoped>\n",
       "    .dataframe tbody tr th:only-of-type {\n",
       "        vertical-align: middle;\n",
       "    }\n",
       "\n",
       "    .dataframe tbody tr th {\n",
       "        vertical-align: top;\n",
       "    }\n",
       "\n",
       "    .dataframe thead th {\n",
       "        text-align: right;\n",
       "    }\n",
       "</style>\n",
       "<table border=\"1\" class=\"dataframe\">\n",
       "  <thead>\n",
       "    <tr style=\"text-align: right;\">\n",
       "      <th></th>\n",
       "      <th>Conte</th>\n",
       "      <th>Key</th>\n",
       "      <th>LastModifie</th>\n",
       "      <th>ETag</th>\n",
       "      <th>Size</th>\n",
       "      <th>Owner</th>\n",
       "      <th>ID</th>\n",
       "      <th>DisplayName</th>\n",
       "      <th>StorageCl</th>\n",
       "    </tr>\n",
       "  </thead>\n",
       "  <tbody>\n",
       "    <tr>\n",
       "      <th>752</th>\n",
       "      <td>None</td>\n",
       "      <td>201018893492002010_public.xml</td>\n",
       "      <td>2016-03-21T22:39:34.000Z</td>\n",
       "      <td>\"c68ba2e763192d680dc4a65b3786d9bd\"</td>\n",
       "      <td>8930</td>\n",
       "      <td>None</td>\n",
       "      <td>0ae4c12b9d736edf3dd39976339f7099d887b890b44800...</td>\n",
       "      <td>jalynne.k.archibald</td>\n",
       "      <td>STANDARD</td>\n",
       "    </tr>\n",
       "    <tr>\n",
       "      <th>153</th>\n",
       "      <td>None</td>\n",
       "      <td>201015493492004000_public.xml</td>\n",
       "      <td>2016-03-21T19:15:59.000Z</td>\n",
       "      <td>\"e7cee03d0a109308c0a92fdc1334d8bf\"</td>\n",
       "      <td>15700</td>\n",
       "      <td>None</td>\n",
       "      <td>0ae4c12b9d736edf3dd39976339f7099d887b890b44800...</td>\n",
       "      <td>jalynne.k.archibald</td>\n",
       "      <td>STANDARD</td>\n",
       "    </tr>\n",
       "    <tr>\n",
       "      <th>679</th>\n",
       "      <td>None</td>\n",
       "      <td>201018293492000110_public.xml</td>\n",
       "      <td>2016-03-21T20:37:28.000Z</td>\n",
       "      <td>\"8b5304a36947b3e0272e7ab359bcf8fb\"</td>\n",
       "      <td>11811</td>\n",
       "      <td>None</td>\n",
       "      <td>0ae4c12b9d736edf3dd39976339f7099d887b890b44800...</td>\n",
       "      <td>jalynne.k.archibald</td>\n",
       "      <td>STANDARD</td>\n",
       "    </tr>\n",
       "    <tr>\n",
       "      <th>687</th>\n",
       "      <td>None</td>\n",
       "      <td>201018293492005050_public.xml</td>\n",
       "      <td>2016-03-21T18:50:49.000Z</td>\n",
       "      <td>\"591500cd2a081999ce1d453a7d017be2\"</td>\n",
       "      <td>10337</td>\n",
       "      <td>None</td>\n",
       "      <td>0ae4c12b9d736edf3dd39976339f7099d887b890b44800...</td>\n",
       "      <td>jalynne.k.archibald</td>\n",
       "      <td>STANDARD</td>\n",
       "    </tr>\n",
       "    <tr>\n",
       "      <th>960</th>\n",
       "      <td>None</td>\n",
       "      <td>201021293492000000_public.xml</td>\n",
       "      <td>2016-03-22T02:39:16.000Z</td>\n",
       "      <td>\"8c357f025cecad3805744e19a96d74ad\"</td>\n",
       "      <td>8767</td>\n",
       "      <td>None</td>\n",
       "      <td>0ae4c12b9d736edf3dd39976339f7099d887b890b44800...</td>\n",
       "      <td>jalynne.k.archibald</td>\n",
       "      <td>STANDARD</td>\n",
       "    </tr>\n",
       "  </tbody>\n",
       "</table>\n",
       "</div>"
      ],
      "text/plain": [
       "    Conte                            Key               LastModifie  \\\n",
       "752  None  201018893492002010_public.xml  2016-03-21T22:39:34.000Z   \n",
       "153  None  201015493492004000_public.xml  2016-03-21T19:15:59.000Z   \n",
       "679  None  201018293492000110_public.xml  2016-03-21T20:37:28.000Z   \n",
       "687  None  201018293492005050_public.xml  2016-03-21T18:50:49.000Z   \n",
       "960  None  201021293492000000_public.xml  2016-03-22T02:39:16.000Z   \n",
       "\n",
       "                                   ETag   Size Owner  \\\n",
       "752  \"c68ba2e763192d680dc4a65b3786d9bd\"   8930  None   \n",
       "153  \"e7cee03d0a109308c0a92fdc1334d8bf\"  15700  None   \n",
       "679  \"8b5304a36947b3e0272e7ab359bcf8fb\"  11811  None   \n",
       "687  \"591500cd2a081999ce1d453a7d017be2\"  10337  None   \n",
       "960  \"8c357f025cecad3805744e19a96d74ad\"   8767  None   \n",
       "\n",
       "                                                    ID          DisplayName  \\\n",
       "752  0ae4c12b9d736edf3dd39976339f7099d887b890b44800...  jalynne.k.archibald   \n",
       "153  0ae4c12b9d736edf3dd39976339f7099d887b890b44800...  jalynne.k.archibald   \n",
       "679  0ae4c12b9d736edf3dd39976339f7099d887b890b44800...  jalynne.k.archibald   \n",
       "687  0ae4c12b9d736edf3dd39976339f7099d887b890b44800...  jalynne.k.archibald   \n",
       "960  0ae4c12b9d736edf3dd39976339f7099d887b890b44800...  jalynne.k.archibald   \n",
       "\n",
       "    StorageCl  \n",
       "752  STANDARD  \n",
       "153  STANDARD  \n",
       "679  STANDARD  \n",
       "687  STANDARD  \n",
       "960  STANDARD  "
      ]
     },
     "execution_count": 4,
     "metadata": {},
     "output_type": "execute_result"
    }
   ],
   "source": [
    "pd.DataFrame.from_dict(index_dict, orient='index').sample(5)"
   ]
  },
  {
   "cell_type": "code",
   "execution_count": null,
   "metadata": {},
   "outputs": [],
   "source": []
  }
 ],
 "metadata": {
  "kernelspec": {
   "display_name": "Python 3",
   "language": "python",
   "name": "python3"
  },
  "language_info": {
   "codemirror_mode": {
    "name": "ipython",
    "version": 3
   },
   "file_extension": ".py",
   "mimetype": "text/x-python",
   "name": "python",
   "nbconvert_exporter": "python",
   "pygments_lexer": "ipython3",
   "version": "3.6.4"
  }
 },
 "nbformat": 4,
 "nbformat_minor": 2
}
