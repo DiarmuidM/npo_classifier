{
 "cells": [
  {
   "cell_type": "code",
   "execution_count": 1,
   "metadata": {},
   "outputs": [],
   "source": [
    "import pandas as pd\n",
    "import requests\n",
    "from tqdm import tqdm"
   ]
  },
  {
   "cell_type": "code",
   "execution_count": 2,
   "metadata": {},
   "outputs": [
    {
     "name": "stderr",
     "output_type": "stream",
     "text": [
      "/root/anaconda3/lib/python3.7/site-packages/IPython/core/interactiveshell.py:2785: DtypeWarning: Columns (28,29) have mixed types. Specify dtype option on import or set low_memory=False.\n",
      "  interactivity=interactivity, compiler=compiler, result=result)\n",
      "/root/anaconda3/lib/python3.7/site-packages/IPython/core/interactiveshell.py:2785: DtypeWarning: Columns (28) have mixed types. Specify dtype option on import or set low_memory=False.\n",
      "  interactivity=interactivity, compiler=compiler, result=result)\n"
     ]
    }
   ],
   "source": [
    "df_bmf_1608=pd.read_csv('https://nccs-data.urban.org/data/bmf/2016/bmf.bm1608.csv')\n",
    "df_bmf_1512=pd.read_csv('https://nccs-data.urban.org/data/bmf/2015/bmf.bm1512.csv')\n",
    "df_bmf_1412=pd.read_csv('https://nccs-data.urban.org/data/bmf/2014/bmf.bm1412.csv')\n",
    "df_bmf_1608['YR_MO']=1608\n",
    "df_bmf_1512['YR_MO']=1512\n",
    "df_bmf_1412['YR_MO']=1412"
   ]
  },
  {
   "cell_type": "code",
   "execution_count": 3,
   "metadata": {},
   "outputs": [],
   "source": [
    "df_bmf_14_16=pd.concat([df_bmf_1608, df_bmf_1412, df_bmf_1512], ignore_index=True)\n",
    "df_bmf_14_16_confA=df_bmf_14_16[df_bmf_14_16.nteeConf=='A'] # Select A confidence level records."
   ]
  },
  {
   "cell_type": "code",
   "execution_count": null,
   "metadata": {},
   "outputs": [
    {
     "name": "stderr",
     "output_type": "stream",
     "text": [
      "  1%|          | 9903/960315 [01:29<1:05:28, 241.92it/s]"
     ]
    }
   ],
   "source": [
    "# Orgs changed their NTEE codes.\n",
    "df_bmf_14_16_confA_ntee_chg=pd.DataFrame()\n",
    "for ein in tqdm(df_bmf_14_16_confA.EIN.unique()):\n",
    "    ntee1_list=df_bmf_14_16_confA[df_bmf_14_16_confA.EIN==ein]['NTEE1']\n",
    "    if len(set(ntee1_list))!=1:\n",
    "        df_bmf_14_16_confA_ntee_chg=pd.concat([df_bmf_14_16_confA_ntee_chg, \n",
    "                                               df_bmf_14_16_confA[df_bmf_14_16_confA.EIN==ein]]\n",
    "                                             )"
   ]
  },
  {
   "cell_type": "code",
   "execution_count": null,
   "metadata": {},
   "outputs": [],
   "source": []
  },
  {
   "cell_type": "code",
   "execution_count": 44,
   "metadata": {},
   "outputs": [
    {
     "data": {
      "text/plain": [
       "(101045, 960315)"
      ]
     },
     "execution_count": 44,
     "metadata": {},
     "output_type": "execute_result"
    }
   ],
   "source": [
    "len() \n",
    "len(df_bmf_14_16_confA.EIN.unique())\n",
    "# ~1.76% Changed their NTEE codes between 2014-2016. Drop these records since we have no idea on exactly when these codes were changed."
   ]
  },
  {
   "cell_type": "code",
   "execution_count": 45,
   "metadata": {},
   "outputs": [
    {
     "data": {
      "text/plain": [
       "(977566, 960315)"
      ]
     },
     "execution_count": 45,
     "metadata": {},
     "output_type": "execute_result"
    }
   ],
   "source": [
    "len(df_bmf_14_16_confA[['EIN', 'NTEE1']].drop_duplicates()), len(df_bmf_14_16_confA.EIN.unique())\n",
    "# ~1.76% Changed their NTEE codes between 2014-2016. Drop these records since we have no idea on exactly when these codes were changed."
   ]
  },
  {
   "cell_type": "code",
   "execution_count": 40,
   "metadata": {},
   "outputs": [],
   "source": [
    "df_bmf_14_16_confA_rm_chg=df_bmf_14_16_confA.loc[df_bmf_14_16_confA[['EIN', 'NTEE1']].drop_duplicates(keep=False).index]"
   ]
  },
  {
   "cell_type": "code",
   "execution_count": 43,
   "metadata": {},
   "outputs": [
    {
     "data": {
      "text/plain": [
       "(199801, 214947)"
      ]
     },
     "execution_count": 43,
     "metadata": {},
     "output_type": "execute_result"
    }
   ],
   "source": [
    "len(df_bmf_14_16_confA_rm_chg[['EIN', 'NTEE1']].drop_duplicates(keep=False)), len(df_bmf_14_16_confA_rm_chg)"
   ]
  },
  {
   "cell_type": "code",
   "execution_count": 14,
   "metadata": {},
   "outputs": [
    {
     "data": {
      "text/plain": [
       "(1792488, 4633436)"
      ]
     },
     "execution_count": 14,
     "metadata": {},
     "output_type": "execute_result"
    }
   ],
   "source": [
    "len(df_bmf_14_16[['EIN', 'NTEE1', 'nteeConf']].drop_duplicates()), len(df_bmf_14_16[['EIN', 'NTEE1', 'nteeConf', 'YR_MO']].drop_duplicates())"
   ]
  }
 ],
 "metadata": {
  "kernelspec": {
   "display_name": "Python 3",
   "language": "python",
   "name": "python3"
  },
  "language_info": {
   "codemirror_mode": {
    "name": "ipython",
    "version": 3
   },
   "file_extension": ".py",
   "mimetype": "text/x-python",
   "name": "python",
   "nbconvert_exporter": "python",
   "pygments_lexer": "ipython3",
   "version": "3.7.0"
  }
 },
 "nbformat": 4,
 "nbformat_minor": 2
}
