{
 "cells": [
  {
   "cell_type": "markdown",
   "metadata": {},
   "source": [
    "### Script purpose\n",
    "\n",
    "- Replicate and compare with: Anastasopoulos, L. Jason, and Andrew B. Whitford. 2019. “Machine Learning for Public Administration Research, With Application to Organizational Reputation.” Journal of Public Administration Research and Theory 29 (3): 491–510. https://doi.org/10.1093/jopart/muy060.\n",
    "- Use glove-twitter-100 as embedding layer."
   ]
  },
  {
   "cell_type": "code",
   "execution_count": 1,
   "metadata": {},
   "outputs": [
    {
     "name": "stderr",
     "output_type": "stream",
     "text": [
      "Using TensorFlow backend.\n"
     ]
    },
    {
     "name": "stdout",
     "output_type": "stream",
     "text": [
      "WARNING:tensorflow:From /root/anaconda3/lib/python3.7/site-packages/keras/backend/tensorflow_backend.py:174: The name tf.get_default_session is deprecated. Please use tf.compat.v1.get_default_session instead.\n",
      "\n",
      "WARNING:tensorflow:From /root/anaconda3/lib/python3.7/site-packages/keras/backend/tensorflow_backend.py:190: The name tf.global_variables is deprecated. Please use tf.compat.v1.global_variables instead.\n",
      "\n",
      "['/job:localhost/replica:0/task:0/device:GPU:0']\n"
     ]
    }
   ],
   "source": [
    "# Ignore warnings.\n",
    "import warnings\n",
    "warnings.filterwarnings(\"ignore\")\n",
    "\n",
    "# obtain reproducible results\n",
    "import numpy as np\n",
    "import tensorflow as tf\n",
    "import random as rn\n",
    "from keras import backend as K\n",
    "\n",
    "# The below is necessary for starting Numpy generated random numbers\n",
    "# in a well-defined initial state.\n",
    "np.random.seed(520)\n",
    "# The below is necessary for starting core Python generated random numbers\n",
    "# in a well-defined state.\n",
    "rn.seed(520)\n",
    "# Force TensorFlow to use single thread.\n",
    "# Multiple threads are a potential source of non-reproducible results.\n",
    "# For further details, see: https://stackoverflow.com/questions/42022950/\n",
    "session_conf = tf.ConfigProto(intra_op_parallelism_threads=1,\n",
    "                              inter_op_parallelism_threads=1)\n",
    "# The below tf.set_random_seed() will make random number generation\n",
    "# in the TensorFlow backend have a well-defined initial state.\n",
    "# For further details, see:\n",
    "# https://www.tensorflow.org/api_docs/python/tf/set_random_seed\n",
    "tf.set_random_seed(520)\n",
    "sess = tf.Session(graph=tf.get_default_graph(), config=session_conf)\n",
    "K.set_session(sess)\n",
    "# Rest of code follows ...\n",
    "\n",
    "# Check GPU and CPU device.\n",
    "print(K.tensorflow_backend._get_available_gpus())"
   ]
  },
  {
   "cell_type": "code",
   "execution_count": 2,
   "metadata": {},
   "outputs": [],
   "source": [
    "#https://richliao.github.io/supervised/classification/2016/11/26/textclassifier-convolutional/\n",
    "#https://blog.keras.io/using-pre-trained-word-embeddings-in-a-keras-model.html\n",
    "#RNN\n",
    "\n",
    "import os\n",
    "import pandas as pd\n",
    "import re\n",
    "from tqdm import tqdm\n",
    "from multiprocessing import Pool\n",
    "from spellchecker import SpellChecker\n",
    "import string\n",
    "import math\n",
    "\n",
    "import nltk\n",
    "from nltk.stem import WordNetLemmatizer\n",
    "from nltk.corpus import wordnet\n",
    "from nltk.corpus import stopwords\n",
    "import keras.preprocessing.text as kpt\n",
    "from keras.preprocessing.text import Tokenizer\n",
    "from keras.preprocessing.sequence import pad_sequences\n",
    "from keras.layers import Embedding\n",
    "from sklearn.model_selection import train_test_split\n",
    "from nltk import word_tokenize\n",
    "import matplotlib.pyplot as plt\n",
    "\n",
    "# Plot using Plotly.\n",
    "import plotly.express as px\n",
    "import plotly.graph_objects as go\n",
    "\n",
    "# For encoding labels.\n",
    "from sklearn.preprocessing import LabelEncoder\n",
    "from keras.utils import np_utils"
   ]
  },
  {
   "cell_type": "code",
   "execution_count": 3,
   "metadata": {},
   "outputs": [
    {
     "data": {
      "text/html": [
       "<div>\n",
       "<style scoped>\n",
       "    .dataframe tbody tr th:only-of-type {\n",
       "        vertical-align: middle;\n",
       "    }\n",
       "\n",
       "    .dataframe tbody tr th {\n",
       "        vertical-align: top;\n",
       "    }\n",
       "\n",
       "    .dataframe thead th {\n",
       "        text-align: right;\n",
       "    }\n",
       "</style>\n",
       "<table border=\"1\" class=\"dataframe\">\n",
       "  <thead>\n",
       "    <tr style=\"text-align: right;\">\n",
       "      <th></th>\n",
       "      <th>HITID</th>\n",
       "      <th>Text</th>\n",
       "      <th>Answer1</th>\n",
       "      <th>Answer2</th>\n",
       "      <th>Agreement</th>\n",
       "      <th>Answer</th>\n",
       "      <th>Date</th>\n",
       "      <th>JasonCode</th>\n",
       "      <th>moral_bin</th>\n",
       "    </tr>\n",
       "  </thead>\n",
       "  <tbody>\n",
       "    <tr>\n",
       "      <th>131</th>\n",
       "      <td>3S8APUMBJXJH52HB7544QEW4FM8FBI</td>\n",
       "      <td>Denver OCEDETF Strike Force Takes Down Mexican...</td>\n",
       "      <td>Moral Reputation</td>\n",
       "      <td>Technical Reputation</td>\n",
       "      <td>No</td>\n",
       "      <td>no_agreement</td>\n",
       "      <td>2018-07-06 18:04:11 UTC</td>\n",
       "      <td>1</td>\n",
       "      <td>0</td>\n",
       "    </tr>\n",
       "    <tr>\n",
       "      <th>30</th>\n",
       "      <td>302OLP89DZ75JGS9APE7NXRV0RVAC7</td>\n",
       "      <td>Dep Sec Raskin In our interconnected economy v...</td>\n",
       "      <td>Moral Reputation</td>\n",
       "      <td>Moral Reputation</td>\n",
       "      <td>Yes</td>\n",
       "      <td>Moral Reputation</td>\n",
       "      <td>2018-07-06 18:08:44 UTC</td>\n",
       "      <td>4</td>\n",
       "      <td>0</td>\n",
       "    </tr>\n",
       "    <tr>\n",
       "      <th>63</th>\n",
       "      <td>3UQVX1UPFSHWKL2PLUS8ME6WFE602X</td>\n",
       "      <td>RT dcpublicschools The work that you are doing...</td>\n",
       "      <td>Moral Reputation</td>\n",
       "      <td>Performative Reputation</td>\n",
       "      <td>No</td>\n",
       "      <td>no_agreement</td>\n",
       "      <td>2018-07-06 17:59:25 UTC</td>\n",
       "      <td>2</td>\n",
       "      <td>1</td>\n",
       "    </tr>\n",
       "    <tr>\n",
       "      <th>35</th>\n",
       "      <td>37OPIVELUU3W0O3PWHS8YOOBDJ0AHG</td>\n",
       "      <td>RT statedeptspox DepSec Sullivan with Latvias ...</td>\n",
       "      <td>Performative Reputation</td>\n",
       "      <td>Technical Reputation</td>\n",
       "      <td>No</td>\n",
       "      <td>no_agreement</td>\n",
       "      <td>2018-07-06 17:59:44 UTC</td>\n",
       "      <td>0</td>\n",
       "      <td>0</td>\n",
       "    </tr>\n",
       "    <tr>\n",
       "      <th>183</th>\n",
       "      <td>3P7QK0GJ3TLTM68FPO50SD9IXLP2ZR</td>\n",
       "      <td>Acting Secretary Duke met with security offici...</td>\n",
       "      <td>Moral Reputation</td>\n",
       "      <td>None of the above.</td>\n",
       "      <td>No</td>\n",
       "      <td>no_agreement</td>\n",
       "      <td>2018-07-06 18:19:43 UTC</td>\n",
       "      <td>1</td>\n",
       "      <td>0</td>\n",
       "    </tr>\n",
       "  </tbody>\n",
       "</table>\n",
       "</div>"
      ],
      "text/plain": [
       "                              HITID  \\\n",
       "131  3S8APUMBJXJH52HB7544QEW4FM8FBI   \n",
       "30   302OLP89DZ75JGS9APE7NXRV0RVAC7   \n",
       "63   3UQVX1UPFSHWKL2PLUS8ME6WFE602X   \n",
       "35   37OPIVELUU3W0O3PWHS8YOOBDJ0AHG   \n",
       "183  3P7QK0GJ3TLTM68FPO50SD9IXLP2ZR   \n",
       "\n",
       "                                                  Text  \\\n",
       "131  Denver OCEDETF Strike Force Takes Down Mexican...   \n",
       "30   Dep Sec Raskin In our interconnected economy v...   \n",
       "63   RT dcpublicschools The work that you are doing...   \n",
       "35   RT statedeptspox DepSec Sullivan with Latvias ...   \n",
       "183  Acting Secretary Duke met with security offici...   \n",
       "\n",
       "                     Answer1                  Answer2 Agreement  \\\n",
       "131         Moral Reputation     Technical Reputation        No   \n",
       "30          Moral Reputation         Moral Reputation       Yes   \n",
       "63          Moral Reputation  Performative Reputation        No   \n",
       "35   Performative Reputation     Technical Reputation        No   \n",
       "183         Moral Reputation       None of the above.        No   \n",
       "\n",
       "               Answer                     Date  JasonCode  moral_bin  \n",
       "131      no_agreement  2018-07-06 18:04:11 UTC          1          0  \n",
       "30   Moral Reputation  2018-07-06 18:08:44 UTC          4          0  \n",
       "63       no_agreement  2018-07-06 17:59:25 UTC          2          1  \n",
       "35       no_agreement  2018-07-06 17:59:44 UTC          0          0  \n",
       "183      no_agreement  2018-07-06 18:19:43 UTC          1          0  "
      ]
     },
     "execution_count": 3,
     "metadata": {},
     "output_type": "execute_result"
    }
   ],
   "source": [
    "df_coded_tweet=pd.read_csv('../../dataset/muy060_suppl_supplementary_appendix/muy060_Appendix_2.csv')\n",
    "df_coded_tweet.loc[df_coded_tweet.JasonCode==2, 'moral_bin']=1\n",
    "df_coded_tweet.moral_bin.fillna('0', inplace=True)\n",
    "df_coded_tweet['moral_bin']=[int(s) for s in df_coded_tweet.moral_bin]\n",
    "df_coded_tweet.sample(5)"
   ]
  },
  {
   "cell_type": "code",
   "execution_count": 4,
   "metadata": {},
   "outputs": [
    {
     "data": {
      "text/html": [
       "<div>\n",
       "<style scoped>\n",
       "    .dataframe tbody tr th:only-of-type {\n",
       "        vertical-align: middle;\n",
       "    }\n",
       "\n",
       "    .dataframe tbody tr th {\n",
       "        vertical-align: top;\n",
       "    }\n",
       "\n",
       "    .dataframe thead th {\n",
       "        text-align: right;\n",
       "    }\n",
       "</style>\n",
       "<table border=\"1\" class=\"dataframe\">\n",
       "  <thead>\n",
       "    <tr style=\"text-align: right;\">\n",
       "      <th></th>\n",
       "      <th>agency_id</th>\n",
       "      <th>tweet_text</th>\n",
       "      <th>tweet_favorites</th>\n",
       "      <th>tweet_retweets</th>\n",
       "      <th>tweet_created</th>\n",
       "    </tr>\n",
       "  </thead>\n",
       "  <tbody>\n",
       "    <tr>\n",
       "      <th>5605</th>\n",
       "      <td>USDOT</td>\n",
       "      <td>RT @fema: For a list of trusted accounts shari...</td>\n",
       "      <td>0</td>\n",
       "      <td>1152</td>\n",
       "      <td>1.504719e+09</td>\n",
       "    </tr>\n",
       "    <tr>\n",
       "      <th>18716</th>\n",
       "      <td>usedgov</td>\n",
       "      <td>RT @HispanicEd: We are also excited to announc...</td>\n",
       "      <td>0</td>\n",
       "      <td>22</td>\n",
       "      <td>1.476983e+09</td>\n",
       "    </tr>\n",
       "    <tr>\n",
       "      <th>18221</th>\n",
       "      <td>ENERGY</td>\n",
       "      <td>RT @BerkeleyLab: Chiral phonons to atoms: Letâ...</td>\n",
       "      <td>0</td>\n",
       "      <td>28</td>\n",
       "      <td>1.518022e+09</td>\n",
       "    </tr>\n",
       "  </tbody>\n",
       "</table>\n",
       "</div>"
      ],
      "text/plain": [
       "      agency_id                                         tweet_text  \\\n",
       "5605      USDOT  RT @fema: For a list of trusted accounts shari...   \n",
       "18716   usedgov  RT @HispanicEd: We are also excited to announc...   \n",
       "18221    ENERGY  RT @BerkeleyLab: Chiral phonons to atoms: Letâ...   \n",
       "\n",
       "       tweet_favorites  tweet_retweets  tweet_created  \n",
       "5605                 0            1152   1.504719e+09  \n",
       "18716                0              22   1.476983e+09  \n",
       "18221                0              28   1.518022e+09  "
      ]
     },
     "execution_count": 4,
     "metadata": {},
     "output_type": "execute_result"
    }
   ],
   "source": [
    "df_agency_tweets_database=pd.read_csv('../../dataset/muy060_suppl_supplementary_appendix/muy060_Appendix_1.csv', encoding='ISO-8859-1')\n",
    "df_agency_tweets_database.sample(3)"
   ]
  },
  {
   "cell_type": "code",
   "execution_count": 5,
   "metadata": {},
   "outputs": [],
   "source": [
    "df_train, df_val=train_test_split(df_coded_tweet[['Text', 'moral_bin']], test_size=0.3, random_state=520)"
   ]
  },
  {
   "cell_type": "code",
   "execution_count": 6,
   "metadata": {},
   "outputs": [],
   "source": [
    "text_token_list_train=df_train['Text']\n",
    "text_token_list_val=df_val['Text']\n",
    "text_token_list_pred=df_agency_tweets_database['tweet_text']"
   ]
  },
  {
   "cell_type": "code",
   "execution_count": 7,
   "metadata": {},
   "outputs": [],
   "source": [
    "# Prepare labels\n",
    "from sklearn import preprocessing\n",
    "from keras.utils import to_categorical\n",
    "lb = preprocessing.LabelBinarizer()\n",
    "\n",
    "lb.fit(df_coded_tweet.moral_bin.unique())\n",
    "y_train = to_categorical(lb.transform(df_train['moral_bin']))\n",
    "y_val = to_categorical(lb.transform(df_val['moral_bin']))"
   ]
  },
  {
   "cell_type": "code",
   "execution_count": 8,
   "metadata": {},
   "outputs": [
    {
     "name": "stdout",
     "output_type": "stream",
     "text": [
      "[('https', 1), ('t', 2), ('co', 3), ('the', 4), ('to', 5)]\n"
     ]
    }
   ],
   "source": [
    "# Build word index for train and validation texts.\n",
    "tokenizer=Tokenizer()\n",
    "text_list_total=df_coded_tweet['Text'].to_list()+df_agency_tweets_database['tweet_text'].to_list()\n",
    "tokenizer.fit_on_texts(text_list_total) # Including uncoded tweets, vocabulary must be comprehensive.\n",
    "print(list(tokenizer.word_index.items())[0:5])"
   ]
  },
  {
   "cell_type": "code",
   "execution_count": 9,
   "metadata": {},
   "outputs": [],
   "source": [
    "## Train dataset.\n",
    "# Text to sequences.\n",
    "seq_encoding_text_train=tokenizer.texts_to_sequences(text_token_list_train)\n",
    "seq_encoding_text_val=tokenizer.texts_to_sequences(text_token_list_val)\n",
    "seq_encoding_text_pred=tokenizer.texts_to_sequences(text_token_list_pred)\n",
    "seq_encoding_text_all=seq_encoding_text_train+seq_encoding_text_val+seq_encoding_text_pred\n",
    "\n",
    "# Pads sequences to the same length (i.e., prepare matrix).\n",
    "x_train=pad_sequences(sequences=seq_encoding_text_train,\n",
    "                      maxlen=max([len(s) for s in seq_encoding_text_all]), # Max length of the sequence. Must consider prediction dataset.\n",
    "                      dtype = \"int32\", padding = \"post\", truncating = \"post\", \n",
    "                      value = 0 # Zero is used for representing None or Unknown.\n",
    "                     )\n",
    "x_val=pad_sequences(sequences=seq_encoding_text_val,\n",
    "                    maxlen=max([len(s) for s in seq_encoding_text_all]), # Max length of the sequence. Must consider prediction dataset.\n",
    "                    dtype = \"int32\", padding = \"post\", truncating = \"post\", \n",
    "                    value = 0 # Zero is used for representing None or Unknown.\n",
    "                   )\n",
    "x_pred=pad_sequences(sequences=seq_encoding_text_pred,\n",
    "                     maxlen=max([len(s) for s in seq_encoding_text_all]), # Max length of the sequence. Must consider prediction dataset.\n",
    "                     dtype = \"int32\", padding = \"post\", truncating = \"post\", \n",
    "                     value = 0 # Zero is used for representing None or Unknown.\n",
    "                     )"
   ]
  },
  {
   "cell_type": "code",
   "execution_count": 10,
   "metadata": {},
   "outputs": [],
   "source": [
    "import gensim.downloader as api\n",
    "EMBEDDING_DIM=100\n",
    "# glove_word_vector=api.load('glove-wiki-gigaword-'+str(EMBEDDING_DIM))\n",
    "glove_word_vector=api.load('glove-twitter-'+str(EMBEDDING_DIM))"
   ]
  },
  {
   "cell_type": "code",
   "execution_count": 11,
   "metadata": {},
   "outputs": [],
   "source": [
    "embedding_matrix = np.zeros((len(tokenizer.word_index)+1, EMBEDDING_DIM)) # Plus one: embedding matrix starts from 0, word index starts from 1."
   ]
  },
  {
   "cell_type": "code",
   "execution_count": 12,
   "metadata": {},
   "outputs": [],
   "source": [
    "for word, index in tokenizer.word_index.items():\n",
    "    try:\n",
    "        embedding_matrix[index] = glove_word_vector.get_vector(word)\n",
    "    except:\n",
    "        pass\n",
    "        # words not found in embedding index will be all-zeros."
   ]
  },
  {
   "cell_type": "code",
   "execution_count": 13,
   "metadata": {},
   "outputs": [
    {
     "name": "stdout",
     "output_type": "stream",
     "text": [
      "WARNING:tensorflow:From /root/anaconda3/lib/python3.7/site-packages/keras/backend/tensorflow_backend.py:74: The name tf.get_default_graph is deprecated. Please use tf.compat.v1.get_default_graph instead.\n",
      "\n"
     ]
    }
   ],
   "source": [
    "input_length=len(x_train[0])\n",
    "# https://machinelearningmastery.com/use-word-embedding-layers-deep-learning-keras/\n",
    "embedding_layer = Embedding(input_dim=len(tokenizer.word_index)+1, # Size of vocabulary.\n",
    "                            input_length=input_length, # Length of input, i.e., length of padded sequence.\n",
    "                            output_dim=EMBEDDING_DIM, # Size of the vector space in which words will be embedded.\n",
    "                            weights=[embedding_matrix],\n",
    "                            trainable=False)"
   ]
  },
  {
   "cell_type": "code",
   "execution_count": 14,
   "metadata": {},
   "outputs": [],
   "source": [
    "from keras.models import Sequential\n",
    "from keras.layers import Dense, Flatten, GlobalMaxPool1D, Conv1D\n",
    "from datetime import datetime\n",
    "import itertools\n",
    "\n",
    "num_filters=[32, 64, 128]\n",
    "kernel_size=[3,5,7]\n",
    "conv_act=['sigmoid', 'softplus', 'tanh', 'softmax']\n",
    "act_32=['sigmoid', 'softplus', 'tanh', 'softmax']\n",
    "act_16=['sigmoid', 'softplus', 'tanh', 'softmax']\n",
    "out_act=['sigmoid', 'softplus', 'tanh', 'softmax']\n",
    "param_list=list(itertools.product(num_filters, kernel_size, conv_act, act_32, act_16, out_act))"
   ]
  },
  {
   "cell_type": "code",
   "execution_count": 15,
   "metadata": {},
   "outputs": [
    {
     "name": "stderr",
     "output_type": "stream",
     "text": [
      "  0%|          | 0/2304 [00:00<?, ?it/s]"
     ]
    },
    {
     "name": "stdout",
     "output_type": "stream",
     "text": [
      "WARNING:tensorflow:From /root/anaconda3/lib/python3.7/site-packages/keras/backend/tensorflow_backend.py:517: The name tf.placeholder is deprecated. Please use tf.compat.v1.placeholder instead.\n",
      "\n",
      "WARNING:tensorflow:From /root/anaconda3/lib/python3.7/site-packages/keras/backend/tensorflow_backend.py:4138: The name tf.random_uniform is deprecated. Please use tf.random.uniform instead.\n",
      "\n",
      "WARNING:tensorflow:From /root/anaconda3/lib/python3.7/site-packages/keras/optimizers.py:790: The name tf.train.Optimizer is deprecated. Please use tf.compat.v1.train.Optimizer instead.\n",
      "\n",
      "WARNING:tensorflow:From /root/anaconda3/lib/python3.7/site-packages/tensorflow/python/ops/math_grad.py:1250: add_dispatch_support.<locals>.wrapper (from tensorflow.python.ops.array_ops) is deprecated and will be removed in a future version.\n",
      "Instructions for updating:\n",
      "Use tf.where in 2.0, which has the same broadcast rule as np.where\n"
     ]
    },
    {
     "name": "stderr",
     "output_type": "stream",
     "text": [
      "100%|██████████| 2304/2304 [2:53:56<00:00,  7.17s/it]  \n"
     ]
    }
   ],
   "source": [
    "result_list=[]\n",
    "\n",
    "for num_filters, kernel_size, conv_act, act_32, act_16, out_act in tqdm(param_list):\n",
    "    with tf.device('/CPU:0'): # Use CPU.\n",
    "        model = Sequential()\n",
    "        model.add(embedding_layer)\n",
    "        # model.add(Flatten())\n",
    "        model.add(Conv1D(num_filters, kernel_size, activation=conv_act))\n",
    "        model.add(GlobalMaxPool1D())\n",
    "        model.add(Dense(units=32, activation=act_32))\n",
    "        model.add(Dense(units=16, activation=act_16))\n",
    "        model.add(Dense(units=len(y_train[0]), activation=out_act))\n",
    "        # compile the model\n",
    "        model.compile(optimizer='adam', loss='categorical_crossentropy', metrics=['acc'])\n",
    "        # F1, precision, and recall removed. https://github.com/keras-team/keras/issues/5794\n",
    "        # fit the model\n",
    "        history=model.fit(x=x_train, y=y_train, validation_data=(x_val, y_val), epochs=100, verbose=0)\n",
    "        result_list+=[[max(history.history['val_acc']), [num_filters, kernel_size, conv_act, act_32, act_16, out_act]]]\n",
    "        ############### Clean up and rebuid objects; otherwise, tensor graph becomes larger and larger and requires more time. ##########\n",
    "        del model\n",
    "        K.clear_session() # Will cause error: Tensor must from the same graph. Cause: Embedding layers changed. Solution: rebuild embedding layer.\n",
    "        ##### Initialize session for reproducibility #####\n",
    "        np.random.seed(520)\n",
    "        rn.seed(520)\n",
    "        session_conf = tf.ConfigProto(intra_op_parallelism_threads=1,\n",
    "                                      inter_op_parallelism_threads=1)\n",
    "        tf.set_random_seed(520)\n",
    "        sess = tf.Session(graph=tf.get_default_graph(), config=session_conf)\n",
    "        K.set_session(sess)\n",
    "        ##################################################\n",
    "        # Rebuid embedding layer.\n",
    "        embedding_layer = Embedding(input_dim=len(tokenizer.word_index)+1, # Size of vocabulary.\n",
    "                                    input_length=input_length, # Length of input, i.e., length of padded sequence.\n",
    "                                    output_dim=EMBEDDING_DIM, # Size of the vector space in which words will be embedded.\n",
    "                                    weights=[embedding_matrix],\n",
    "                                    trainable=False)\n",
    "        #################################################################################################################################"
   ]
  },
  {
   "cell_type": "code",
   "execution_count": 16,
   "metadata": {},
   "outputs": [
    {
     "data": {
      "text/html": [
       "<div>\n",
       "<style scoped>\n",
       "    .dataframe tbody tr th:only-of-type {\n",
       "        vertical-align: middle;\n",
       "    }\n",
       "\n",
       "    .dataframe tbody tr th {\n",
       "        vertical-align: top;\n",
       "    }\n",
       "\n",
       "    .dataframe thead th {\n",
       "        text-align: right;\n",
       "    }\n",
       "</style>\n",
       "<table border=\"1\" class=\"dataframe\">\n",
       "  <thead>\n",
       "    <tr style=\"text-align: right;\">\n",
       "      <th></th>\n",
       "      <th>0</th>\n",
       "      <th>1</th>\n",
       "    </tr>\n",
       "  </thead>\n",
       "  <tbody>\n",
       "    <tr>\n",
       "      <th>517</th>\n",
       "      <td>0.866667</td>\n",
       "      <td>[32, 7, sigmoid, sigmoid, softplus, softplus]</td>\n",
       "    </tr>\n",
       "    <tr>\n",
       "      <th>1897</th>\n",
       "      <td>0.866667</td>\n",
       "      <td>[128, 5, softplus, tanh, tanh, softplus]</td>\n",
       "    </tr>\n",
       "    <tr>\n",
       "      <th>1005</th>\n",
       "      <td>0.866667</td>\n",
       "      <td>[64, 3, softmax, tanh, softmax, softplus]</td>\n",
       "    </tr>\n",
       "    <tr>\n",
       "      <th>993</th>\n",
       "      <td>0.866667</td>\n",
       "      <td>[64, 3, softmax, tanh, sigmoid, softplus]</td>\n",
       "    </tr>\n",
       "    <tr>\n",
       "      <th>992</th>\n",
       "      <td>0.866667</td>\n",
       "      <td>[64, 3, softmax, tanh, sigmoid, sigmoid]</td>\n",
       "    </tr>\n",
       "    <tr>\n",
       "      <th>131</th>\n",
       "      <td>0.866667</td>\n",
       "      <td>[32, 3, tanh, sigmoid, sigmoid, softmax]</td>\n",
       "    </tr>\n",
       "    <tr>\n",
       "      <th>977</th>\n",
       "      <td>0.866667</td>\n",
       "      <td>[64, 3, softmax, softplus, sigmoid, softplus]</td>\n",
       "    </tr>\n",
       "    <tr>\n",
       "      <th>959</th>\n",
       "      <td>0.866667</td>\n",
       "      <td>[64, 3, tanh, softmax, softmax, softmax]</td>\n",
       "    </tr>\n",
       "    <tr>\n",
       "      <th>1001</th>\n",
       "      <td>0.866667</td>\n",
       "      <td>[64, 3, softmax, tanh, tanh, softplus]</td>\n",
       "    </tr>\n",
       "    <tr>\n",
       "      <th>2047</th>\n",
       "      <td>0.866667</td>\n",
       "      <td>[128, 5, softmax, softmax, softmax, softmax]</td>\n",
       "    </tr>\n",
       "  </tbody>\n",
       "</table>\n",
       "</div>"
      ],
      "text/plain": [
       "             0                                              1\n",
       "517   0.866667  [32, 7, sigmoid, sigmoid, softplus, softplus]\n",
       "1897  0.866667       [128, 5, softplus, tanh, tanh, softplus]\n",
       "1005  0.866667      [64, 3, softmax, tanh, softmax, softplus]\n",
       "993   0.866667      [64, 3, softmax, tanh, sigmoid, softplus]\n",
       "992   0.866667       [64, 3, softmax, tanh, sigmoid, sigmoid]\n",
       "131   0.866667       [32, 3, tanh, sigmoid, sigmoid, softmax]\n",
       "977   0.866667  [64, 3, softmax, softplus, sigmoid, softplus]\n",
       "959   0.866667       [64, 3, tanh, softmax, softmax, softmax]\n",
       "1001  0.866667         [64, 3, softmax, tanh, tanh, softplus]\n",
       "2047  0.866667   [128, 5, softmax, softmax, softmax, softmax]"
      ]
     },
     "execution_count": 16,
     "metadata": {},
     "output_type": "execute_result"
    }
   ],
   "source": [
    "pd.DataFrame(result_list).sort_values(0, ascending=False)[0:10]"
   ]
  },
  {
   "cell_type": "code",
   "execution_count": 17,
   "metadata": {},
   "outputs": [],
   "source": [
    "pd.DataFrame(result_list).sort_values(0, ascending=False).to_csv('../../output/muy060_grid_search_glove-tweet.tsv', sep='\\t')"
   ]
  },
  {
   "cell_type": "markdown",
   "metadata": {},
   "source": [
    "### Train final model"
   ]
  },
  {
   "cell_type": "code",
   "execution_count": 22,
   "metadata": {},
   "outputs": [
    {
     "name": "stdout",
     "output_type": "stream",
     "text": [
      "0.8666666746139526\n"
     ]
    }
   ],
   "source": [
    "############### Clean up and rebuid objects; otherwise, tensor graph becomes larger and larger and requires more time. ##########\n",
    "K.clear_session() # Will cause error: Tensor must from the same graph. Cause: Embedding layers changed. Solution: rebuild embedding layer.\n",
    "##### Initialize session for reproducibility #####\n",
    "np.random.seed(520)\n",
    "rn.seed(520)\n",
    "session_conf = tf.ConfigProto(intra_op_parallelism_threads=1,\n",
    "                              inter_op_parallelism_threads=1)\n",
    "tf.set_random_seed(520)\n",
    "sess = tf.Session(graph=tf.get_default_graph(), config=session_conf)\n",
    "K.set_session(sess)\n",
    "##################################################\n",
    "# Rebuid embedding layer.\n",
    "embedding_layer = Embedding(input_dim=len(tokenizer.word_index)+1, # Size of vocabulary.\n",
    "                            input_length=input_length, # Length of input, i.e., length of padded sequence.\n",
    "                            output_dim=EMBEDDING_DIM, # Size of the vector space in which words will be embedded.\n",
    "                            weights=[embedding_matrix],\n",
    "                            trainable=False)\n",
    "#################################################################################################################################\n",
    "with tf.device('/CPU:0'):\n",
    "    model = Sequential()\n",
    "    model.add(embedding_layer)\n",
    "    # model.add(Flatten())\n",
    "    model.add(Conv1D(32, 7, activation='sigmoid'))\n",
    "    model.add(GlobalMaxPool1D())\n",
    "    model.add(Dense(units=32, activation='sigmoid'))\n",
    "    model.add(Dense(units=16, activation='softplus'))\n",
    "    model.add(Dense(units=len(y_train[0]), activation='softplus'))\n",
    "    # compile the model\n",
    "    model.compile(optimizer='adam', loss='categorical_crossentropy', metrics=['acc'])\n",
    "    # F1, precision, and recall removed. https://github.com/keras-team/keras/issues/5794\n",
    "    # fit the model\n",
    "    history=model.fit(x=x_train, y=y_train, validation_data=(x_val, y_val), epochs=36, verbose=0)\n",
    "    print(max(history.history['val_acc']))"
   ]
  },
  {
   "cell_type": "code",
   "execution_count": 27,
   "metadata": {},
   "outputs": [
    {
     "data": {
      "text/plain": [
       "(array([0.89189189, 0.82608696]),\n",
       " array([0.89189189, 0.82608696]),\n",
       " array([0.89189189, 0.82608696]),\n",
       " array([37, 23]))"
      ]
     },
     "execution_count": 27,
     "metadata": {},
     "output_type": "execute_result"
    }
   ],
   "source": [
    "from sklearn.metrics import precision_recall_fscore_support\n",
    "y_val_pred=lb.inverse_transform(np_utils.to_categorical(model.predict(x_val).argmax(axis=-1))).tolist()\n",
    "precision_recall_fscore_support(y_true=lb.inverse_transform(y_val), y_pred=y_val_pred)"
   ]
  },
  {
   "cell_type": "code",
   "execution_count": 50,
   "metadata": {},
   "outputs": [
    {
     "data": {
      "text/html": [
       "<div>\n",
       "<style scoped>\n",
       "    .dataframe tbody tr th:only-of-type {\n",
       "        vertical-align: middle;\n",
       "    }\n",
       "\n",
       "    .dataframe tbody tr th {\n",
       "        vertical-align: top;\n",
       "    }\n",
       "\n",
       "    .dataframe thead th {\n",
       "        text-align: right;\n",
       "    }\n",
       "</style>\n",
       "<table border=\"1\" class=\"dataframe\">\n",
       "  <thead>\n",
       "    <tr style=\"text-align: right;\">\n",
       "      <th></th>\n",
       "      <th>pred</th>\n",
       "    </tr>\n",
       "    <tr>\n",
       "      <th>true</th>\n",
       "      <th></th>\n",
       "    </tr>\n",
       "  </thead>\n",
       "  <tbody>\n",
       "    <tr>\n",
       "      <th>0</th>\n",
       "      <td>37</td>\n",
       "    </tr>\n",
       "    <tr>\n",
       "      <th>1</th>\n",
       "      <td>23</td>\n",
       "    </tr>\n",
       "  </tbody>\n",
       "</table>\n",
       "</div>"
      ],
      "text/plain": [
       "      pred\n",
       "true      \n",
       "0       37\n",
       "1       23"
      ]
     },
     "execution_count": 50,
     "metadata": {},
     "output_type": "execute_result"
    }
   ],
   "source": [
    "df_score.groupby('true').count()"
   ]
  },
  {
   "cell_type": "code",
   "execution_count": 74,
   "metadata": {},
   "outputs": [
    {
     "name": "stdout",
     "output_type": "stream",
     "text": [
      "0.8666666666666667\n"
     ]
    },
    {
     "data": {
      "text/plain": [
       "0.8260869565217391"
      ]
     },
     "execution_count": 74,
     "metadata": {},
     "output_type": "execute_result"
    }
   ],
   "source": [
    "df_score=pd.concat([pd.Series(lb.inverse_transform(y_val)), pd.Series(y_val_pred)], axis=1).rename(columns={0:'true', 1:'pred'})\n",
    "# Accuracy.\n",
    "print(len(df_score[df_score.true==df_score.pred])/len(df_score))\n",
    "# Precision: tp/(tp+fp)\n",
    "tp=len(df_score[(df_score.true==1)&(df_score.pred==1)])\n",
    "fp=len(df_score[(df_score.true==0)&(df_score.pred==1)])\n",
    "tp/(tp+fp)"
   ]
  },
  {
   "cell_type": "code",
   "execution_count": 55,
   "metadata": {},
   "outputs": [
    {
     "data": {
      "text/plain": [
       "0.8260869565217391"
      ]
     },
     "execution_count": 55,
     "metadata": {},
     "output_type": "execute_result"
    }
   ],
   "source": [
    "# Recall: tp / (tp + fn)\n",
    "fn=len(df_score[(df_score.true==1)&(df_score.pred==0)])\n",
    "tp/(tp+fn)"
   ]
  },
  {
   "cell_type": "code",
   "execution_count": 56,
   "metadata": {},
   "outputs": [
    {
     "name": "stdout",
     "output_type": "stream",
     "text": [
      "19 33 4 4\n"
     ]
    }
   ],
   "source": [
    "tn=len(df_score[(df_score.true==0)&(df_score.pred==0)])\n",
    "print(tp, tn, fp, fn)"
   ]
  },
  {
   "cell_type": "code",
   "execution_count": 69,
   "metadata": {},
   "outputs": [
    {
     "data": {
      "text/html": [
       "<div>\n",
       "<style scoped>\n",
       "    .dataframe tbody tr th:only-of-type {\n",
       "        vertical-align: middle;\n",
       "    }\n",
       "\n",
       "    .dataframe tbody tr th {\n",
       "        vertical-align: top;\n",
       "    }\n",
       "\n",
       "    .dataframe thead th {\n",
       "        text-align: right;\n",
       "    }\n",
       "</style>\n",
       "<table border=\"1\" class=\"dataframe\">\n",
       "  <thead>\n",
       "    <tr style=\"text-align: right;\">\n",
       "      <th></th>\n",
       "      <th>agency_id</th>\n",
       "      <th>tweet_text</th>\n",
       "      <th>moral_pred</th>\n",
       "      <th>moral_ptg</th>\n",
       "      <th>ci_95</th>\n",
       "    </tr>\n",
       "  </thead>\n",
       "  <tbody>\n",
       "    <tr>\n",
       "      <th>0</th>\n",
       "      <td>DeptVetAffairs</td>\n",
       "      <td>1968</td>\n",
       "      <td>1256</td>\n",
       "      <td>0.638211</td>\n",
       "      <td>0.021230</td>\n",
       "    </tr>\n",
       "    <tr>\n",
       "      <th>1</th>\n",
       "      <td>usedgov</td>\n",
       "      <td>1927</td>\n",
       "      <td>1012</td>\n",
       "      <td>0.525169</td>\n",
       "      <td>0.022296</td>\n",
       "    </tr>\n",
       "    <tr>\n",
       "      <th>2</th>\n",
       "      <td>HHSGov</td>\n",
       "      <td>1988</td>\n",
       "      <td>997</td>\n",
       "      <td>0.501509</td>\n",
       "      <td>0.021979</td>\n",
       "    </tr>\n",
       "    <tr>\n",
       "      <th>3</th>\n",
       "      <td>Interior</td>\n",
       "      <td>1031</td>\n",
       "      <td>502</td>\n",
       "      <td>0.486906</td>\n",
       "      <td>0.030510</td>\n",
       "    </tr>\n",
       "    <tr>\n",
       "      <th>4</th>\n",
       "      <td>DeptofDefense</td>\n",
       "      <td>1898</td>\n",
       "      <td>764</td>\n",
       "      <td>0.402529</td>\n",
       "      <td>0.022063</td>\n",
       "    </tr>\n",
       "    <tr>\n",
       "      <th>5</th>\n",
       "      <td>HUDgov</td>\n",
       "      <td>1870</td>\n",
       "      <td>714</td>\n",
       "      <td>0.381818</td>\n",
       "      <td>0.022020</td>\n",
       "    </tr>\n",
       "    <tr>\n",
       "      <th>6</th>\n",
       "      <td>USDA</td>\n",
       "      <td>1996</td>\n",
       "      <td>642</td>\n",
       "      <td>0.321643</td>\n",
       "      <td>0.020492</td>\n",
       "    </tr>\n",
       "    <tr>\n",
       "      <th>7</th>\n",
       "      <td>DHSgov</td>\n",
       "      <td>1975</td>\n",
       "      <td>565</td>\n",
       "      <td>0.286076</td>\n",
       "      <td>0.019931</td>\n",
       "    </tr>\n",
       "    <tr>\n",
       "      <th>8</th>\n",
       "      <td>StateDept</td>\n",
       "      <td>1988</td>\n",
       "      <td>468</td>\n",
       "      <td>0.235412</td>\n",
       "      <td>0.018650</td>\n",
       "    </tr>\n",
       "    <tr>\n",
       "      <th>9</th>\n",
       "      <td>USDOT</td>\n",
       "      <td>1953</td>\n",
       "      <td>459</td>\n",
       "      <td>0.235023</td>\n",
       "      <td>0.018805</td>\n",
       "    </tr>\n",
       "    <tr>\n",
       "      <th>10</th>\n",
       "      <td>CommerceGov</td>\n",
       "      <td>1975</td>\n",
       "      <td>405</td>\n",
       "      <td>0.205063</td>\n",
       "      <td>0.017807</td>\n",
       "    </tr>\n",
       "    <tr>\n",
       "      <th>11</th>\n",
       "      <td>ENERGY</td>\n",
       "      <td>1934</td>\n",
       "      <td>371</td>\n",
       "      <td>0.191830</td>\n",
       "      <td>0.017548</td>\n",
       "    </tr>\n",
       "    <tr>\n",
       "      <th>12</th>\n",
       "      <td>USTreasury</td>\n",
       "      <td>1972</td>\n",
       "      <td>248</td>\n",
       "      <td>0.125761</td>\n",
       "      <td>0.014635</td>\n",
       "    </tr>\n",
       "    <tr>\n",
       "      <th>13</th>\n",
       "      <td>TheJusticeDept</td>\n",
       "      <td>1927</td>\n",
       "      <td>182</td>\n",
       "      <td>0.094447</td>\n",
       "      <td>0.013058</td>\n",
       "    </tr>\n",
       "  </tbody>\n",
       "</table>\n",
       "</div>"
      ],
      "text/plain": [
       "         agency_id  tweet_text  moral_pred  moral_ptg     ci_95\n",
       "0   DeptVetAffairs        1968        1256   0.638211  0.021230\n",
       "1          usedgov        1927        1012   0.525169  0.022296\n",
       "2           HHSGov        1988         997   0.501509  0.021979\n",
       "3         Interior        1031         502   0.486906  0.030510\n",
       "4    DeptofDefense        1898         764   0.402529  0.022063\n",
       "5           HUDgov        1870         714   0.381818  0.022020\n",
       "6             USDA        1996         642   0.321643  0.020492\n",
       "7           DHSgov        1975         565   0.286076  0.019931\n",
       "8        StateDept        1988         468   0.235412  0.018650\n",
       "9            USDOT        1953         459   0.235023  0.018805\n",
       "10     CommerceGov        1975         405   0.205063  0.017807\n",
       "11          ENERGY        1934         371   0.191830  0.017548\n",
       "12      USTreasury        1972         248   0.125761  0.014635\n",
       "13  TheJusticeDept        1927         182   0.094447  0.013058"
      ]
     },
     "execution_count": 69,
     "metadata": {},
     "output_type": "execute_result"
    }
   ],
   "source": [
    "y_prob=model.predict(x_pred)\n",
    "y_pred=lb.inverse_transform(np_utils.to_categorical(y_prob.argmax(axis=-1))).tolist()\n",
    "\n",
    "df_agency_tweets_database['moral_pred']=y_pred\n",
    "df_moral_stats=df_agency_tweets_database.groupby('agency_id').count()[['tweet_text']].merge(df_agency_tweets_database.groupby('agency_id').sum()[['moral_pred']], left_index=True, right_index=True, how='left')\n",
    "df_moral_stats['moral_ptg']=df_moral_stats['moral_pred']/df_moral_stats['tweet_text']\n",
    "df_moral_stats['ci_95']=np.sqrt(df_moral_stats.moral_ptg*(1-df_moral_stats.moral_ptg)/df_moral_stats.tweet_text)*1.96\n",
    "df_moral_stats.sort_values('moral_ptg', ascending=False, inplace=True)\n",
    "df_moral_stats.reset_index(inplace=True)\n",
    "df_moral_stats"
   ]
  },
  {
   "cell_type": "code",
   "execution_count": 70,
   "metadata": {},
   "outputs": [],
   "source": [
    "df_moral_stats['agency_id'].replace(dict(DeptVetAffairs='DeptVetAffairs(-)',\n",
    "                                         usedgov='usedgov(-)',\n",
    "                                         HHSGov='HHSGov(-)',\n",
    "                                         Interior='Interior(+6)',\n",
    "                                         DeptofDefense='DeptofDefense(+6)',\n",
    "                                         HUDgov='HUDgov(-2)',\n",
    "                                         USDA='USDA(-)',\n",
    "                                         DHSgov='DHSgov(-2)',\n",
    "                                         StateDept='StateDept(+4)',\n",
    "                                         USDOT='USDOT(-2)',\n",
    "                                         CommerceGov='CommerceGov(-2)',\n",
    "                                         ENERGY='ENERGY(-7)',\n",
    "                                         USTreasury='USTreasury(-1)',\n",
    "                                         TheJusticeDept='TheJusticeDept(-)'\n",
    "                                        ), inplace=True)"
   ]
  },
  {
   "cell_type": "code",
   "execution_count": 77,
   "metadata": {},
   "outputs": [
    {
     "data": {
      "application/vnd.plotly.v1+json": {
       "config": {
        "plotlyServerURL": "https://plot.ly"
       },
       "data": [
        {
         "error_x": {
          "array": [
           0.01305770669051857,
           0.01463491406398823,
           0.01754841153025925,
           0.017806672007464996,
           0.018805476747843813,
           0.01864988773086172,
           0.019931464096754198,
           0.020492366388382494,
           0.0220202215651003,
           0.022063020361304052,
           0.030510390629522665,
           0.02197940379113972,
           0.022296377184284226,
           0.021230158998671318
          ]
         },
         "hoverlabel": {
          "namelength": 0
         },
         "hovertemplate": "% Moral Reputation Tweets=%{x}<br>Agency=%{y}",
         "legendgroup": "",
         "marker": {
          "color": "#636efa",
          "symbol": "circle"
         },
         "mode": "markers",
         "name": "",
         "showlegend": false,
         "type": "scatter",
         "x": [
          0.09444732745199792,
          0.1257606490872211,
          0.19183040330920373,
          0.20506329113924052,
          0.2350230414746544,
          0.23541247484909456,
          0.28607594936708863,
          0.3216432865731463,
          0.38181818181818183,
          0.40252897787144365,
          0.486905916585839,
          0.5015090543259557,
          0.5251686559418786,
          0.6382113821138211
         ],
         "xaxis": "x",
         "y": [
          "TheJusticeDept(-)",
          "USTreasury(-1)",
          "ENERGY(-7)",
          "CommerceGov(-2)",
          "USDOT(-2)",
          "StateDept(+4)",
          "DHSgov(-2)",
          "USDA(-)",
          "HUDgov(-2)",
          "DeptofDefense(+6)",
          "Interior(+6)",
          "HHSGov(-)",
          "usedgov(-)",
          "DeptVetAffairs(-)"
         ],
         "yaxis": "y"
        }
       ],
       "layout": {
        "height": 800,
        "legend": {
         "tracegroupgap": 0
        },
        "margin": {
         "b": 15,
         "l": 0,
         "r": 0,
         "t": 0
        },
        "template": {
         "data": {
          "bar": [
           {
            "error_x": {
             "color": "#2a3f5f"
            },
            "error_y": {
             "color": "#2a3f5f"
            },
            "marker": {
             "line": {
              "color": "#E5ECF6",
              "width": 0.5
             }
            },
            "type": "bar"
           }
          ],
          "barpolar": [
           {
            "marker": {
             "line": {
              "color": "#E5ECF6",
              "width": 0.5
             }
            },
            "type": "barpolar"
           }
          ],
          "carpet": [
           {
            "aaxis": {
             "endlinecolor": "#2a3f5f",
             "gridcolor": "white",
             "linecolor": "white",
             "minorgridcolor": "white",
             "startlinecolor": "#2a3f5f"
            },
            "baxis": {
             "endlinecolor": "#2a3f5f",
             "gridcolor": "white",
             "linecolor": "white",
             "minorgridcolor": "white",
             "startlinecolor": "#2a3f5f"
            },
            "type": "carpet"
           }
          ],
          "choropleth": [
           {
            "colorbar": {
             "outlinewidth": 0,
             "ticks": ""
            },
            "type": "choropleth"
           }
          ],
          "contour": [
           {
            "colorbar": {
             "outlinewidth": 0,
             "ticks": ""
            },
            "colorscale": [
             [
              0,
              "#0d0887"
             ],
             [
              0.1111111111111111,
              "#46039f"
             ],
             [
              0.2222222222222222,
              "#7201a8"
             ],
             [
              0.3333333333333333,
              "#9c179e"
             ],
             [
              0.4444444444444444,
              "#bd3786"
             ],
             [
              0.5555555555555556,
              "#d8576b"
             ],
             [
              0.6666666666666666,
              "#ed7953"
             ],
             [
              0.7777777777777778,
              "#fb9f3a"
             ],
             [
              0.8888888888888888,
              "#fdca26"
             ],
             [
              1,
              "#f0f921"
             ]
            ],
            "type": "contour"
           }
          ],
          "contourcarpet": [
           {
            "colorbar": {
             "outlinewidth": 0,
             "ticks": ""
            },
            "type": "contourcarpet"
           }
          ],
          "heatmap": [
           {
            "colorbar": {
             "outlinewidth": 0,
             "ticks": ""
            },
            "colorscale": [
             [
              0,
              "#0d0887"
             ],
             [
              0.1111111111111111,
              "#46039f"
             ],
             [
              0.2222222222222222,
              "#7201a8"
             ],
             [
              0.3333333333333333,
              "#9c179e"
             ],
             [
              0.4444444444444444,
              "#bd3786"
             ],
             [
              0.5555555555555556,
              "#d8576b"
             ],
             [
              0.6666666666666666,
              "#ed7953"
             ],
             [
              0.7777777777777778,
              "#fb9f3a"
             ],
             [
              0.8888888888888888,
              "#fdca26"
             ],
             [
              1,
              "#f0f921"
             ]
            ],
            "type": "heatmap"
           }
          ],
          "heatmapgl": [
           {
            "colorbar": {
             "outlinewidth": 0,
             "ticks": ""
            },
            "colorscale": [
             [
              0,
              "#0d0887"
             ],
             [
              0.1111111111111111,
              "#46039f"
             ],
             [
              0.2222222222222222,
              "#7201a8"
             ],
             [
              0.3333333333333333,
              "#9c179e"
             ],
             [
              0.4444444444444444,
              "#bd3786"
             ],
             [
              0.5555555555555556,
              "#d8576b"
             ],
             [
              0.6666666666666666,
              "#ed7953"
             ],
             [
              0.7777777777777778,
              "#fb9f3a"
             ],
             [
              0.8888888888888888,
              "#fdca26"
             ],
             [
              1,
              "#f0f921"
             ]
            ],
            "type": "heatmapgl"
           }
          ],
          "histogram": [
           {
            "marker": {
             "colorbar": {
              "outlinewidth": 0,
              "ticks": ""
             }
            },
            "type": "histogram"
           }
          ],
          "histogram2d": [
           {
            "colorbar": {
             "outlinewidth": 0,
             "ticks": ""
            },
            "colorscale": [
             [
              0,
              "#0d0887"
             ],
             [
              0.1111111111111111,
              "#46039f"
             ],
             [
              0.2222222222222222,
              "#7201a8"
             ],
             [
              0.3333333333333333,
              "#9c179e"
             ],
             [
              0.4444444444444444,
              "#bd3786"
             ],
             [
              0.5555555555555556,
              "#d8576b"
             ],
             [
              0.6666666666666666,
              "#ed7953"
             ],
             [
              0.7777777777777778,
              "#fb9f3a"
             ],
             [
              0.8888888888888888,
              "#fdca26"
             ],
             [
              1,
              "#f0f921"
             ]
            ],
            "type": "histogram2d"
           }
          ],
          "histogram2dcontour": [
           {
            "colorbar": {
             "outlinewidth": 0,
             "ticks": ""
            },
            "colorscale": [
             [
              0,
              "#0d0887"
             ],
             [
              0.1111111111111111,
              "#46039f"
             ],
             [
              0.2222222222222222,
              "#7201a8"
             ],
             [
              0.3333333333333333,
              "#9c179e"
             ],
             [
              0.4444444444444444,
              "#bd3786"
             ],
             [
              0.5555555555555556,
              "#d8576b"
             ],
             [
              0.6666666666666666,
              "#ed7953"
             ],
             [
              0.7777777777777778,
              "#fb9f3a"
             ],
             [
              0.8888888888888888,
              "#fdca26"
             ],
             [
              1,
              "#f0f921"
             ]
            ],
            "type": "histogram2dcontour"
           }
          ],
          "mesh3d": [
           {
            "colorbar": {
             "outlinewidth": 0,
             "ticks": ""
            },
            "type": "mesh3d"
           }
          ],
          "parcoords": [
           {
            "line": {
             "colorbar": {
              "outlinewidth": 0,
              "ticks": ""
             }
            },
            "type": "parcoords"
           }
          ],
          "scatter": [
           {
            "marker": {
             "colorbar": {
              "outlinewidth": 0,
              "ticks": ""
             }
            },
            "type": "scatter"
           }
          ],
          "scatter3d": [
           {
            "line": {
             "colorbar": {
              "outlinewidth": 0,
              "ticks": ""
             }
            },
            "marker": {
             "colorbar": {
              "outlinewidth": 0,
              "ticks": ""
             }
            },
            "type": "scatter3d"
           }
          ],
          "scattercarpet": [
           {
            "marker": {
             "colorbar": {
              "outlinewidth": 0,
              "ticks": ""
             }
            },
            "type": "scattercarpet"
           }
          ],
          "scattergeo": [
           {
            "marker": {
             "colorbar": {
              "outlinewidth": 0,
              "ticks": ""
             }
            },
            "type": "scattergeo"
           }
          ],
          "scattergl": [
           {
            "marker": {
             "colorbar": {
              "outlinewidth": 0,
              "ticks": ""
             }
            },
            "type": "scattergl"
           }
          ],
          "scattermapbox": [
           {
            "marker": {
             "colorbar": {
              "outlinewidth": 0,
              "ticks": ""
             }
            },
            "type": "scattermapbox"
           }
          ],
          "scatterpolar": [
           {
            "marker": {
             "colorbar": {
              "outlinewidth": 0,
              "ticks": ""
             }
            },
            "type": "scatterpolar"
           }
          ],
          "scatterpolargl": [
           {
            "marker": {
             "colorbar": {
              "outlinewidth": 0,
              "ticks": ""
             }
            },
            "type": "scatterpolargl"
           }
          ],
          "scatterternary": [
           {
            "marker": {
             "colorbar": {
              "outlinewidth": 0,
              "ticks": ""
             }
            },
            "type": "scatterternary"
           }
          ],
          "surface": [
           {
            "colorbar": {
             "outlinewidth": 0,
             "ticks": ""
            },
            "colorscale": [
             [
              0,
              "#0d0887"
             ],
             [
              0.1111111111111111,
              "#46039f"
             ],
             [
              0.2222222222222222,
              "#7201a8"
             ],
             [
              0.3333333333333333,
              "#9c179e"
             ],
             [
              0.4444444444444444,
              "#bd3786"
             ],
             [
              0.5555555555555556,
              "#d8576b"
             ],
             [
              0.6666666666666666,
              "#ed7953"
             ],
             [
              0.7777777777777778,
              "#fb9f3a"
             ],
             [
              0.8888888888888888,
              "#fdca26"
             ],
             [
              1,
              "#f0f921"
             ]
            ],
            "type": "surface"
           }
          ],
          "table": [
           {
            "cells": {
             "fill": {
              "color": "#EBF0F8"
             },
             "line": {
              "color": "white"
             }
            },
            "header": {
             "fill": {
              "color": "#C8D4E3"
             },
             "line": {
              "color": "white"
             }
            },
            "type": "table"
           }
          ]
         },
         "layout": {
          "annotationdefaults": {
           "arrowcolor": "#2a3f5f",
           "arrowhead": 0,
           "arrowwidth": 1
          },
          "colorscale": {
           "diverging": [
            [
             0,
             "#8e0152"
            ],
            [
             0.1,
             "#c51b7d"
            ],
            [
             0.2,
             "#de77ae"
            ],
            [
             0.3,
             "#f1b6da"
            ],
            [
             0.4,
             "#fde0ef"
            ],
            [
             0.5,
             "#f7f7f7"
            ],
            [
             0.6,
             "#e6f5d0"
            ],
            [
             0.7,
             "#b8e186"
            ],
            [
             0.8,
             "#7fbc41"
            ],
            [
             0.9,
             "#4d9221"
            ],
            [
             1,
             "#276419"
            ]
           ],
           "sequential": [
            [
             0,
             "#0d0887"
            ],
            [
             0.1111111111111111,
             "#46039f"
            ],
            [
             0.2222222222222222,
             "#7201a8"
            ],
            [
             0.3333333333333333,
             "#9c179e"
            ],
            [
             0.4444444444444444,
             "#bd3786"
            ],
            [
             0.5555555555555556,
             "#d8576b"
            ],
            [
             0.6666666666666666,
             "#ed7953"
            ],
            [
             0.7777777777777778,
             "#fb9f3a"
            ],
            [
             0.8888888888888888,
             "#fdca26"
            ],
            [
             1,
             "#f0f921"
            ]
           ],
           "sequentialminus": [
            [
             0,
             "#0d0887"
            ],
            [
             0.1111111111111111,
             "#46039f"
            ],
            [
             0.2222222222222222,
             "#7201a8"
            ],
            [
             0.3333333333333333,
             "#9c179e"
            ],
            [
             0.4444444444444444,
             "#bd3786"
            ],
            [
             0.5555555555555556,
             "#d8576b"
            ],
            [
             0.6666666666666666,
             "#ed7953"
            ],
            [
             0.7777777777777778,
             "#fb9f3a"
            ],
            [
             0.8888888888888888,
             "#fdca26"
            ],
            [
             1,
             "#f0f921"
            ]
           ]
          },
          "colorway": [
           "#636efa",
           "#EF553B",
           "#00cc96",
           "#ab63fa",
           "#FFA15A",
           "#19d3f3",
           "#FF6692",
           "#B6E880",
           "#FF97FF",
           "#FECB52"
          ],
          "font": {
           "color": "#2a3f5f"
          },
          "geo": {
           "bgcolor": "white",
           "lakecolor": "white",
           "landcolor": "#E5ECF6",
           "showlakes": true,
           "showland": true,
           "subunitcolor": "white"
          },
          "hoverlabel": {
           "align": "left"
          },
          "hovermode": "closest",
          "mapbox": {
           "style": "light"
          },
          "paper_bgcolor": "white",
          "plot_bgcolor": "#E5ECF6",
          "polar": {
           "angularaxis": {
            "gridcolor": "white",
            "linecolor": "white",
            "ticks": ""
           },
           "bgcolor": "#E5ECF6",
           "radialaxis": {
            "gridcolor": "white",
            "linecolor": "white",
            "ticks": ""
           }
          },
          "scene": {
           "xaxis": {
            "backgroundcolor": "#E5ECF6",
            "gridcolor": "white",
            "gridwidth": 2,
            "linecolor": "white",
            "showbackground": true,
            "ticks": "",
            "zerolinecolor": "white"
           },
           "yaxis": {
            "backgroundcolor": "#E5ECF6",
            "gridcolor": "white",
            "gridwidth": 2,
            "linecolor": "white",
            "showbackground": true,
            "ticks": "",
            "zerolinecolor": "white"
           },
           "zaxis": {
            "backgroundcolor": "#E5ECF6",
            "gridcolor": "white",
            "gridwidth": 2,
            "linecolor": "white",
            "showbackground": true,
            "ticks": "",
            "zerolinecolor": "white"
           }
          },
          "shapedefaults": {
           "line": {
            "color": "#2a3f5f"
           }
          },
          "ternary": {
           "aaxis": {
            "gridcolor": "white",
            "linecolor": "white",
            "ticks": ""
           },
           "baxis": {
            "gridcolor": "white",
            "linecolor": "white",
            "ticks": ""
           },
           "bgcolor": "#E5ECF6",
           "caxis": {
            "gridcolor": "white",
            "linecolor": "white",
            "ticks": ""
           }
          },
          "title": {
           "x": 0.05
          },
          "xaxis": {
           "automargin": true,
           "gridcolor": "white",
           "linecolor": "white",
           "ticks": "",
           "zerolinecolor": "white",
           "zerolinewidth": 2
          },
          "yaxis": {
           "automargin": true,
           "gridcolor": "white",
           "linecolor": "white",
           "ticks": "",
           "zerolinecolor": "white",
           "zerolinewidth": 2
          }
         }
        },
        "width": 600,
        "xaxis": {
         "anchor": "y",
         "autorange": true,
         "domain": [
          0,
          0.98
         ],
         "range": [
          0.04927562518642307,
          0.6915555366875487
         ],
         "title": {
          "text": "% Moral Reputation Tweets"
         },
         "type": "linear"
        },
        "yaxis": {
         "anchor": "x",
         "autorange": true,
         "domain": [
          0,
          1
         ],
         "range": [
          -0.8013438504236052,
          13.801343850423605
         ],
         "title": {
          "text": "Agency"
         },
         "type": "category"
        }
       }
      },
      "image/png": "[encoded data removed]",
      "text/html": [
       "<div>\n",
       "        \n",
       "        \n",
       "            <div id=\"7c4e5b4a-efa5-43c7-8ab2-064e421ecbbe\" class=\"plotly-graph-div\" style=\"height:800px; width:600px;\"></div>\n",
       "            <script type=\"text/javascript\">\n",
       "                require([\"plotly\"], function(Plotly) {\n",
       "                    window.PLOTLYENV=window.PLOTLYENV || {};\n",
       "                    \n",
       "                if (document.getElementById(\"7c4e5b4a-efa5-43c7-8ab2-064e421ecbbe\")) {\n",
       "                    Plotly.newPlot(\n",
       "                        '7c4e5b4a-efa5-43c7-8ab2-064e421ecbbe',\n",
       "                        [{\"error_x\": {\"array\": [0.01305770669051857, 0.01463491406398823, 0.01754841153025925, 0.017806672007464996, 0.018805476747843813, 0.01864988773086172, 0.019931464096754198, 0.020492366388382494, 0.0220202215651003, 0.022063020361304052, 0.030510390629522665, 0.02197940379113972, 0.022296377184284226, 0.021230158998671318]}, \"hoverlabel\": {\"namelength\": 0}, \"hovertemplate\": \"% Moral Reputation Tweets=%{x}<br>Agency=%{y}\", \"legendgroup\": \"\", \"marker\": {\"color\": \"#636efa\", \"symbol\": \"circle\"}, \"mode\": \"markers\", \"name\": \"\", \"showlegend\": false, \"type\": \"scatter\", \"x\": [0.09444732745199792, 0.1257606490872211, 0.19183040330920373, 0.20506329113924052, 0.2350230414746544, 0.23541247484909456, 0.28607594936708863, 0.3216432865731463, 0.38181818181818183, 0.40252897787144365, 0.486905916585839, 0.5015090543259557, 0.5251686559418786, 0.6382113821138211], \"xaxis\": \"x\", \"y\": [\"TheJusticeDept(-)\", \"USTreasury(-1)\", \"ENERGY(-7)\", \"CommerceGov(-2)\", \"USDOT(-2)\", \"StateDept(+4)\", \"DHSgov(-2)\", \"USDA(-)\", \"HUDgov(-2)\", \"DeptofDefense(+6)\", \"Interior(+6)\", \"HHSGov(-)\", \"usedgov(-)\", \"DeptVetAffairs(-)\"], \"yaxis\": \"y\"}],\n",
       "                        {\"height\": 800, \"legend\": {\"tracegroupgap\": 0}, \"margin\": {\"b\": 15, \"l\": 0, \"r\": 0, \"t\": 0}, \"template\": {\"data\": {\"bar\": [{\"error_x\": {\"color\": \"#2a3f5f\"}, \"error_y\": {\"color\": \"#2a3f5f\"}, \"marker\": {\"line\": {\"color\": \"#E5ECF6\", \"width\": 0.5}}, \"type\": \"bar\"}], \"barpolar\": [{\"marker\": {\"line\": {\"color\": \"#E5ECF6\", \"width\": 0.5}}, \"type\": \"barpolar\"}], \"carpet\": [{\"aaxis\": {\"endlinecolor\": \"#2a3f5f\", \"gridcolor\": \"white\", \"linecolor\": \"white\", \"minorgridcolor\": \"white\", \"startlinecolor\": \"#2a3f5f\"}, \"baxis\": {\"endlinecolor\": \"#2a3f5f\", \"gridcolor\": \"white\", \"linecolor\": \"white\", \"minorgridcolor\": \"white\", \"startlinecolor\": \"#2a3f5f\"}, \"type\": \"carpet\"}], \"choropleth\": [{\"colorbar\": {\"outlinewidth\": 0, \"ticks\": \"\"}, \"type\": \"choropleth\"}], \"contour\": [{\"colorbar\": {\"outlinewidth\": 0, \"ticks\": \"\"}, \"colorscale\": [[0.0, \"#0d0887\"], [0.1111111111111111, \"#46039f\"], [0.2222222222222222, \"#7201a8\"], [0.3333333333333333, \"#9c179e\"], [0.4444444444444444, \"#bd3786\"], [0.5555555555555556, \"#d8576b\"], [0.6666666666666666, \"#ed7953\"], [0.7777777777777778, \"#fb9f3a\"], [0.8888888888888888, \"#fdca26\"], [1.0, \"#f0f921\"]], \"type\": \"contour\"}], \"contourcarpet\": [{\"colorbar\": {\"outlinewidth\": 0, \"ticks\": \"\"}, \"type\": \"contourcarpet\"}], \"heatmap\": [{\"colorbar\": {\"outlinewidth\": 0, \"ticks\": \"\"}, \"colorscale\": [[0.0, \"#0d0887\"], [0.1111111111111111, \"#46039f\"], [0.2222222222222222, \"#7201a8\"], [0.3333333333333333, \"#9c179e\"], [0.4444444444444444, \"#bd3786\"], [0.5555555555555556, \"#d8576b\"], [0.6666666666666666, \"#ed7953\"], [0.7777777777777778, \"#fb9f3a\"], [0.8888888888888888, \"#fdca26\"], [1.0, \"#f0f921\"]], \"type\": \"heatmap\"}], \"heatmapgl\": [{\"colorbar\": {\"outlinewidth\": 0, \"ticks\": \"\"}, \"colorscale\": [[0.0, \"#0d0887\"], [0.1111111111111111, \"#46039f\"], [0.2222222222222222, \"#7201a8\"], [0.3333333333333333, \"#9c179e\"], [0.4444444444444444, \"#bd3786\"], [0.5555555555555556, \"#d8576b\"], [0.6666666666666666, \"#ed7953\"], [0.7777777777777778, \"#fb9f3a\"], [0.8888888888888888, \"#fdca26\"], [1.0, \"#f0f921\"]], \"type\": \"heatmapgl\"}], \"histogram\": [{\"marker\": {\"colorbar\": {\"outlinewidth\": 0, \"ticks\": \"\"}}, \"type\": \"histogram\"}], \"histogram2d\": [{\"colorbar\": {\"outlinewidth\": 0, \"ticks\": \"\"}, \"colorscale\": [[0.0, \"#0d0887\"], [0.1111111111111111, \"#46039f\"], [0.2222222222222222, \"#7201a8\"], [0.3333333333333333, \"#9c179e\"], [0.4444444444444444, \"#bd3786\"], [0.5555555555555556, \"#d8576b\"], [0.6666666666666666, \"#ed7953\"], [0.7777777777777778, \"#fb9f3a\"], [0.8888888888888888, \"#fdca26\"], [1.0, \"#f0f921\"]], \"type\": \"histogram2d\"}], \"histogram2dcontour\": [{\"colorbar\": {\"outlinewidth\": 0, \"ticks\": \"\"}, \"colorscale\": [[0.0, \"#0d0887\"], [0.1111111111111111, \"#46039f\"], [0.2222222222222222, \"#7201a8\"], [0.3333333333333333, \"#9c179e\"], [0.4444444444444444, \"#bd3786\"], [0.5555555555555556, \"#d8576b\"], [0.6666666666666666, \"#ed7953\"], [0.7777777777777778, \"#fb9f3a\"], [0.8888888888888888, \"#fdca26\"], [1.0, \"#f0f921\"]], \"type\": \"histogram2dcontour\"}], \"mesh3d\": [{\"colorbar\": {\"outlinewidth\": 0, \"ticks\": \"\"}, \"type\": \"mesh3d\"}], \"parcoords\": [{\"line\": {\"colorbar\": {\"outlinewidth\": 0, \"ticks\": \"\"}}, \"type\": \"parcoords\"}], \"scatter\": [{\"marker\": {\"colorbar\": {\"outlinewidth\": 0, \"ticks\": \"\"}}, \"type\": \"scatter\"}], \"scatter3d\": [{\"line\": {\"colorbar\": {\"outlinewidth\": 0, \"ticks\": \"\"}}, \"marker\": {\"colorbar\": {\"outlinewidth\": 0, \"ticks\": \"\"}}, \"type\": \"scatter3d\"}], \"scattercarpet\": [{\"marker\": {\"colorbar\": {\"outlinewidth\": 0, \"ticks\": \"\"}}, \"type\": \"scattercarpet\"}], \"scattergeo\": [{\"marker\": {\"colorbar\": {\"outlinewidth\": 0, \"ticks\": \"\"}}, \"type\": \"scattergeo\"}], \"scattergl\": [{\"marker\": {\"colorbar\": {\"outlinewidth\": 0, \"ticks\": \"\"}}, \"type\": \"scattergl\"}], \"scattermapbox\": [{\"marker\": {\"colorbar\": {\"outlinewidth\": 0, \"ticks\": \"\"}}, \"type\": \"scattermapbox\"}], \"scatterpolar\": [{\"marker\": {\"colorbar\": {\"outlinewidth\": 0, \"ticks\": \"\"}}, \"type\": \"scatterpolar\"}], \"scatterpolargl\": [{\"marker\": {\"colorbar\": {\"outlinewidth\": 0, \"ticks\": \"\"}}, \"type\": \"scatterpolargl\"}], \"scatterternary\": [{\"marker\": {\"colorbar\": {\"outlinewidth\": 0, \"ticks\": \"\"}}, \"type\": \"scatterternary\"}], \"surface\": [{\"colorbar\": {\"outlinewidth\": 0, \"ticks\": \"\"}, \"colorscale\": [[0.0, \"#0d0887\"], [0.1111111111111111, \"#46039f\"], [0.2222222222222222, \"#7201a8\"], [0.3333333333333333, \"#9c179e\"], [0.4444444444444444, \"#bd3786\"], [0.5555555555555556, \"#d8576b\"], [0.6666666666666666, \"#ed7953\"], [0.7777777777777778, \"#fb9f3a\"], [0.8888888888888888, \"#fdca26\"], [1.0, \"#f0f921\"]], \"type\": \"surface\"}], \"table\": [{\"cells\": {\"fill\": {\"color\": \"#EBF0F8\"}, \"line\": {\"color\": \"white\"}}, \"header\": {\"fill\": {\"color\": \"#C8D4E3\"}, \"line\": {\"color\": \"white\"}}, \"type\": \"table\"}]}, \"layout\": {\"annotationdefaults\": {\"arrowcolor\": \"#2a3f5f\", \"arrowhead\": 0, \"arrowwidth\": 1}, \"colorscale\": {\"diverging\": [[0, \"#8e0152\"], [0.1, \"#c51b7d\"], [0.2, \"#de77ae\"], [0.3, \"#f1b6da\"], [0.4, \"#fde0ef\"], [0.5, \"#f7f7f7\"], [0.6, \"#e6f5d0\"], [0.7, \"#b8e186\"], [0.8, \"#7fbc41\"], [0.9, \"#4d9221\"], [1, \"#276419\"]], \"sequential\": [[0.0, \"#0d0887\"], [0.1111111111111111, \"#46039f\"], [0.2222222222222222, \"#7201a8\"], [0.3333333333333333, \"#9c179e\"], [0.4444444444444444, \"#bd3786\"], [0.5555555555555556, \"#d8576b\"], [0.6666666666666666, \"#ed7953\"], [0.7777777777777778, \"#fb9f3a\"], [0.8888888888888888, \"#fdca26\"], [1.0, \"#f0f921\"]], \"sequentialminus\": [[0.0, \"#0d0887\"], [0.1111111111111111, \"#46039f\"], [0.2222222222222222, \"#7201a8\"], [0.3333333333333333, \"#9c179e\"], [0.4444444444444444, \"#bd3786\"], [0.5555555555555556, \"#d8576b\"], [0.6666666666666666, \"#ed7953\"], [0.7777777777777778, \"#fb9f3a\"], [0.8888888888888888, \"#fdca26\"], [1.0, \"#f0f921\"]]}, \"colorway\": [\"#636efa\", \"#EF553B\", \"#00cc96\", \"#ab63fa\", \"#FFA15A\", \"#19d3f3\", \"#FF6692\", \"#B6E880\", \"#FF97FF\", \"#FECB52\"], \"font\": {\"color\": \"#2a3f5f\"}, \"geo\": {\"bgcolor\": \"white\", \"lakecolor\": \"white\", \"landcolor\": \"#E5ECF6\", \"showlakes\": true, \"showland\": true, \"subunitcolor\": \"white\"}, \"hoverlabel\": {\"align\": \"left\"}, \"hovermode\": \"closest\", \"mapbox\": {\"style\": \"light\"}, \"paper_bgcolor\": \"white\", \"plot_bgcolor\": \"#E5ECF6\", \"polar\": {\"angularaxis\": {\"gridcolor\": \"white\", \"linecolor\": \"white\", \"ticks\": \"\"}, \"bgcolor\": \"#E5ECF6\", \"radialaxis\": {\"gridcolor\": \"white\", \"linecolor\": \"white\", \"ticks\": \"\"}}, \"scene\": {\"xaxis\": {\"backgroundcolor\": \"#E5ECF6\", \"gridcolor\": \"white\", \"gridwidth\": 2, \"linecolor\": \"white\", \"showbackground\": true, \"ticks\": \"\", \"zerolinecolor\": \"white\"}, \"yaxis\": {\"backgroundcolor\": \"#E5ECF6\", \"gridcolor\": \"white\", \"gridwidth\": 2, \"linecolor\": \"white\", \"showbackground\": true, \"ticks\": \"\", \"zerolinecolor\": \"white\"}, \"zaxis\": {\"backgroundcolor\": \"#E5ECF6\", \"gridcolor\": \"white\", \"gridwidth\": 2, \"linecolor\": \"white\", \"showbackground\": true, \"ticks\": \"\", \"zerolinecolor\": \"white\"}}, \"shapedefaults\": {\"line\": {\"color\": \"#2a3f5f\"}}, \"ternary\": {\"aaxis\": {\"gridcolor\": \"white\", \"linecolor\": \"white\", \"ticks\": \"\"}, \"baxis\": {\"gridcolor\": \"white\", \"linecolor\": \"white\", \"ticks\": \"\"}, \"bgcolor\": \"#E5ECF6\", \"caxis\": {\"gridcolor\": \"white\", \"linecolor\": \"white\", \"ticks\": \"\"}}, \"title\": {\"x\": 0.05}, \"xaxis\": {\"automargin\": true, \"gridcolor\": \"white\", \"linecolor\": \"white\", \"ticks\": \"\", \"zerolinecolor\": \"white\", \"zerolinewidth\": 2}, \"yaxis\": {\"automargin\": true, \"gridcolor\": \"white\", \"linecolor\": \"white\", \"ticks\": \"\", \"zerolinecolor\": \"white\", \"zerolinewidth\": 2}}}, \"width\": 600, \"xaxis\": {\"anchor\": \"y\", \"domain\": [0.0, 0.98], \"title\": {\"text\": \"% Moral Reputation Tweets\"}}, \"yaxis\": {\"anchor\": \"x\", \"domain\": [0.0, 1.0], \"title\": {\"text\": \"Agency\"}}},\n",
       "                        {\"responsive\": true}\n",
       "                    ).then(function(){\n",
       "                            \n",
       "var gd = document.getElementById('7c4e5b4a-efa5-43c7-8ab2-064e421ecbbe');\n",
       "var x = new MutationObserver(function (mutations, observer) {{\n",
       "        var display = window.getComputedStyle(gd).display;\n",
       "        if (!display || display === 'none') {{\n",
       "            console.log([gd, 'removed!']);\n",
       "            Plotly.purge(gd);\n",
       "            observer.disconnect();\n",
       "        }}\n",
       "}});\n",
       "\n",
       "// Listen for the removal of the full notebook cells\n",
       "var notebookContainer = gd.closest('#notebook-container');\n",
       "if (notebookContainer) {{\n",
       "    x.observe(notebookContainer, {childList: true});\n",
       "}}\n",
       "\n",
       "// Listen for the clearing of the current output cell\n",
       "var outputEl = gd.closest('.output');\n",
       "if (outputEl) {{\n",
       "    x.observe(outputEl, {childList: true});\n",
       "}}\n",
       "\n",
       "                        })\n",
       "                };\n",
       "                });\n",
       "            </script>\n",
       "        </div>"
      ]
     },
     "metadata": {},
     "output_type": "display_data"
    }
   ],
   "source": [
    "fig=px.scatter(df_moral_stats.reset_index().sort_values('moral_ptg'), x='moral_ptg', y='agency_id', error_x='ci_95',\n",
    "               labels=dict(agency_id='Agency', moral_ptg='% Moral Reputation Tweets')\n",
    "              )\n",
    "fig.update_layout(width=600, height=800,\n",
    "                  margin={'t': 0, 'b': 15, 'r':0, 'l':0},\n",
    "                 )\n",
    "fig.show()\n",
    "fig.write_image('../../output/fig/muy060_replicate.pdf')"
   ]
  },
  {
   "cell_type": "code",
   "execution_count": null,
   "metadata": {},
   "outputs": [],
   "source": []
  },
  {
   "cell_type": "markdown",
   "metadata": {},
   "source": [
    "## Traps.\n",
    "\n",
    "- Tried GridSearchCV, suffers from the \"tensor graph becomes larger and larger\" problem.\n",
    "\n",
    "<s>\n",
    "    \n",
    "```Python\n",
    "def create_model(num_filters, kernel_size, conv_act, act_first, act_second, out_act):\n",
    "    model = Sequential()\n",
    "    model.add(embedding_layer)\n",
    "    model.add(Conv1D(filters=num_filters, kernel_size=kernel_size, activation=conv_act))\n",
    "    model.add(GlobalMaxPool1D())\n",
    "    model.add(Dense(units=32, activation=act_first))\n",
    "    model.add(Dense(units=16, activation=act_second))\n",
    "    model.add(Dense(units=len(y_train[0]), activation=out_act))\n",
    "    model.compile(optimizer='adam', loss='categorical_crossentropy', metrics=['acc'])\n",
    "    return model\n",
    "\n",
    "from keras.wrappers.scikit_learn import KerasClassifier\n",
    "from sklearn.model_selection import GridSearchCV\n",
    "neural_network = KerasClassifier(build_fn=create_model, validation_split=0.3, verbose=0)\n",
    "grid = GridSearchCV(estimator=neural_network, param_grid=hyperparameters)\n",
    "grid_result = grid.fit(x_train, y_train, verbose=1)\n",
    "```\n",
    "    \n",
    "</s>"
   ]
  },
  {
   "cell_type": "markdown",
   "metadata": {},
   "source": [
    "- Give up trying multiprocessing: fail to send embedding layer (a pickle object) to threads.\n",
    "    - possible solution: buid embedding layer on remote engines/threads.\n",
    "        - Tried, looks like not working. Since it now only takes about 1.5 hours to complete the job, give up, move on.\n",
    "\n",
    "<s>\n",
    "\n",
    "```Python\n",
    "import ipyparallel as ipp\n",
    "c = ipp.Client()\n",
    "print(c.ids)\n",
    "dview = c[:]\n",
    "\n",
    "dview['Sequential']=Sequential\n",
    "dview['embedding_layer']=embedding_layer\n",
    "dview['Conv1D']=Conv1D\n",
    "dview['GlobalMaxPool1D']=GlobalMaxPool1D\n",
    "dview['Dense']=Dense\n",
    "\n",
    "@dview.parallel(block=True)\n",
    "def grid_search(params):\n",
    "    model = Sequential()\n",
    "    model.add(embedding_layer)\n",
    "    # model.add(Flatten())\n",
    "    model.add(Conv1D(params[0], params[1], activation=params[2]))\n",
    "    model.add(GlobalMaxPool1D())\n",
    "    model.add(Dense(units=32, activation=params[3]))\n",
    "    model.add(Dense(units=16, activation=params[4]))\n",
    "    model.add(Dense(units=len(y_train[0]), activation=params[5]))\n",
    "    # compile the model\n",
    "    model.compile(optimizer='adam', loss='categorical_crossentropy', metrics=['acc'])\n",
    "    # F1, precision, and recall removed. https://github.com/keras-team/keras/issues/5794\n",
    "    # fit the model\n",
    "    history=model.fit(x_train, y_train, validation_split=0.3, epochs=100, verbose=0)\n",
    "    return [[max(history.history['val_acc']), [num_filters, kernel_size, conv_act, act_32, act_16, out_act]]]\n",
    "\n",
    "grid_search.map(param_list)\n",
    "\n",
    "def grid_search(params):\n",
    "    with tf.device('/gpu:0'): # Specify which GPU to use.\n",
    "        model = Sequential()\n",
    "        model.add(embedding_layer)\n",
    "        # model.add(Flatten())\n",
    "        model.add(Conv1D(params[0], params[1], activation=params[2]))\n",
    "        model.add(GlobalMaxPool1D())\n",
    "        model.add(Dense(units=32, activation=params[3]))\n",
    "        model.add(Dense(units=16, activation=params[4]))\n",
    "        model.add(Dense(units=len(y_train[0]), activation=params[5]))\n",
    "        # compile the model\n",
    "        model.compile(optimizer='adam', loss='categorical_crossentropy', metrics=['acc'])\n",
    "        # F1, precision, and recall removed. https://github.com/keras-team/keras/issues/5794\n",
    "        # fit the model\n",
    "        history=model.fit(x_train, y_train, validation_split=0.3, epochs=100, verbose=0)\n",
    "    return [[max(history.history['val_acc']), [num_filters, kernel_size, conv_act, act_32, act_16, out_act]]]\n",
    "\n",
    "from multiprocessing import Pool\n",
    "# if __name__== \"__main__\":\n",
    "p=Pool(10)\n",
    "result_list=p.map(grid_search, param_list)\n",
    "```\n",
    "\n",
    "</s>"
   ]
  },
  {
   "cell_type": "code",
   "execution_count": null,
   "metadata": {},
   "outputs": [],
   "source": []
  }
 ],
 "metadata": {
  "kernelspec": {
   "display_name": "Python 3",
   "language": "python",
   "name": "python3"
  },
  "language_info": {
   "codemirror_mode": {
    "name": "ipython",
    "version": 3
   },
   "file_extension": ".py",
   "mimetype": "text/x-python",
   "name": "python",
   "nbconvert_exporter": "python",
   "pygments_lexer": "ipython3",
   "version": "3.7.3"
  }
 },
 "nbformat": 4,
 "nbformat_minor": 4
}
