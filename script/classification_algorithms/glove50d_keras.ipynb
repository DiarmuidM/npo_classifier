{
 "cells": [
  {
   "cell_type": "code",
   "execution_count": 241,
   "metadata": {},
   "outputs": [],
   "source": [
    "#https://richliao.github.io/supervised/classification/2016/11/26/textclassifier-convolutional/\n",
    "#https://blog.keras.io/using-pre-trained-word-embeddings-in-a-keras-model.html\n",
    "#RNN\n",
    "\n",
    "import os, pandas as pd\n",
    "import re\n",
    "\n",
    "from nltk import word_tokenize\n",
    "from nltk.stem import WordNetLemmatizer\n",
    "from nltk.corpus import wordnet\n",
    "import nltk\n",
    "from nltk.corpus import stopwords"
   ]
  },
  {
   "cell_type": "code",
   "execution_count": 242,
   "metadata": {},
   "outputs": [
    {
     "data": {
      "text/plain": [
       "25"
      ]
     },
     "execution_count": 242,
     "metadata": {},
     "output_type": "execute_result"
    }
   ],
   "source": [
    "file_list=os.listdir('../../dataset/df_train.pkl.gz/')\n",
    "df_train=pd.DataFrame()\n",
    "for file in file_list:\n",
    "    df_train=pd.concat([df_train, \n",
    "                        pd.read_pickle('../../dataset/df_train.pkl.gz/'+file, compression='gzip')])\n",
    "df_train['mission_prgrm']=df_train['mission']+'; '+df_train['prgrm_dsc']\n",
    "\n",
    "len(df_train['mission_prgrm'])\n",
    "len(df_train['NTEE1'].drop_duplicates())"
   ]
  },
  {
   "cell_type": "code",
   "execution_count": 243,
   "metadata": {},
   "outputs": [
    {
     "data": {
      "text/plain": [
       "154"
      ]
     },
     "execution_count": 243,
     "metadata": {},
     "output_type": "execute_result"
    }
   ],
   "source": [
    "small_num=0\n",
    "while small_num<100: # Make sure each category has at least 100 records.\n",
    "    trainDF = df_train[df_train.mission.notna() & df_train.NTEE1.notna()].sample(60000)\n",
    "    small_num=trainDF.groupby('NTEE1').count().sort_values('EIN').iloc[0]['EIN']\n",
    "\n",
    "small_num"
   ]
  },
  {
   "cell_type": "code",
   "execution_count": 244,
   "metadata": {},
   "outputs": [],
   "source": [
    "# def clean_str(string):\n",
    "#     \"\"\"\n",
    "#     Tokenization/string cleaning for dataset\n",
    "#     Every dataset is lower cased except\n",
    "#     \"\"\"    \n",
    "#     return string.strip().lower()\n",
    "\n",
    "# texts = []\n",
    "# labels = []\n",
    "\n",
    "# for idx in range(len(trainDF)):\n",
    "#     text = trainDF['mission_prgrm'].values[idx]\n",
    "#     texts.append(clean_str(text))\n",
    "#     labels.append(ord(trainDF['NTEE1'].values[idx]))\n",
    "\n",
    "texts=trainDF['mission_prgrm']\n",
    "labels=[ord(s) for s in trainDF['NTEE1']]"
   ]
  },
  {
   "cell_type": "code",
   "execution_count": 245,
   "metadata": {},
   "outputs": [
    {
     "name": "stderr",
     "output_type": "stream",
     "text": [
      "C:\\ProgramData\\Anaconda3\\lib\\site-packages\\keras_preprocessing\\text.py:175: UserWarning: The `nb_words` argument in `Tokenizer` has been renamed `num_words`.\n",
      "  warnings.warn('The `nb_words` argument in `Tokenizer` '\n"
     ]
    },
    {
     "name": "stdout",
     "output_type": "stream",
     "text": [
      "Found 84883 unique tokens.\n"
     ]
    }
   ],
   "source": [
    "from keras.preprocessing.text import Tokenizer\n",
    "from keras.preprocessing.sequence import pad_sequences\n",
    "import numpy as np\n",
    "\n",
    "MAX_NB_WORDS = 2000\n",
    "MAX_SEQUENCE_LENGTH=1000\n",
    "\n",
    "tokenizer = Tokenizer(nb_words=MAX_NB_WORDS)\n",
    "tokenizer.fit_on_texts(texts)\n",
    "sequences = tokenizer.texts_to_sequences(texts)\n",
    "\n",
    "word_index = tokenizer.word_index\n",
    "print('Found %s unique tokens.' % len(word_index))\n",
    "\n",
    "data = pad_sequences(sequences, maxlen=MAX_SEQUENCE_LENGTH)"
   ]
  },
  {
   "cell_type": "code",
   "execution_count": 246,
   "metadata": {},
   "outputs": [
    {
     "name": "stdout",
     "output_type": "stream",
     "text": [
      "Shape of data tensor: (60000, 1000)\n",
      "Shape of label tensor: (60000, 25)\n"
     ]
    }
   ],
   "source": [
    "#labels = to_categorical(np.asarray(labels))\n",
    "print('Shape of data tensor:', data.shape)\n",
    "\n",
    "labels1 = []\n",
    "\n",
    "for i in range(len(labels)):\n",
    "    pos = np.zeros((25,), dtype=int)\n",
    "    pos[labels[i]-65] = 1\n",
    "    labels1.append(np.asarray(pos))\n",
    "\n",
    "labels = np.asarray(labels1)\n",
    "print('Shape of label tensor:', labels.shape)\n",
    "\n",
    "# # split the data into a training set and a validation set\n",
    "# indices = np.arange(data.shape[0])\n",
    "# np.random.shuffle(indices)\n",
    "# data = data[indices]\n",
    "# labels = labels[indices]\n",
    "\n",
    "# VALIDATION_SPLIT = 0.7\n",
    "# nb_validation_samples = int(VALIDATION_SPLIT * data.shape[0])\n",
    "\n",
    "x_train = data\n",
    "y_train = labels\n",
    "# x_train = data[:nb_validation_samples]\n",
    "# y_train = labels[:nb_validation_samples]\n",
    "# x_val = data[nb_validation_samples:]\n",
    "# y_val = labels[nb_validation_samples:]"
   ]
  },
  {
   "cell_type": "code",
   "execution_count": 253,
   "metadata": {},
   "outputs": [
    {
     "name": "stdout",
     "output_type": "stream",
     "text": [
      "Found 400000 word vectors.\n"
     ]
    }
   ],
   "source": [
    "embeddings_index = {}\n",
    "f = open('../../dataset/glove.6B/glove.6B.200d.txt', encoding='utf8')\n",
    "for line in f:\n",
    "    values = line.split()\n",
    "    word = values[0]\n",
    "    coefs = np.asarray(values[1:], dtype='float32')\n",
    "    embeddings_index[word] = coefs\n",
    "f.close()\n",
    "\n",
    "print('Found %s word vectors.' % len(embeddings_index))\n",
    "\n",
    "EMBEDDING_DIM=200\n",
    "\n",
    "embedding_matrix = np.zeros((len(word_index) + 1, EMBEDDING_DIM))\n",
    "for word, i in word_index.items():\n",
    "    embedding_vector = embeddings_index.get(word)\n",
    "    if embedding_vector is not None:\n",
    "        # words not found in embedding index will be all-zeros.\n",
    "        embedding_matrix[i] = embedding_vector\n",
    "\n",
    "from keras.layers import Embedding\n",
    "\n",
    "embedding_layer = Embedding(len(word_index) + 1,\n",
    "                            EMBEDDING_DIM,\n",
    "                            weights=[embedding_matrix],\n",
    "                            input_length=MAX_SEQUENCE_LENGTH,\n",
    "                            trainable=False)"
   ]
  },
  {
   "cell_type": "code",
   "execution_count": 254,
   "metadata": {},
   "outputs": [],
   "source": [
    "import tensorflow as tf"
   ]
  },
  {
   "cell_type": "code",
   "execution_count": 255,
   "metadata": {},
   "outputs": [],
   "source": [
    "# Add metrics.\n",
    "# https://stackoverflow.com/questions/43076609/how-to-calculate-precision-and-recall-in-keras\n",
    "def as_keras_metric(method):\n",
    "    import functools\n",
    "    from keras import backend as K\n",
    "    import tensorflow as tf\n",
    "    @functools.wraps(method)\n",
    "    def wrapper(self, args, **kwargs):\n",
    "        \"\"\" Wrapper for turning tensorflow metrics into keras metrics \"\"\"\n",
    "        value, update_op = method(self, args, **kwargs)\n",
    "        K.get_session().run(tf.local_variables_initializer())\n",
    "        with tf.control_dependencies([update_op]):\n",
    "            value = tf.identity(value)\n",
    "        return value\n",
    "    return wrapper\n",
    "\n",
    "precision = as_keras_metric(tf.metrics.precision)\n",
    "recall = as_keras_metric(tf.metrics.recall)"
   ]
  },
  {
   "cell_type": "code",
   "execution_count": 256,
   "metadata": {},
   "outputs": [
    {
     "name": "stdout",
     "output_type": "stream",
     "text": [
      "_________________________________________________________________\n",
      "Layer (type)                 Output Shape              Param #   \n",
      "=================================================================\n",
      "input_13 (InputLayer)        (None, 1000)              0         \n",
      "_________________________________________________________________\n",
      "embedding_6 (Embedding)      (None, 1000, 200)         16976800  \n",
      "_________________________________________________________________\n",
      "flatten_13 (Flatten)         (None, 200000)            0         \n",
      "_________________________________________________________________\n",
      "dense_37 (Dense)             (None, 512)               102400512 \n",
      "_________________________________________________________________\n",
      "dense_38 (Dense)             (None, 128)               65664     \n",
      "_________________________________________________________________\n",
      "dense_39 (Dense)             (None, 25)                3225      \n",
      "=================================================================\n",
      "Total params: 119,446,201\n",
      "Trainable params: 102,469,401\n",
      "Non-trainable params: 16,976,800\n",
      "_________________________________________________________________\n",
      "Train on 11999 samples, validate on 48001 samples\n",
      "Epoch 1/2\n",
      "11999/11999 [==============================] - 486s 41ms/step - loss: 0.2667 - acc: 0.9581 - precision: 0.0413 - recall: 0.8054 - val_loss: 0.1236 - val_acc: 0.9672 - val_precision: 0.0402 - val_recall: 0.9678\n",
      "Epoch 2/2\n",
      "11999/11999 [==============================] - 483s 40ms/step - loss: 0.0982 - acc: 0.9732 - precision: 0.0401 - recall: 0.9812 - val_loss: 0.1173 - val_acc: 0.9684 - val_precision: 0.0401 - val_recall: 0.9863\n"
     ]
    }
   ],
   "source": [
    "from keras.layers import Input, Dense, Conv1D, MaxPooling1D, Flatten, BatchNormalization, GlobalMaxPooling1D, GRU, Dropout, LSTM\n",
    "from keras.models import Model\n",
    "\n",
    "sequence_input = Input(shape=(MAX_SEQUENCE_LENGTH,), dtype='int32')\n",
    "embedded_sequences = embedding_layer(sequence_input)\n",
    "'''\n",
    "x = GRU(units=128, activation='tanh', return_sequences=True)(embedded_sequences)\n",
    "\n",
    "x = LSTM(units=256, activation='tanh', return_sequences=False)(embedded_sequences)\n",
    "x = Dropout(0.2)(x)\n",
    "\n",
    "#x = LSTM(units=128, activation='tanh', return_sequences=True)(x)\n",
    "#x = Dropout(0.2)(x)\n",
    "'''\n",
    "x = Dropout(0.2)(x)\n",
    "x = Flatten()(embedded_sequences)\n",
    "x = Dense(units=512, activation='relu')(x)\n",
    "x = Dense(units=128, activation='relu')(x)\n",
    "preds = Dense(units=25, activation='softmax')(x) #softmax\n",
    "\n",
    "model = Model(sequence_input, preds)\n",
    "\n",
    "model.summary()\n",
    "model.compile(loss='binary_crossentropy',\n",
    "              optimizer='adagrad', #'rmsprop',\n",
    "              metrics=['acc',precision, recall])\n",
    "\n",
    "history = model.fit(x_train, y_train, validation_split=0.8,\n",
    "#                     validation_data=(x_val, y_val),\n",
    "                    epochs=2, batch_size=50)"
   ]
  },
  {
   "cell_type": "code",
   "execution_count": 240,
   "metadata": {},
   "outputs": [
    {
     "name": "stdout",
     "output_type": "stream",
     "text": [
      "18000/18000 [==============================] - 9s 516us/step\n"
     ]
    },
    {
     "data": {
      "text/plain": [
       "[0.1653863655196296,\n",
       " 0.9583415736754736,\n",
       " 0.040009556545151606,\n",
       " 0.9992453704277674]"
      ]
     },
     "execution_count": 240,
     "metadata": {},
     "output_type": "execute_result"
    }
   ],
   "source": [
    "score = model.evaluate(x_val, y_val, batch_size=500, verbose=1)\n",
    "score"
   ]
  },
  {
   "cell_type": "code",
   "execution_count": 156,
   "metadata": {},
   "outputs": [
    {
     "data": {
      "image/png": "[encoded data removed]",
      "text/plain": [
       "<Figure size 432x288 with 1 Axes>"
      ]
     },
     "metadata": {
      "needs_background": "light"
     },
     "output_type": "display_data"
    }
   ],
   "source": [
    "%matplotlib inline\n",
    "import matplotlib.pyplot as plt\n",
    "\n",
    "acc = history.history['acc']\n",
    "val_acc = history.history['val_acc']\n",
    "loss = history.history['loss']\n",
    "val_loss = history.history['val_loss']\n",
    "\n",
    "epochs = range(1, len(acc) + 1)\n",
    "\n",
    "# \"bo\" is for \"blue dot\"\n",
    "plt.plot(epochs, loss, 'bo', label='Training loss')\n",
    "# b is for \"solid blue line\"\n",
    "plt.plot(epochs, val_loss, 'b', label='Validation loss')\n",
    "plt.title('Training and validation loss')\n",
    "plt.xlabel('Epochs')\n",
    "plt.ylabel('Loss')\n",
    "plt.legend()\n",
    "\n",
    "plt.show()"
   ]
  },
  {
   "cell_type": "code",
   "execution_count": 157,
   "metadata": {},
   "outputs": [
    {
     "data": {
      "image/png": "[encoded data removed]",
      "text/plain": [
       "<Figure size 432x288 with 1 Axes>"
      ]
     },
     "metadata": {
      "needs_background": "light"
     },
     "output_type": "display_data"
    }
   ],
   "source": [
    "plt.clf()   # clear figure\n",
    "history_dict = history.history\n",
    "acc_values = history_dict['acc']\n",
    "val_acc_values = history_dict['val_acc']\n",
    "\n",
    "plt.plot(epochs, acc, 'bo', label='Training acc')\n",
    "plt.plot(epochs, val_acc, 'b', label='Validation acc')\n",
    "plt.title('Training and validation accuracy')\n",
    "plt.xlabel('Epochs')\n",
    "plt.ylabel('Accuracy')\n",
    "plt.legend()\n",
    "\n",
    "plt.show()"
   ]
  },
  {
   "cell_type": "code",
   "execution_count": null,
   "metadata": {},
   "outputs": [],
   "source": [
    "y_prob = model.predict_on_batch(x_val)\n",
    "y_classes = y_prob.argmax(axis=-1)\n",
    "\n",
    "y_classes_val=y_val.argmax(axis=-1)\n",
    "\n",
    "df_val=pd.DataFrame(y_classes, y_classes_val).reset_index().rename(columns={'index':'pred', 0:'val'})\n",
    "\n",
    "len(df_val[df_val.pred==df_val.val])/len(df_val)"
   ]
  },
  {
   "cell_type": "code",
   "execution_count": 201,
   "metadata": {},
   "outputs": [
    {
     "data": {
      "text/plain": [
       "2430"
      ]
     },
     "execution_count": 201,
     "metadata": {},
     "output_type": "execute_result"
    }
   ],
   "source": [
    "len([s.argmax() for s in y_prob if s.max()>.95])"
   ]
  },
  {
   "cell_type": "code",
   "execution_count": 197,
   "metadata": {},
   "outputs": [
    {
     "data": {
      "text/plain": [
       "array([0, 0, 0, 0, 1, 0, 0, 0, 0, 0, 0, 0, 0, 0, 0, 0, 0, 0, 0, 0, 0, 0,\n",
       "       0, 0, 0])"
      ]
     },
     "execution_count": 197,
     "metadata": {},
     "output_type": "execute_result"
    }
   ],
   "source": [
    "y_train[2]"
   ]
  },
  {
   "cell_type": "code",
   "execution_count": 184,
   "metadata": {},
   "outputs": [
    {
     "data": {
      "text/plain": [
       "array([1.3658514e-06, 7.4803807e-05, 7.3278275e-06, 7.9822043e-05,\n",
       "       9.0496486e-01, 8.8024892e-02, 7.5721636e-04, 4.3021572e-14,\n",
       "       4.7702071e-07, 6.1204897e-05, 1.4966492e-04, 3.0131851e-06,\n",
       "       3.2233221e-03, 1.3701534e-05, 1.5165291e-05, 5.0819141e-05,\n",
       "       7.9642095e-06, 1.6862612e-07, 1.9958215e-03, 4.7775809e-04,\n",
       "       1.2210985e-06, 1.3515674e-13, 8.4760832e-05, 1.7686153e-06,\n",
       "       2.9462549e-06], dtype=float32)"
      ]
     },
     "execution_count": 184,
     "metadata": {},
     "output_type": "execute_result"
    }
   ],
   "source": [
    "y_prob[0]"
   ]
  },
  {
   "cell_type": "code",
   "execution_count": 203,
   "metadata": {},
   "outputs": [
    {
     "data": {
      "text/plain": [
       "0.16151666666666667"
      ]
     },
     "execution_count": 203,
     "metadata": {},
     "output_type": "execute_result"
    }
   ],
   "source": [
    "y_prob = model.predict(x_train)\n",
    "y_classes = y_prob.argmax(axis=-1)\n",
    "y_classes_prob=[s.max() for s in y_prob]\n",
    "\n",
    "y_classes_val=y_train.argmax(axis=-1)"
   ]
  },
  {
   "cell_type": "code",
   "execution_count": 209,
   "metadata": {},
   "outputs": [
    {
     "data": {
      "text/plain": [
       "0.16151666666666667"
      ]
     },
     "execution_count": 209,
     "metadata": {},
     "output_type": "execute_result"
    }
   ],
   "source": [
    "df_val=pd.DataFrame({'pred':y_classes, \n",
    "                     'true':y_classes_val, \n",
    "                     'prob':y_classes_prob})\n",
    "\n",
    "len(df_val[df_val.pred==df_val.true])/len(df_val)"
   ]
  },
  {
   "cell_type": "code",
   "execution_count": 212,
   "metadata": {},
   "outputs": [],
   "source": [
    "df_95=df_val[df_val.prob>.95]"
   ]
  },
  {
   "cell_type": "code",
   "execution_count": 213,
   "metadata": {},
   "outputs": [
    {
     "data": {
      "text/plain": [
       "0.1337448559670782"
      ]
     },
     "execution_count": 213,
     "metadata": {},
     "output_type": "execute_result"
    }
   ],
   "source": [
    "len(df_95[df_95.pred==df_95.true])/len(df_95)"
   ]
  },
  {
   "cell_type": "code",
   "execution_count": 202,
   "metadata": {},
   "outputs": [
    {
     "data": {
      "text/plain": [
       "9691"
      ]
     },
     "execution_count": 202,
     "metadata": {},
     "output_type": "execute_result"
    }
   ],
   "source": [
    "len(df_val[df_val.pred==df_val.val])"
   ]
  },
  {
   "cell_type": "code",
   "execution_count": 171,
   "metadata": {},
   "outputs": [
    {
     "data": {
      "text/plain": [
       "array([18,  4, 13,  1, 19,  9, 24,  0, 23,  3,  6, 12, 17, 15, 11,  2, 10,\n",
       "        8, 22,  7, 21,  5, 16, 14, 20], dtype=int64)"
      ]
     },
     "execution_count": 171,
     "metadata": {},
     "output_type": "execute_result"
    }
   ],
   "source": [
    "df_val.val.unique()"
   ]
  },
  {
   "cell_type": "code",
   "execution_count": 172,
   "metadata": {},
   "outputs": [
    {
     "data": {
      "text/plain": [
       "array([ 4,  1, 15, 18, 13,  0,  5, 22, 11,  9, 12,  3, 23,  6],\n",
       "      dtype=int64)"
      ]
     },
     "execution_count": 172,
     "metadata": {},
     "output_type": "execute_result"
    }
   ],
   "source": [
    "df_val.pred.unique()"
   ]
  },
  {
   "cell_type": "code",
   "execution_count": 217,
   "metadata": {},
   "outputs": [
    {
     "data": {
      "text/plain": [
       "229472"
      ]
     },
     "execution_count": 217,
     "metadata": {},
     "output_type": "execute_result"
    }
   ],
   "source": [
    "len(df_train)"
   ]
  },
  {
   "cell_type": "code",
   "execution_count": 220,
   "metadata": {},
   "outputs": [
    {
     "data": {
      "text/plain": [
       "60000"
      ]
     },
     "execution_count": 220,
     "metadata": {},
     "output_type": "execute_result"
    }
   ],
   "source": [
    "len(trainDF)"
   ]
  },
  {
   "cell_type": "code",
   "execution_count": 221,
   "metadata": {},
   "outputs": [
    {
     "data": {
      "text/html": [
       "<div>\n",
       "<style scoped>\n",
       "    .dataframe tbody tr th:only-of-type {\n",
       "        vertical-align: middle;\n",
       "    }\n",
       "\n",
       "    .dataframe tbody tr th {\n",
       "        vertical-align: top;\n",
       "    }\n",
       "\n",
       "    .dataframe thead th {\n",
       "        text-align: right;\n",
       "    }\n",
       "</style>\n",
       "<table border=\"1\" class=\"dataframe\">\n",
       "  <thead>\n",
       "    <tr style=\"text-align: right;\">\n",
       "      <th></th>\n",
       "      <th>DLN</th>\n",
       "      <th>EIN</th>\n",
       "      <th>FILING_TYPE</th>\n",
       "      <th>IRS990EZ_p3_DscrptnPrgrmSrvcAccmTxt</th>\n",
       "      <th>IRS990EZ_p3_PrmryExmptPrpsTxt</th>\n",
       "      <th>IRS990PF_p16b_RltnshpSttmntTxt</th>\n",
       "      <th>IRS990PF_p9a_DscrptnTxt</th>\n",
       "      <th>IRS990ScheduleO_ExplntnTxt</th>\n",
       "      <th>IRS990_p1_ActvtyOrMssnDsc</th>\n",
       "      <th>IRS990_p3_DscS</th>\n",
       "      <th>...</th>\n",
       "      <th>RETURN_TYPE</th>\n",
       "      <th>SUB_DATE</th>\n",
       "      <th>TAXPAYER_NAME</th>\n",
       "      <th>TAX_PERIOD</th>\n",
       "      <th>YEAR</th>\n",
       "      <th>95_and_before</th>\n",
       "      <th>NTEE1</th>\n",
       "      <th>mission</th>\n",
       "      <th>prgrm_dsc</th>\n",
       "      <th>mission_prgrm</th>\n",
       "    </tr>\n",
       "  </thead>\n",
       "  <tbody>\n",
       "    <tr>\n",
       "      <th>1593371</th>\n",
       "      <td>9.349307e+13</td>\n",
       "      <td>166011713</td>\n",
       "      <td>EFILE</td>\n",
       "      <td>NaN</td>\n",
       "      <td>NaN</td>\n",
       "      <td>NaN</td>\n",
       "      <td>NaN</td>\n",
       "      <td></td>\n",
       "      <td>ENABLE PEOPLE IN THE COMMUNITY TO BREAK THE CY...</td>\n",
       "      <td>ENCOURAGING POSITIVE DEVELOPMENT - THE ORGANIZ...</td>\n",
       "      <td>...</td>\n",
       "      <td>990</td>\n",
       "      <td>3/27/2015</td>\n",
       "      <td>VOLUNTEERS OF AMERICA OF WESTERN NEW YORK INC</td>\n",
       "      <td>201406.0</td>\n",
       "      <td>2015.0</td>\n",
       "      <td>1.0</td>\n",
       "      <td>S</td>\n",
       "      <td>ENABLE PEOPLE IN THE COMMUNITY TO BREAK THE CY...</td>\n",
       "      <td>PROMOTING SELF-SUFFICIENCY - THE ORGANIZATION ...</td>\n",
       "      <td>ENABLE PEOPLE IN THE COMMUNITY TO BREAK THE CY...</td>\n",
       "    </tr>\n",
       "    <tr>\n",
       "      <th>1373465</th>\n",
       "      <td>9.349221e+13</td>\n",
       "      <td>200877262</td>\n",
       "      <td>EFILE</td>\n",
       "      <td>AMERICAN ADVERTISING FEDERATION DISTRICT 12 HE...</td>\n",
       "      <td>THE ORGANIZATION'S PURPOSE IS TO DEVELOP COOPE...</td>\n",
       "      <td>NaN</td>\n",
       "      <td>NaN</td>\n",
       "      <td></td>\n",
       "      <td>NaN</td>\n",
       "      <td>NaN</td>\n",
       "      <td>...</td>\n",
       "      <td>990EO</td>\n",
       "      <td>10/15/2014 6:36:43 AM</td>\n",
       "      <td>AMERICAN ADVERTISING FEDERATION DISTRICT 12</td>\n",
       "      <td>201406.0</td>\n",
       "      <td>2014.0</td>\n",
       "      <td>0.0</td>\n",
       "      <td>S</td>\n",
       "      <td>THE ORGANIZATION'S PURPOSE IS TO DEVELOP COOPE...</td>\n",
       "      <td>AMERICAN ADVERTISING FEDERATION DISTRICT 12 HE...</td>\n",
       "      <td>THE ORGANIZATION'S PURPOSE IS TO DEVELOP COOPE...</td>\n",
       "    </tr>\n",
       "    <tr>\n",
       "      <th>1875314</th>\n",
       "      <td>9.349323e+13</td>\n",
       "      <td>20481705</td>\n",
       "      <td>EFILE</td>\n",
       "      <td>NaN</td>\n",
       "      <td>NaN</td>\n",
       "      <td>NaN</td>\n",
       "      <td>NaN</td>\n",
       "      <td></td>\n",
       "      <td>Provide medical care to community - INACTIVE I...</td>\n",
       "      <td>Capital Region Physician Group (CRPG) was a pr...</td>\n",
       "      <td>...</td>\n",
       "      <td>990</td>\n",
       "      <td>10/10/2017 5:53:19 PM</td>\n",
       "      <td>CAPITAL REGION PHYSICIAN GROUP</td>\n",
       "      <td>201609.0</td>\n",
       "      <td>2017.0</td>\n",
       "      <td>0.0</td>\n",
       "      <td>E</td>\n",
       "      <td>Provide medical care to community - INACTIVE I...</td>\n",
       "      <td>Capital Region Physician Group (CRPG) was a pr...</td>\n",
       "      <td>Provide medical care to community - INACTIVE I...</td>\n",
       "    </tr>\n",
       "    <tr>\n",
       "      <th>2200617</th>\n",
       "      <td>9.349212e+13</td>\n",
       "      <td>43547470</td>\n",
       "      <td>EFILE</td>\n",
       "      <td>TO COMPENSATE COACHES TO TEACH BASEBALL SKILLS...</td>\n",
       "      <td>TO PROMOTE THE ATHLETIC SKILLS OF YOUNG MEN AN...</td>\n",
       "      <td>NaN</td>\n",
       "      <td>NaN</td>\n",
       "      <td></td>\n",
       "      <td>NaN</td>\n",
       "      <td>NaN</td>\n",
       "      <td>...</td>\n",
       "      <td>990EZ</td>\n",
       "      <td>8/30/2017 8:02:11 AM</td>\n",
       "      <td>ACTON-BOXBOROUGH BASEBALL BOOSTERS INC</td>\n",
       "      <td>201612.0</td>\n",
       "      <td>2017.0</td>\n",
       "      <td>0.0</td>\n",
       "      <td>N</td>\n",
       "      <td>TO PROMOTE THE ATHLETIC SKILLS OF YOUNG MEN AN...</td>\n",
       "      <td>TO PROVIDE SCHOLORSHIPS TO SENIOR VARSITY PLAY...</td>\n",
       "      <td>TO PROMOTE THE ATHLETIC SKILLS OF YOUNG MEN AN...</td>\n",
       "    </tr>\n",
       "    <tr>\n",
       "      <th>1005974</th>\n",
       "      <td>9.349313e+13</td>\n",
       "      <td>237087103</td>\n",
       "      <td>EFILE</td>\n",
       "      <td>NaN</td>\n",
       "      <td>NaN</td>\n",
       "      <td>NaN</td>\n",
       "      <td>NaN</td>\n",
       "      <td></td>\n",
       "      <td>TO PROMOTE AND SUPPORT CHARITABLE, SCIENTIFIC ...</td>\n",
       "      <td>TO SUPPORT THE OPERATIONS OF PARK TUDOR FOUNDA...</td>\n",
       "      <td>...</td>\n",
       "      <td>990</td>\n",
       "      <td>7/22/2015</td>\n",
       "      <td>PARK TUDOR TRUST</td>\n",
       "      <td>201406.0</td>\n",
       "      <td>2015.0</td>\n",
       "      <td>1.0</td>\n",
       "      <td>B</td>\n",
       "      <td>TO PROMOTE AND SUPPORT CHARITABLE, SCIENTIFIC ...</td>\n",
       "      <td>TO SUPPORT THE OPERATIONS OF PARK TUDOR FOUNDA...</td>\n",
       "      <td>TO PROMOTE AND SUPPORT CHARITABLE, SCIENTIFIC ...</td>\n",
       "    </tr>\n",
       "  </tbody>\n",
       "</table>\n",
       "<p>5 rows × 23 columns</p>\n",
       "</div>"
      ],
      "text/plain": [
       "                  DLN        EIN FILING_TYPE  \\\n",
       "1593371  9.349307e+13  166011713       EFILE   \n",
       "1373465  9.349221e+13  200877262       EFILE   \n",
       "1875314  9.349323e+13   20481705       EFILE   \n",
       "2200617  9.349212e+13   43547470       EFILE   \n",
       "1005974  9.349313e+13  237087103       EFILE   \n",
       "\n",
       "                       IRS990EZ_p3_DscrptnPrgrmSrvcAccmTxt  \\\n",
       "1593371                                                NaN   \n",
       "1373465  AMERICAN ADVERTISING FEDERATION DISTRICT 12 HE...   \n",
       "1875314                                                NaN   \n",
       "2200617  TO COMPENSATE COACHES TO TEACH BASEBALL SKILLS...   \n",
       "1005974                                                NaN   \n",
       "\n",
       "                             IRS990EZ_p3_PrmryExmptPrpsTxt  \\\n",
       "1593371                                                NaN   \n",
       "1373465  THE ORGANIZATION'S PURPOSE IS TO DEVELOP COOPE...   \n",
       "1875314                                                NaN   \n",
       "2200617  TO PROMOTE THE ATHLETIC SKILLS OF YOUNG MEN AN...   \n",
       "1005974                                                NaN   \n",
       "\n",
       "        IRS990PF_p16b_RltnshpSttmntTxt IRS990PF_p9a_DscrptnTxt  \\\n",
       "1593371                            NaN                     NaN   \n",
       "1373465                            NaN                     NaN   \n",
       "1875314                            NaN                     NaN   \n",
       "2200617                            NaN                     NaN   \n",
       "1005974                            NaN                     NaN   \n",
       "\n",
       "        IRS990ScheduleO_ExplntnTxt  \\\n",
       "1593371                              \n",
       "1373465                              \n",
       "1875314                              \n",
       "2200617                              \n",
       "1005974                              \n",
       "\n",
       "                                 IRS990_p1_ActvtyOrMssnDsc  \\\n",
       "1593371  ENABLE PEOPLE IN THE COMMUNITY TO BREAK THE CY...   \n",
       "1373465                                                NaN   \n",
       "1875314  Provide medical care to community - INACTIVE I...   \n",
       "2200617                                                NaN   \n",
       "1005974  TO PROMOTE AND SUPPORT CHARITABLE, SCIENTIFIC ...   \n",
       "\n",
       "                                            IRS990_p3_DscS  \\\n",
       "1593371  ENCOURAGING POSITIVE DEVELOPMENT - THE ORGANIZ...   \n",
       "1373465                                                NaN   \n",
       "1875314  Capital Region Physician Group (CRPG) was a pr...   \n",
       "2200617                                                NaN   \n",
       "1005974  TO SUPPORT THE OPERATIONS OF PARK TUDOR FOUNDA...   \n",
       "\n",
       "                               ...                         RETURN_TYPE  \\\n",
       "1593371                        ...                                 990   \n",
       "1373465                        ...                               990EO   \n",
       "1875314                        ...                                 990   \n",
       "2200617                        ...                               990EZ   \n",
       "1005974                        ...                                 990   \n",
       "\n",
       "                      SUB_DATE                                  TAXPAYER_NAME  \\\n",
       "1593371              3/27/2015  VOLUNTEERS OF AMERICA OF WESTERN NEW YORK INC   \n",
       "1373465  10/15/2014 6:36:43 AM    AMERICAN ADVERTISING FEDERATION DISTRICT 12   \n",
       "1875314  10/10/2017 5:53:19 PM                 CAPITAL REGION PHYSICIAN GROUP   \n",
       "2200617   8/30/2017 8:02:11 AM         ACTON-BOXBOROUGH BASEBALL BOOSTERS INC   \n",
       "1005974              7/22/2015                               PARK TUDOR TRUST   \n",
       "\n",
       "        TAX_PERIOD    YEAR 95_and_before  NTEE1  \\\n",
       "1593371   201406.0  2015.0           1.0      S   \n",
       "1373465   201406.0  2014.0           0.0      S   \n",
       "1875314   201609.0  2017.0           0.0      E   \n",
       "2200617   201612.0  2017.0           0.0      N   \n",
       "1005974   201406.0  2015.0           1.0      B   \n",
       "\n",
       "                                                   mission  \\\n",
       "1593371  ENABLE PEOPLE IN THE COMMUNITY TO BREAK THE CY...   \n",
       "1373465  THE ORGANIZATION'S PURPOSE IS TO DEVELOP COOPE...   \n",
       "1875314  Provide medical care to community - INACTIVE I...   \n",
       "2200617  TO PROMOTE THE ATHLETIC SKILLS OF YOUNG MEN AN...   \n",
       "1005974  TO PROMOTE AND SUPPORT CHARITABLE, SCIENTIFIC ...   \n",
       "\n",
       "                                                 prgrm_dsc  \\\n",
       "1593371  PROMOTING SELF-SUFFICIENCY - THE ORGANIZATION ...   \n",
       "1373465  AMERICAN ADVERTISING FEDERATION DISTRICT 12 HE...   \n",
       "1875314  Capital Region Physician Group (CRPG) was a pr...   \n",
       "2200617  TO PROVIDE SCHOLORSHIPS TO SENIOR VARSITY PLAY...   \n",
       "1005974  TO SUPPORT THE OPERATIONS OF PARK TUDOR FOUNDA...   \n",
       "\n",
       "                                             mission_prgrm  \n",
       "1593371  ENABLE PEOPLE IN THE COMMUNITY TO BREAK THE CY...  \n",
       "1373465  THE ORGANIZATION'S PURPOSE IS TO DEVELOP COOPE...  \n",
       "1875314  Provide medical care to community - INACTIVE I...  \n",
       "2200617  TO PROMOTE THE ATHLETIC SKILLS OF YOUNG MEN AN...  \n",
       "1005974  TO PROMOTE AND SUPPORT CHARITABLE, SCIENTIFIC ...  \n",
       "\n",
       "[5 rows x 23 columns]"
      ]
     },
     "execution_count": 221,
     "metadata": {},
     "output_type": "execute_result"
    }
   ],
   "source": [
    "trainDF.head()"
   ]
  },
  {
   "cell_type": "code",
   "execution_count": 222,
   "metadata": {},
   "outputs": [
    {
     "data": {
      "text/html": [
       "<div>\n",
       "<style scoped>\n",
       "    .dataframe tbody tr th:only-of-type {\n",
       "        vertical-align: middle;\n",
       "    }\n",
       "\n",
       "    .dataframe tbody tr th {\n",
       "        vertical-align: top;\n",
       "    }\n",
       "\n",
       "    .dataframe thead th {\n",
       "        text-align: right;\n",
       "    }\n",
       "</style>\n",
       "<table border=\"1\" class=\"dataframe\">\n",
       "  <thead>\n",
       "    <tr style=\"text-align: right;\">\n",
       "      <th></th>\n",
       "      <th>pred</th>\n",
       "      <th>true</th>\n",
       "      <th>prob</th>\n",
       "    </tr>\n",
       "  </thead>\n",
       "  <tbody>\n",
       "    <tr>\n",
       "      <th>0</th>\n",
       "      <td>4</td>\n",
       "      <td>18</td>\n",
       "      <td>0.904965</td>\n",
       "    </tr>\n",
       "    <tr>\n",
       "      <th>1</th>\n",
       "      <td>4</td>\n",
       "      <td>18</td>\n",
       "      <td>0.243975</td>\n",
       "    </tr>\n",
       "    <tr>\n",
       "      <th>2</th>\n",
       "      <td>4</td>\n",
       "      <td>4</td>\n",
       "      <td>0.172130</td>\n",
       "    </tr>\n",
       "    <tr>\n",
       "      <th>3</th>\n",
       "      <td>4</td>\n",
       "      <td>13</td>\n",
       "      <td>0.161313</td>\n",
       "    </tr>\n",
       "    <tr>\n",
       "      <th>4</th>\n",
       "      <td>1</td>\n",
       "      <td>1</td>\n",
       "      <td>0.240719</td>\n",
       "    </tr>\n",
       "  </tbody>\n",
       "</table>\n",
       "</div>"
      ],
      "text/plain": [
       "   pred  true      prob\n",
       "0     4    18  0.904965\n",
       "1     4    18  0.243975\n",
       "2     4     4  0.172130\n",
       "3     4    13  0.161313\n",
       "4     1     1  0.240719"
      ]
     },
     "execution_count": 222,
     "metadata": {},
     "output_type": "execute_result"
    }
   ],
   "source": [
    "df_val.head()"
   ]
  },
  {
   "cell_type": "code",
   "execution_count": null,
   "metadata": {},
   "outputs": [],
   "source": []
  }
 ],
 "metadata": {
  "kernelspec": {
   "display_name": "Python 3",
   "language": "python",
   "name": "python3"
  },
  "language_info": {
   "codemirror_mode": {
    "name": "ipython",
    "version": 3
   },
   "file_extension": ".py",
   "mimetype": "text/x-python",
   "name": "python",
   "nbconvert_exporter": "python",
   "pygments_lexer": "ipython3",
   "version": "3.6.6"
  }
 },
 "nbformat": 4,
 "nbformat_minor": 2
}
