{
 "cells": [
  {
   "cell_type": "code",
   "execution_count": 1,
   "metadata": {},
   "outputs": [],
   "source": [
    "from sklearn import model_selection, preprocessing, naive_bayes, metrics\n",
    "from sklearn.feature_extraction.text import TfidfVectorizer, CountVectorizer\n",
    "from sklearn import decomposition, ensemble\n",
    "from nltk.stem import PorterStemmer\n",
    "from nltk import word_tokenize\n",
    "from nltk.stem import WordNetLemmatizer\n",
    "from tqdm import tqdm\n",
    "import pandas as pd\n",
    "import datetime, os\n",
    "import re\n",
    "\n",
    "import warnings\n",
    "warnings.filterwarnings('ignore')"
   ]
  },
  {
   "cell_type": "code",
   "execution_count": 2,
   "metadata": {},
   "outputs": [
    {
     "data": {
      "text/plain": [
       "229472"
      ]
     },
     "execution_count": 2,
     "metadata": {},
     "output_type": "execute_result"
    }
   ],
   "source": [
    "# Test reading file.\n",
    "import os\n",
    "file_list=os.listdir('../../dataset/df_train.pkl.gz/')\n",
    "df_train=pd.DataFrame()\n",
    "for file in file_list:\n",
    "    df_train=pd.concat([df_train, \n",
    "                        pd.read_pickle('../../dataset/df_train.pkl.gz/'+file, compression='gzip')])\n",
    "len(df_train)"
   ]
  },
  {
   "cell_type": "markdown",
   "metadata": {},
   "source": [
    "### Try Mission Statements - MultinomialNB - LemmaTokenizer - Count."
   ]
  },
  {
   "cell_type": "code",
   "execution_count": null,
   "metadata": {},
   "outputs": [
    {
     "name": "stderr",
     "output_type": "stream",
     "text": [
      "  0%|          | 0/100 [00:00<?, ?it/s]"
     ]
    }
   ],
   "source": [
    "df_mission_MNB_lemma_count=pd.DataFrame(columns=['accuracy', 'precision', 'recall'])\n",
    "for trial in tqdm(range(0, 100)):\n",
    "    \n",
    "    ##########################################################\n",
    "    ################ Prepare dataframe for ML ################\n",
    "    #### Sample ####\n",
    "    small_num=0\n",
    "    while small_num<100: # Make sure each category has at least 100 records.\n",
    "        trainDF = df_train[df_train.mission.notna() & df_train.NTEE1.notna()].sample(100000)\n",
    "        small_num=trainDF.groupby('NTEE1').count().sort_values('EIN').iloc[0]['EIN']\n",
    "    #### Sample ####\n",
    "    trainDF['text'] = trainDF['mission'].astype(str)\n",
    "    trainDF['label'] = trainDF['NTEE1'].astype(str)\n",
    "    # split the dataset into training and validation datasets \n",
    "    x_train, x_valid, y_train, y_valid = model_selection.train_test_split(trainDF['text'], trainDF['label'],\n",
    "                                                                          train_size=0.7, shuffle=True)\n",
    "    ################ Prepare dataframe for ML ################\n",
    "    ##########################################################\n",
    "\n",
    "    ##########################################################\n",
    "    ################ Define tokenizer ################\n",
    "    # Source: http://jonathansoma.com/lede/algorithms-2017/classes/more-text-analysis/counting-and-stemming/\n",
    "    # Use NLTK's PorterStemmer\n",
    "    def stemming_tokenizer(str_input):\n",
    "        tokens = word_tokenize(str_input)\n",
    "        return [PorterStemmer().stem(token) for token in tokens]\n",
    "\n",
    "    # Source: https://scikit-learn.org/stable/modules/feature_extraction.html\n",
    "    # Use NLTK's Lemmatizer\n",
    "    class LemmaTokenizer(object):\n",
    "        def __init__(self):\n",
    "            self.wnl = WordNetLemmatizer()\n",
    "        def __call__(self, doc):\n",
    "             return [self.wnl.lemmatize(t) for t in word_tokenize(doc)]\n",
    "    ################ Define tokenizer ################\n",
    "    ##########################################################\n",
    "\n",
    "    ##########################################################\n",
    "    ######### Text Vectorization and Transformation ##########\n",
    "    # 1. Use Porter Stemmer.\n",
    "    # 2. Use word level, character level does not make sense for current situation.\n",
    "    # 3. Use count (freq) and tf-idf vectorizer. see: \n",
    "    # Bengfort, B., Bilbro, R., & Ojeda, T. (2018). Applied Text Analysis with Python: Enabling Language-Aware Data Products with Machine Learning (1 edition). Beijing Boston Farnham Sebastopol Tokyo: O’Reilly Media.\n",
    "    # Page: 67.\n",
    "\n",
    "    ##### Token counts #####\n",
    "    # create the transform\n",
    "    count_vect = CountVectorizer(stop_words='english', \n",
    "                                 tokenizer=LemmaTokenizer(), \n",
    "                                 analyzer='word'\n",
    "                                )\n",
    "    # tokenize and build vocab\n",
    "    count_vect.fit(trainDF['text'])\n",
    "    # Encode document: transform the training and validation data using count vectorizer object\n",
    "    x_train_vect_count =  count_vect.transform(x_train)\n",
    "    x_valid_vect_count =  count_vect.transform(x_valid)\n",
    "    ##### Token counts #####\n",
    "\n",
    "    ##### TF-IDF #####\n",
    "    # create the transform\n",
    "    tfidf_vect = TfidfVectorizer(stop_words='english', \n",
    "                                 tokenizer=LemmaTokenizer(), \n",
    "                                 analyzer='word'\n",
    "                                )\n",
    "    # tokenize and build vocab\n",
    "    tfidf_vect.fit(trainDF['text'])\n",
    "    # Encode document: transform the training and validation data using count vectorizer object\n",
    "    x_train_vect_tfidf =  tfidf_vect.transform(x_train)\n",
    "    x_valid_vect_tfidf =  tfidf_vect.transform(x_valid)\n",
    "    ##### TF-IDF #####\n",
    "\n",
    "    ######### Text Vectorization and Transformation ##########\n",
    "    ##########################################################\n",
    "\n",
    "    def func_performance(classifier, x_train, y_train, x_valid, y_valid):\n",
    "        # fit the training dataset on the classifier\n",
    "        classifier.fit(x_train, y_train)\n",
    "        # predict the labels on validation dataset\n",
    "        predictions = classifier.predict(x_valid)\n",
    "        return [metrics.accuracy_score(predictions, y_valid), \n",
    "                metrics.precision_score(predictions, y_valid, \n",
    "                                        average='macro', # Use unweighted mean.\n",
    "                                       ),\n",
    "                metrics.recall_score(predictions, y_valid, \n",
    "                                     average='macro',  # Use unweighted mean.\n",
    "                                    )]\n",
    "\n",
    "    performance_result=func_performance(classifier=naive_bayes.MultinomialNB(), \n",
    "                                        x_train=x_train_vect_count,\n",
    "                                        y_train= y_train, \n",
    "                                        x_valid=x_valid_vect_count,\n",
    "                                        y_valid=y_valid\n",
    "                                       )\n",
    "    df_mission_MNB_lemma.loc[trial]=performance_result"
   ]
  },
  {
   "cell_type": "code",
   "execution_count": 38,
   "metadata": {},
   "outputs": [],
   "source": []
  },
  {
   "cell_type": "code",
   "execution_count": 39,
   "metadata": {},
   "outputs": [],
   "source": []
  },
  {
   "cell_type": "code",
   "execution_count": 27,
   "metadata": {},
   "outputs": [
    {
     "name": "stdout",
     "output_type": "stream",
     "text": [
      "NB, TF IDF Vectors:  [0.5583666666666667, 0.29982304712090974, 0.5961215483457072, datetime.timedelta(microseconds=498992)]\n"
     ]
    },
    {
     "name": "stderr",
     "output_type": "stream",
     "text": [
      "/root/anaconda3/lib/python3.7/site-packages/sklearn/metrics/classification.py:1145: UndefinedMetricWarning: Recall is ill-defined and being set to 0.0 in labels with no true samples.\n",
      "  'recall', 'true', average, warn_for)\n"
     ]
    }
   ],
   "source": [
    "# Naive Bayes on Word Level TF IDF Vectors\n",
    "# Naive Bayes on Count Vectors\n",
    "accuracy = train_model(classifier=naive_bayes.MultinomialNB(), \n",
    "                       x_train=x_train_vect_tfidf,\n",
    "                       y_train= y_train, \n",
    "                       x_valid=x_valid_vect_tfidf,\n",
    "                       y_valid=y_valid\n",
    "                      )\n",
    "results.loc[len(results)] = [\"NB, Count Vectors\", accuracy[0], accuracy[1], accuracy[2], accuracy[3]]\n",
    "print(\"NB, TF IDF Vectors: \", accuracy)\n",
    "\n",
    "\n",
    "# Raw: MNB, Count Vectors:  [0.6732666666666667, 0.4503852200520778, 0.6661678975327818, datetime.timedelta(microseconds=489443)]\n",
    "# Raw: CNB, Count Vectors:  [0.7013333333333334, 0.5275971009306734, 0.6170202787685387, datetime.timedelta(microseconds=521657)]\n",
    "# Stemmed: MNB, Count Vectors:  [0.6601, 0.4243013182900721, 0.639930088219624, datetime.timedelta(microseconds=443571)]\n",
    "# Stemmed: CNB, Count Vectors:  [0.7, 0.5320034132229355, 0.6383184621220114, datetime.timedelta(microseconds=504788)]\n",
    "# Lemma: MNB, Count Vectors:  [0.6615, 0.42366552445612, 0.6783346552845068, datetime.timedelta(microseconds=572416)]\n",
    "# Lemma: CNB, Count Vectors:  [0.7021333333333334, 0.5341465196920103, 0.6318440519847688, datetime.timedelta(microseconds=586597)]\n",
    "\n",
    "# Raw: MNB, TF IDF Vectors:  [0.5859, 0.32327746269021723, 0.5485416630089535, datetime.timedelta(microseconds=536424)]\n",
    "# Raw: CNB, TF IDF Vectors:  [0.6992333333333334, 0.5306246321804787, 0.6136847132057796, datetime.timedelta(microseconds=580513)]\n",
    "# Stemmed: MNB, TF IDF Vectors:  [0.553, 0.2949552239378839, 0.536824161513825, datetime.timedelta(microseconds=453431)]\n",
    "# Stemmed: CNB, TF IDF Vectors:  [0.6967666666666666, 0.5349583083797411, 0.6223488506468897, datetime.timedelta(microseconds=520307)]\n",
    "# Lemma: MNB, TF IDF Vectors:  [0.5589666666666666, 0.297005157029138, 0.5293106710625075, datetime.timedelta(microseconds=529497)]\n",
    "# Lemma: CNB, TF IDF Vectors:  [0.7012333333333334, 0.536867845262306, 0.6273414839488708, datetime.timedelta(microseconds=546401)]"
   ]
  },
  {
   "cell_type": "markdown",
   "metadata": {},
   "source": [
    "**Looks like `Lemma-CNB-Count` produces best results.**"
   ]
  },
  {
   "cell_type": "code",
   "execution_count": null,
   "metadata": {},
   "outputs": [],
   "source": []
  }
 ],
 "metadata": {
  "kernelspec": {
   "display_name": "Python 3",
   "language": "python",
   "name": "python3"
  },
  "language_info": {
   "codemirror_mode": {
    "name": "ipython",
    "version": 3
   },
   "file_extension": ".py",
   "mimetype": "text/x-python",
   "name": "python",
   "nbconvert_exporter": "python",
   "pygments_lexer": "ipython3",
   "version": "3.7.0"
  }
 },
 "nbformat": 4,
 "nbformat_minor": 2
}
