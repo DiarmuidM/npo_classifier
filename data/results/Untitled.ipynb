{
 "cells": [
  {
   "cell_type": "code",
   "execution_count": 2,
   "metadata": {},
   "outputs": [
    {
     "name": "stdout",
     "output_type": "stream",
     "text": [
      "       acNB      acRF  acNN      prNB      prRF  prNN      rcNB      rcRF  \\\n",
      "0  0.641026  0.798688     0  0.682883  0.812322     0  0.641026  0.798688   \n",
      "1  0.638390  0.799148     0  0.681179  0.813079     0  0.638390  0.799148   \n",
      "2  0.642053  0.799746     0  0.682192  0.812307     0  0.642053  0.799746   \n",
      "3  0.642497  0.799822     0  0.684277  0.814512     0  0.642497  0.799822   \n",
      "4  0.639416  0.800359     0  0.681312  0.812768     0  0.639416  0.800359   \n",
      "5  0.641378  0.800129     0  0.683061  0.814069     0  0.641378  0.800129   \n",
      "6  0.636888  0.800757     0  0.679445  0.813387     0  0.636888  0.800757   \n",
      "7  0.643876  0.801232     0  0.684348  0.814091     0  0.643876  0.801232   \n",
      "8  0.641608  0.796098     0  0.684061  0.810518     0  0.641608  0.796098   \n",
      "9  0.638328  0.801064     0  0.680065  0.814535     0  0.638328  0.801064   \n",
      "\n",
      "   rcNN  \n",
      "0     0  \n",
      "1     0  \n",
      "2     0  \n",
      "3     0  \n",
      "4     0  \n",
      "5     0  \n",
      "6     0  \n",
      "7     0  \n",
      "8     0  \n",
      "9     0  \n"
     ]
    }
   ],
   "source": [
    "import pandas as pd\n",
    "print(pd.read_pickle('classifier_results_10.pkl.gz'))"
   ]
  },
  {
   "cell_type": "code",
   "execution_count": 3,
   "metadata": {},
   "outputs": [
    {
     "name": "stdout",
     "output_type": "stream",
     "text": [
      "                                             0  \\\n",
      "0   [0.640545925483164, 0.0021971493107746615]   \n",
      "1  [0.6822822885955704, 0.0017482352767297536]   \n",
      "2   [0.640545925483164, 0.0021971493107746615]   \n",
      "\n",
      "                                             1         2  \n",
      "0  [0.7997042009594311, 0.0015004904826526975]  [0, 0.0]  \n",
      "1  [0.8131587561780866, 0.0012487565469422976]  [0, 0.0]  \n",
      "2  [0.7997042009594311, 0.0015004904826526975]  [0, 0.0]  \n"
     ]
    }
   ],
   "source": [
    "print(pd.read_pickle('classifier_stats_10.pkl.gz'))"
   ]
  },
  {
   "cell_type": "code",
   "execution_count": null,
   "metadata": {},
   "outputs": [],
   "source": []
  }
 ],
 "metadata": {
  "kernelspec": {
   "display_name": "Python 3",
   "language": "python",
   "name": "python3"
  },
  "language_info": {
   "codemirror_mode": {
    "name": "ipython",
    "version": 3
   },
   "file_extension": ".py",
   "mimetype": "text/x-python",
   "name": "python",
   "nbconvert_exporter": "python",
   "pygments_lexer": "ipython3",
   "version": "3.6.6"
  }
 },
 "nbformat": 4,
 "nbformat_minor": 2
}
